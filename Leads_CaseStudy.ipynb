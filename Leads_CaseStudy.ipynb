{
 "cells": [
  {
   "cell_type": "code",
   "execution_count": 1,
   "metadata": {
    "id": "phMpIppxhJR8"
   },
   "outputs": [],
   "source": [
    "# Suppressing Warnings\n",
    "import warnings\n",
    "warnings.filterwarnings('ignore')"
   ]
  },
  {
   "cell_type": "code",
   "execution_count": 2,
   "metadata": {
    "id": "YJkQUjKCqFNL"
   },
   "outputs": [],
   "source": [
    "# Importing Pandas and NumPy\n",
    "import pandas as pd, numpy as np\n",
    "import matplotlib.pyplot as plt\n",
    "import seaborn as sns"
   ]
  },
  {
   "cell_type": "markdown",
   "metadata": {
    "id": "cuSqNQtvuBik"
   },
   "source": [
    "# 1.1 Data Load and normal inspection"
   ]
  },
  {
   "cell_type": "code",
   "execution_count": 3,
   "metadata": {
    "colab": {
     "base_uri": "https://localhost:8080/",
     "height": 555
    },
    "id": "NdBpVJSKqFRI",
    "outputId": "7244995b-d08d-40c2-ad52-aca560c8efc8"
   },
   "outputs": [
    {
     "data": {
      "text/html": [
       "<div>\n",
       "<style scoped>\n",
       "    .dataframe tbody tr th:only-of-type {\n",
       "        vertical-align: middle;\n",
       "    }\n",
       "\n",
       "    .dataframe tbody tr th {\n",
       "        vertical-align: top;\n",
       "    }\n",
       "\n",
       "    .dataframe thead th {\n",
       "        text-align: right;\n",
       "    }\n",
       "</style>\n",
       "<table border=\"1\" class=\"dataframe\">\n",
       "  <thead>\n",
       "    <tr style=\"text-align: right;\">\n",
       "      <th></th>\n",
       "      <th>Prospect ID</th>\n",
       "      <th>Lead Number</th>\n",
       "      <th>Lead Origin</th>\n",
       "      <th>Lead Source</th>\n",
       "      <th>Do Not Email</th>\n",
       "      <th>Do Not Call</th>\n",
       "      <th>Converted</th>\n",
       "      <th>TotalVisits</th>\n",
       "      <th>Total Time Spent on Website</th>\n",
       "      <th>Page Views Per Visit</th>\n",
       "      <th>...</th>\n",
       "      <th>Get updates on DM Content</th>\n",
       "      <th>Lead Profile</th>\n",
       "      <th>City</th>\n",
       "      <th>Asymmetrique Activity Index</th>\n",
       "      <th>Asymmetrique Profile Index</th>\n",
       "      <th>Asymmetrique Activity Score</th>\n",
       "      <th>Asymmetrique Profile Score</th>\n",
       "      <th>I agree to pay the amount through cheque</th>\n",
       "      <th>A free copy of Mastering The Interview</th>\n",
       "      <th>Last Notable Activity</th>\n",
       "    </tr>\n",
       "  </thead>\n",
       "  <tbody>\n",
       "    <tr>\n",
       "      <th>0</th>\n",
       "      <td>7927b2df-8bba-4d29-b9a2-b6e0beafe620</td>\n",
       "      <td>660737</td>\n",
       "      <td>API</td>\n",
       "      <td>Olark Chat</td>\n",
       "      <td>No</td>\n",
       "      <td>No</td>\n",
       "      <td>0</td>\n",
       "      <td>0.0</td>\n",
       "      <td>0</td>\n",
       "      <td>0.0</td>\n",
       "      <td>...</td>\n",
       "      <td>No</td>\n",
       "      <td>Select</td>\n",
       "      <td>Select</td>\n",
       "      <td>02.Medium</td>\n",
       "      <td>02.Medium</td>\n",
       "      <td>15.0</td>\n",
       "      <td>15.0</td>\n",
       "      <td>No</td>\n",
       "      <td>No</td>\n",
       "      <td>Modified</td>\n",
       "    </tr>\n",
       "    <tr>\n",
       "      <th>1</th>\n",
       "      <td>2a272436-5132-4136-86fa-dcc88c88f482</td>\n",
       "      <td>660728</td>\n",
       "      <td>API</td>\n",
       "      <td>Organic Search</td>\n",
       "      <td>No</td>\n",
       "      <td>No</td>\n",
       "      <td>0</td>\n",
       "      <td>5.0</td>\n",
       "      <td>674</td>\n",
       "      <td>2.5</td>\n",
       "      <td>...</td>\n",
       "      <td>No</td>\n",
       "      <td>Select</td>\n",
       "      <td>Select</td>\n",
       "      <td>02.Medium</td>\n",
       "      <td>02.Medium</td>\n",
       "      <td>15.0</td>\n",
       "      <td>15.0</td>\n",
       "      <td>No</td>\n",
       "      <td>No</td>\n",
       "      <td>Email Opened</td>\n",
       "    </tr>\n",
       "    <tr>\n",
       "      <th>2</th>\n",
       "      <td>8cc8c611-a219-4f35-ad23-fdfd2656bd8a</td>\n",
       "      <td>660727</td>\n",
       "      <td>Landing Page Submission</td>\n",
       "      <td>Direct Traffic</td>\n",
       "      <td>No</td>\n",
       "      <td>No</td>\n",
       "      <td>1</td>\n",
       "      <td>2.0</td>\n",
       "      <td>1532</td>\n",
       "      <td>2.0</td>\n",
       "      <td>...</td>\n",
       "      <td>No</td>\n",
       "      <td>Potential Lead</td>\n",
       "      <td>Mumbai</td>\n",
       "      <td>02.Medium</td>\n",
       "      <td>01.High</td>\n",
       "      <td>14.0</td>\n",
       "      <td>20.0</td>\n",
       "      <td>No</td>\n",
       "      <td>Yes</td>\n",
       "      <td>Email Opened</td>\n",
       "    </tr>\n",
       "    <tr>\n",
       "      <th>3</th>\n",
       "      <td>0cc2df48-7cf4-4e39-9de9-19797f9b38cc</td>\n",
       "      <td>660719</td>\n",
       "      <td>Landing Page Submission</td>\n",
       "      <td>Direct Traffic</td>\n",
       "      <td>No</td>\n",
       "      <td>No</td>\n",
       "      <td>0</td>\n",
       "      <td>1.0</td>\n",
       "      <td>305</td>\n",
       "      <td>1.0</td>\n",
       "      <td>...</td>\n",
       "      <td>No</td>\n",
       "      <td>Select</td>\n",
       "      <td>Mumbai</td>\n",
       "      <td>02.Medium</td>\n",
       "      <td>01.High</td>\n",
       "      <td>13.0</td>\n",
       "      <td>17.0</td>\n",
       "      <td>No</td>\n",
       "      <td>No</td>\n",
       "      <td>Modified</td>\n",
       "    </tr>\n",
       "    <tr>\n",
       "      <th>4</th>\n",
       "      <td>3256f628-e534-4826-9d63-4a8b88782852</td>\n",
       "      <td>660681</td>\n",
       "      <td>Landing Page Submission</td>\n",
       "      <td>Google</td>\n",
       "      <td>No</td>\n",
       "      <td>No</td>\n",
       "      <td>1</td>\n",
       "      <td>2.0</td>\n",
       "      <td>1428</td>\n",
       "      <td>1.0</td>\n",
       "      <td>...</td>\n",
       "      <td>No</td>\n",
       "      <td>Select</td>\n",
       "      <td>Mumbai</td>\n",
       "      <td>02.Medium</td>\n",
       "      <td>01.High</td>\n",
       "      <td>15.0</td>\n",
       "      <td>18.0</td>\n",
       "      <td>No</td>\n",
       "      <td>No</td>\n",
       "      <td>Modified</td>\n",
       "    </tr>\n",
       "  </tbody>\n",
       "</table>\n",
       "<p>5 rows × 37 columns</p>\n",
       "</div>"
      ],
      "text/plain": [
       "                            Prospect ID  Lead Number              Lead Origin  \\\n",
       "0  7927b2df-8bba-4d29-b9a2-b6e0beafe620       660737                      API   \n",
       "1  2a272436-5132-4136-86fa-dcc88c88f482       660728                      API   \n",
       "2  8cc8c611-a219-4f35-ad23-fdfd2656bd8a       660727  Landing Page Submission   \n",
       "3  0cc2df48-7cf4-4e39-9de9-19797f9b38cc       660719  Landing Page Submission   \n",
       "4  3256f628-e534-4826-9d63-4a8b88782852       660681  Landing Page Submission   \n",
       "\n",
       "      Lead Source Do Not Email Do Not Call  Converted  TotalVisits  \\\n",
       "0      Olark Chat           No          No          0          0.0   \n",
       "1  Organic Search           No          No          0          5.0   \n",
       "2  Direct Traffic           No          No          1          2.0   \n",
       "3  Direct Traffic           No          No          0          1.0   \n",
       "4          Google           No          No          1          2.0   \n",
       "\n",
       "   Total Time Spent on Website  Page Views Per Visit          ...           \\\n",
       "0                            0                   0.0          ...            \n",
       "1                          674                   2.5          ...            \n",
       "2                         1532                   2.0          ...            \n",
       "3                          305                   1.0          ...            \n",
       "4                         1428                   1.0          ...            \n",
       "\n",
       "  Get updates on DM Content    Lead Profile    City  \\\n",
       "0                        No          Select  Select   \n",
       "1                        No          Select  Select   \n",
       "2                        No  Potential Lead  Mumbai   \n",
       "3                        No          Select  Mumbai   \n",
       "4                        No          Select  Mumbai   \n",
       "\n",
       "  Asymmetrique Activity Index Asymmetrique Profile Index  \\\n",
       "0                   02.Medium                  02.Medium   \n",
       "1                   02.Medium                  02.Medium   \n",
       "2                   02.Medium                    01.High   \n",
       "3                   02.Medium                    01.High   \n",
       "4                   02.Medium                    01.High   \n",
       "\n",
       "  Asymmetrique Activity Score Asymmetrique Profile Score  \\\n",
       "0                        15.0                       15.0   \n",
       "1                        15.0                       15.0   \n",
       "2                        14.0                       20.0   \n",
       "3                        13.0                       17.0   \n",
       "4                        15.0                       18.0   \n",
       "\n",
       "  I agree to pay the amount through cheque  \\\n",
       "0                                       No   \n",
       "1                                       No   \n",
       "2                                       No   \n",
       "3                                       No   \n",
       "4                                       No   \n",
       "\n",
       "  A free copy of Mastering The Interview Last Notable Activity  \n",
       "0                                     No              Modified  \n",
       "1                                     No          Email Opened  \n",
       "2                                    Yes          Email Opened  \n",
       "3                                     No              Modified  \n",
       "4                                     No              Modified  \n",
       "\n",
       "[5 rows x 37 columns]"
      ]
     },
     "execution_count": 3,
     "metadata": {},
     "output_type": "execute_result"
    }
   ],
   "source": [
    "leads=pd.read_csv('Leads.csv')\n",
    "leads.head()"
   ]
  },
  {
   "cell_type": "code",
   "execution_count": 4,
   "metadata": {
    "colab": {
     "base_uri": "https://localhost:8080/"
    },
    "id": "PugUlGlFvVRU",
    "outputId": "30efc68f-3e1c-4e1e-bf5e-0f35cbcfa750"
   },
   "outputs": [
    {
     "data": {
      "text/plain": [
       "(9240, 37)"
      ]
     },
     "execution_count": 4,
     "metadata": {},
     "output_type": "execute_result"
    }
   ],
   "source": [
    "leads.shape"
   ]
  },
  {
   "cell_type": "code",
   "execution_count": 5,
   "metadata": {
    "colab": {
     "base_uri": "https://localhost:8080/"
    },
    "id": "vu8ih7ZerN6I",
    "outputId": "9af1f69a-2d92-45ab-c14c-0872b62ceaec"
   },
   "outputs": [
    {
     "data": {
      "text/plain": [
       "Prospect ID                                       object\n",
       "Lead Number                                        int64\n",
       "Lead Origin                                       object\n",
       "Lead Source                                       object\n",
       "Do Not Email                                      object\n",
       "Do Not Call                                       object\n",
       "Converted                                          int64\n",
       "TotalVisits                                      float64\n",
       "Total Time Spent on Website                        int64\n",
       "Page Views Per Visit                             float64\n",
       "Last Activity                                     object\n",
       "Country                                           object\n",
       "Specialization                                    object\n",
       "How did you hear about X Education                object\n",
       "What is your current occupation                   object\n",
       "What matters most to you in choosing a course     object\n",
       "Search                                            object\n",
       "Magazine                                          object\n",
       "Newspaper Article                                 object\n",
       "X Education Forums                                object\n",
       "Newspaper                                         object\n",
       "Digital Advertisement                             object\n",
       "Through Recommendations                           object\n",
       "Receive More Updates About Our Courses            object\n",
       "Tags                                              object\n",
       "Lead Quality                                      object\n",
       "Update me on Supply Chain Content                 object\n",
       "Get updates on DM Content                         object\n",
       "Lead Profile                                      object\n",
       "City                                              object\n",
       "Asymmetrique Activity Index                       object\n",
       "Asymmetrique Profile Index                        object\n",
       "Asymmetrique Activity Score                      float64\n",
       "Asymmetrique Profile Score                       float64\n",
       "I agree to pay the amount through cheque          object\n",
       "A free copy of Mastering The Interview            object\n",
       "Last Notable Activity                             object\n",
       "dtype: object"
      ]
     },
     "execution_count": 5,
     "metadata": {},
     "output_type": "execute_result"
    }
   ],
   "source": [
    "leads.dtypes"
   ]
  },
  {
   "cell_type": "code",
   "execution_count": 6,
   "metadata": {
    "colab": {
     "base_uri": "https://localhost:8080/"
    },
    "id": "0IAffyEzfIf3",
    "outputId": "ce1df103-4d2b-415e-c788-845a11b504b3"
   },
   "outputs": [
    {
     "data": {
      "text/plain": [
       "0"
      ]
     },
     "execution_count": 6,
     "metadata": {},
     "output_type": "execute_result"
    }
   ],
   "source": [
    "##Prsopect and Lead number seems like unique we shall remove them after checking for duplication\n",
    "\n",
    "leads.duplicated(['Prospect ID','Lead Number']).sum()\n"
   ]
  },
  {
   "cell_type": "code",
   "execution_count": 7,
   "metadata": {
    "id": "4gMniPutgMzG"
   },
   "outputs": [],
   "source": [
    "## Removing them\n",
    "\n",
    "leads.drop(['Prospect ID','Lead Number'],inplace=True,axis=1)"
   ]
  },
  {
   "cell_type": "markdown",
   "metadata": {
    "id": "exhYeRx8ZgAc"
   },
   "source": [
    "Identifying null value percentage present in each column"
   ]
  },
  {
   "cell_type": "code",
   "execution_count": 8,
   "metadata": {
    "colab": {
     "base_uri": "https://localhost:8080/"
    },
    "id": "u3_Vpw1nrN9H",
    "outputId": "93e8ca3b-b66f-4a42-8604-b19d5e928260"
   },
   "outputs": [
    {
     "data": {
      "text/plain": [
       "Lead Origin                                       0.000000\n",
       "Lead Source                                       0.389610\n",
       "Do Not Email                                      0.000000\n",
       "Do Not Call                                       0.000000\n",
       "Converted                                         0.000000\n",
       "TotalVisits                                       1.482684\n",
       "Total Time Spent on Website                       0.000000\n",
       "Page Views Per Visit                              1.482684\n",
       "Last Activity                                     1.114719\n",
       "Country                                          26.634199\n",
       "Specialization                                   15.562771\n",
       "How did you hear about X Education               23.885281\n",
       "What is your current occupation                  29.112554\n",
       "What matters most to you in choosing a course    29.318182\n",
       "Search                                            0.000000\n",
       "Magazine                                          0.000000\n",
       "Newspaper Article                                 0.000000\n",
       "X Education Forums                                0.000000\n",
       "Newspaper                                         0.000000\n",
       "Digital Advertisement                             0.000000\n",
       "Through Recommendations                           0.000000\n",
       "Receive More Updates About Our Courses            0.000000\n",
       "Tags                                             36.287879\n",
       "Lead Quality                                     51.590909\n",
       "Update me on Supply Chain Content                 0.000000\n",
       "Get updates on DM Content                         0.000000\n",
       "Lead Profile                                     29.318182\n",
       "City                                             15.367965\n",
       "Asymmetrique Activity Index                      45.649351\n",
       "Asymmetrique Profile Index                       45.649351\n",
       "Asymmetrique Activity Score                      45.649351\n",
       "Asymmetrique Profile Score                       45.649351\n",
       "I agree to pay the amount through cheque          0.000000\n",
       "A free copy of Mastering The Interview            0.000000\n",
       "Last Notable Activity                             0.000000\n",
       "dtype: float64"
      ]
     },
     "execution_count": 8,
     "metadata": {},
     "output_type": "execute_result"
    }
   ],
   "source": [
    "\n",
    "\n",
    "a=((leads.isnull().sum()/len(leads))*100)\n",
    "a"
   ]
  },
  {
   "cell_type": "code",
   "execution_count": 9,
   "metadata": {
    "colab": {
     "base_uri": "https://localhost:8080/"
    },
    "id": "M5hHWBRzrN_d",
    "outputId": "151d4c96-6447-4612-dcc1-32f8e9a47390"
   },
   "outputs": [
    {
     "data": {
      "text/plain": [
       "Index(['Lead Quality', 'Asymmetrique Profile Score',\n",
       "       'Asymmetrique Activity Score', 'Asymmetrique Profile Index',\n",
       "       'Asymmetrique Activity Index'],\n",
       "      dtype='object')"
      ]
     },
     "execution_count": 9,
     "metadata": {},
     "output_type": "execute_result"
    }
   ],
   "source": [
    "##Extracting the column whose missing value is >40% for further inspection\n",
    "\n",
    "a[a>40].sort_values(ascending=False).index"
   ]
  },
  {
   "cell_type": "markdown",
   "metadata": {
    "id": "rmCUMEU5t59K"
   },
   "source": [
    "Based on the above inference we could see that Lead Quality and all type of assymetric data are handled by the company/client . Since there are more than 40% of missing values we shall remove them."
   ]
  },
  {
   "cell_type": "code",
   "execution_count": 10,
   "metadata": {
    "colab": {
     "base_uri": "https://localhost:8080/"
    },
    "id": "dwtb9002uuwV",
    "outputId": "ca47509d-5724-4f82-b206-2471f467397e"
   },
   "outputs": [
    {
     "data": {
      "text/plain": [
       "Index(['Lead Quality', 'Asymmetrique Activity Index',\n",
       "       'Asymmetrique Profile Index', 'Asymmetrique Activity Score',\n",
       "       'Asymmetrique Profile Score'],\n",
       "      dtype='object')"
      ]
     },
     "execution_count": 10,
     "metadata": {},
     "output_type": "execute_result"
    }
   ],
   "source": [
    "To_Remove_list=a[a>40].index\n",
    "To_Remove_list"
   ]
  },
  {
   "cell_type": "code",
   "execution_count": 11,
   "metadata": {
    "id": "g7mn3aZ9rOEZ"
   },
   "outputs": [],
   "source": [
    "leads.drop(To_Remove_list,axis=1,inplace=True)"
   ]
  },
  {
   "cell_type": "code",
   "execution_count": 12,
   "metadata": {
    "colab": {
     "base_uri": "https://localhost:8080/"
    },
    "id": "BApVQtK9rOGz",
    "outputId": "5140dbab-9343-4720-f584-135ab221b67a"
   },
   "outputs": [
    {
     "data": {
      "text/plain": [
       "Index(['Lead Origin', 'Lead Source', 'Do Not Email', 'Do Not Call',\n",
       "       'Converted', 'TotalVisits', 'Total Time Spent on Website',\n",
       "       'Page Views Per Visit', 'Last Activity', 'Country', 'Specialization',\n",
       "       'How did you hear about X Education', 'What is your current occupation',\n",
       "       'What matters most to you in choosing a course', 'Search', 'Magazine',\n",
       "       'Newspaper Article', 'X Education Forums', 'Newspaper',\n",
       "       'Digital Advertisement', 'Through Recommendations',\n",
       "       'Receive More Updates About Our Courses', 'Tags',\n",
       "       'Update me on Supply Chain Content', 'Get updates on DM Content',\n",
       "       'Lead Profile', 'City', 'I agree to pay the amount through cheque',\n",
       "       'A free copy of Mastering The Interview', 'Last Notable Activity'],\n",
       "      dtype='object')"
      ]
     },
     "execution_count": 12,
     "metadata": {},
     "output_type": "execute_result"
    }
   ],
   "source": [
    "leads.columns"
   ]
  },
  {
   "cell_type": "markdown",
   "metadata": {
    "id": "33OSVvLWzi7L"
   },
   "source": [
    "Let us try to impute other columns where we had the missing values\n",
    "\n"
   ]
  },
  {
   "cell_type": "code",
   "execution_count": 13,
   "metadata": {
    "colab": {
     "base_uri": "https://localhost:8080/"
    },
    "id": "hUjq5lmCqFVn",
    "outputId": "b6fd7e21-e911-41ae-f751-6cecbf761b0c"
   },
   "outputs": [
    {
     "data": {
      "text/plain": [
       "Index(['Lead Source', 'TotalVisits', 'Page Views Per Visit', 'Last Activity',\n",
       "       'Country', 'Specialization', 'How did you hear about X Education',\n",
       "       'What is your current occupation',\n",
       "       'What matters most to you in choosing a course', 'Tags', 'Lead Profile',\n",
       "       'City'],\n",
       "      dtype='object')"
      ]
     },
     "execution_count": 13,
     "metadata": {},
     "output_type": "execute_result"
    }
   ],
   "source": [
    "b=((leads.isnull().sum()/len(leads))*100>0)\n",
    "column_to_impute=b[b>0].index\n",
    "column_to_impute"
   ]
  },
  {
   "cell_type": "code",
   "execution_count": 14,
   "metadata": {
    "id": "T-soO7Lkvugz"
   },
   "outputs": [],
   "source": [
    "leads[column_to_impute]=leads[column_to_impute].fillna('missing')"
   ]
  },
  {
   "cell_type": "markdown",
   "metadata": {
    "id": "RKBmkIfR34Xb"
   },
   "source": [
    "Before imputing these columns first let us find are there any duplicate names available\n"
   ]
  },
  {
   "cell_type": "code",
   "execution_count": 15,
   "metadata": {
    "id": "ABolQjdY1UhG"
   },
   "outputs": [],
   "source": [
    "dup_list=list(set(leads['Lead Source'].values.tolist()))"
   ]
  },
  {
   "cell_type": "markdown",
   "metadata": {
    "id": "i46OYC9u7Y6X"
   },
   "source": [
    "We could find 'Google' and 'google' are duplicated but they are case sensitive.Instead of having a naive check we shall use the loop and temporarily impute the missing values to '0' as it might affect if we retain nan values"
   ]
  },
  {
   "cell_type": "code",
   "execution_count": 16,
   "metadata": {
    "colab": {
     "base_uri": "https://localhost:8080/"
    },
    "id": "cG6meSYR71Ff",
    "outputId": "18ee8198-ddbd-44fb-ea68-0ba2823a1aa5"
   },
   "outputs": [
    {
     "name": "stdout",
     "output_type": "stream",
     "text": [
      "Lead Source {'google': 2}\n",
      "Last Activity {}\n",
      "Country {}\n",
      "Specialization {}\n",
      "How did you hear about X Education {}\n",
      "What is your current occupation {}\n",
      "What matters most to you in choosing a course {}\n",
      "Tags {}\n",
      "Lead Profile {}\n",
      "City {}\n"
     ]
    }
   ],
   "source": [
    "for j in column_to_impute:\n",
    "  if j not in ['TotalVisits' ,'Page Views Per Visit']:\n",
    "    total_list=list(set(leads[j].values.tolist()))\n",
    "    dup={}\n",
    "    dup_list=[i.lower() for i in total_list]\n",
    "    for i in dup_list:\n",
    "      if i not in dup:\n",
    "        dup[i]=1\n",
    "      else:\n",
    "        dup[i]+=1\n",
    "    print(j,{k:v for (k,v) in dup.items() if v > 1})"
   ]
  },
  {
   "cell_type": "markdown",
   "metadata": {
    "id": "vAcst7Znx7yh"
   },
   "source": [
    "It seems like only the Lead source categorical variable has duplicates in the name of Google , we shall make it to google "
   ]
  },
  {
   "cell_type": "code",
   "execution_count": 17,
   "metadata": {
    "id": "0V0nFl1Ix7F0"
   },
   "outputs": [],
   "source": [
    "leads['Lead Source']=leads['Lead Source'].replace('Google','google')"
   ]
  },
  {
   "cell_type": "code",
   "execution_count": 18,
   "metadata": {
    "colab": {
     "base_uri": "https://localhost:8080/"
    },
    "id": "ZNfue_qIx7Ic",
    "outputId": "cb50c556-8c85-450e-b9f3-abc75b84e463"
   },
   "outputs": [
    {
     "data": {
      "text/plain": [
       "google               2873\n",
       "Direct Traffic       2543\n",
       "Olark Chat           1755\n",
       "Organic Search       1154\n",
       "Reference             534\n",
       "Welingak Website      142\n",
       "Referral Sites        125\n",
       "Facebook               55\n",
       "missing                36\n",
       "bing                    6\n",
       "Click2call              4\n",
       "Live Chat               2\n",
       "Social Media            2\n",
       "Press_Release           2\n",
       "NC_EDM                  1\n",
       "Pay per Click Ads       1\n",
       "youtubechannel          1\n",
       "blog                    1\n",
       "WeLearn                 1\n",
       "welearnblog_Home        1\n",
       "testone                 1\n",
       "Name: Lead Source, dtype: int64"
      ]
     },
     "execution_count": 18,
     "metadata": {},
     "output_type": "execute_result"
    }
   ],
   "source": [
    "leads['Lead Source'].value_counts()"
   ]
  },
  {
   "cell_type": "markdown",
   "metadata": {
    "id": "4YQj4oG8yYYh"
   },
   "source": [
    "Now we shall impute the missing values one by one based on mode count"
   ]
  },
  {
   "cell_type": "code",
   "execution_count": 19,
   "metadata": {
    "colab": {
     "base_uri": "https://localhost:8080/"
    },
    "id": "AbeiMU2yyXTJ",
    "outputId": "3dfdfa69-6cb6-4a68-908f-2791ed748515"
   },
   "outputs": [
    {
     "data": {
      "text/plain": [
       "Index(['Lead Source', 'TotalVisits', 'Page Views Per Visit', 'Last Activity',\n",
       "       'Country', 'Specialization', 'How did you hear about X Education',\n",
       "       'What is your current occupation',\n",
       "       'What matters most to you in choosing a course', 'Tags', 'Lead Profile',\n",
       "       'City'],\n",
       "      dtype='object')"
      ]
     },
     "execution_count": 19,
     "metadata": {},
     "output_type": "execute_result"
    }
   ],
   "source": [
    "column_to_impute"
   ]
  },
  {
   "cell_type": "markdown",
   "metadata": {
    "id": "HBT3sUw17BC-"
   },
   "source": [
    "# 1.2 Handling Categorical Variables"
   ]
  },
  {
   "cell_type": "markdown",
   "metadata": {
    "id": "guUXSnJP2ajB"
   },
   "source": [
    "Let us create a custom countplot to understand pictorically about the dependance of each variable with the target variable"
   ]
  },
  {
   "cell_type": "markdown",
   "metadata": {
    "id": "-gz751Ej4X0B"
   },
   "source": [
    "# Country vs converted"
   ]
  },
  {
   "cell_type": "code",
   "execution_count": 20,
   "metadata": {
    "id": "OdGK7OOCyXV4"
   },
   "outputs": [],
   "source": [
    "def plot(a):\n",
    "  plt.figure(figsize=(15,5))\n",
    "  s1=sns.countplot(leads[a], hue=leads.Converted)\n",
    "  s1.set_xticklabels(s1.get_xticklabels(),rotation=45)\n",
    "  plt.show()"
   ]
  },
  {
   "cell_type": "code",
   "execution_count": 21,
   "metadata": {
    "colab": {
     "base_uri": "https://localhost:8080/",
     "height": 406
    },
    "id": "zeIFiEoR3OkQ",
    "outputId": "5d37863c-fe0a-4d30-9ccf-bc328b9bfe2e"
   },
   "outputs": [
    {
     "data": {
      "image/png": "[encoded data removed]",
      "text/plain": [
       "<Figure size 1080x360 with 1 Axes>"
      ]
     },
     "metadata": {
      "needs_background": "light"
     },
     "output_type": "display_data"
    }
   ],
   "source": [
    "plot('Country')"
   ]
  },
  {
   "cell_type": "markdown",
   "metadata": {
    "id": "te293S2O244t"
   },
   "source": [
    "Here we could see that the data is skewed towards India mostly than other countries so we can remove this as this might not bring any insight to our model ."
   ]
  },
  {
   "cell_type": "code",
   "execution_count": 22,
   "metadata": {
    "id": "FT3deD_mHSHp"
   },
   "outputs": [],
   "source": [
    "##Remove column details\n",
    "\n",
    "cols_to_drop=[]\n",
    "cols_to_drop.append('Country')"
   ]
  },
  {
   "cell_type": "markdown",
   "metadata": {
    "id": "qkLAofx_4dov"
   },
   "source": [
    "# City vs Converted"
   ]
  },
  {
   "cell_type": "code",
   "execution_count": 23,
   "metadata": {
    "colab": {
     "base_uri": "https://localhost:8080/"
    },
    "id": "Fi5a5Zq724Yh",
    "outputId": "c61a42cc-b22d-45a7-9841-75741e7c8d8a"
   },
   "outputs": [
    {
     "data": {
      "text/plain": [
       "Mumbai                         3222\n",
       "Select                         2249\n",
       "missing                        1420\n",
       "Thane & Outskirts               752\n",
       "Other Cities                    686\n",
       "Other Cities of Maharashtra     457\n",
       "Other Metro Cities              380\n",
       "Tier II Cities                   74\n",
       "Name: City, dtype: int64"
      ]
     },
     "execution_count": 23,
     "metadata": {},
     "output_type": "execute_result"
    }
   ],
   "source": [
    "leads['City'].value_counts()"
   ]
  },
  {
   "cell_type": "code",
   "execution_count": 24,
   "metadata": {
    "id": "K-53zW4FyXX_"
   },
   "outputs": [],
   "source": [
    "leads['City']=leads['City'].replace(['Select','missing'],'Other Cities')"
   ]
  },
  {
   "cell_type": "code",
   "execution_count": 25,
   "metadata": {
    "colab": {
     "base_uri": "https://localhost:8080/",
     "height": 429
    },
    "id": "W_qWWPpQyXaq",
    "outputId": "0f710202-e90f-4348-ce6f-6ce9fcc6657b"
   },
   "outputs": [
    {
     "data": {
      "image/png": "[encoded data removed]",
      "text/plain": [
       "<Figure size 1080x360 with 1 Axes>"
      ]
     },
     "metadata": {
      "needs_background": "light"
     },
     "output_type": "display_data"
    }
   ],
   "source": [
    "plot('City')"
   ]
  },
  {
   "cell_type": "markdown",
   "metadata": {
    "id": "dxEu11zD5YLf"
   },
   "source": [
    "We need to consult with the business about the 'other cities' as we categorized the 'select' and 'missing cities' under this category and we can not drop this as we could see each city has fair relation with the target variable"
   ]
  },
  {
   "cell_type": "markdown",
   "metadata": {
    "id": "hTuMq2F55zoT"
   },
   "source": [
    "# Lead Source vs converted"
   ]
  },
  {
   "cell_type": "code",
   "execution_count": 26,
   "metadata": {
    "id": "oNoGL-KFQwFP"
   },
   "outputs": [],
   "source": [
    "a=(leads['Lead Source'].value_counts()/len(leads))*100<2\n",
    "others_to_impute=a[a].index.tolist()"
   ]
  },
  {
   "cell_type": "code",
   "execution_count": 27,
   "metadata": {
    "id": "z5pOKYovRr4K"
   },
   "outputs": [],
   "source": [
    "leads['Lead Source']=leads['Lead Source'].replace(others_to_impute,'other_lead_sources')\n",
    "leads['Lead Source']=leads['Lead Source'].fillna('google')"
   ]
  },
  {
   "cell_type": "code",
   "execution_count": 28,
   "metadata": {
    "colab": {
     "base_uri": "https://localhost:8080/",
     "height": 400
    },
    "id": "3GcK37-AyXer",
    "outputId": "e4280e76-b475-48c7-b7d2-ef556eff1111"
   },
   "outputs": [
    {
     "data": {
      "image/png": "[encoded data removed]",
      "text/plain": [
       "<Figure size 1080x360 with 1 Axes>"
      ]
     },
     "metadata": {
      "needs_background": "light"
     },
     "output_type": "display_data"
    }
   ],
   "source": [
    "plot('Lead Source')"
   ]
  },
  {
   "cell_type": "markdown",
   "metadata": {
    "id": "tJ0nuVspGcLO"
   },
   "source": [
    "Lead source with Google / Direct Traffic has the highest lead converion rate"
   ]
  },
  {
   "cell_type": "markdown",
   "metadata": {
    "id": "afiSshWvZ4um"
   },
   "source": [
    "We have grouped the data whose occurance is less than 2% into 'other_lead_sources' as they account to less interpretability "
   ]
  },
  {
   "cell_type": "markdown",
   "metadata": {
    "id": "DaxeqHQS6UqN"
   },
   "source": [
    "# Plotting last activity vs converted"
   ]
  },
  {
   "cell_type": "code",
   "execution_count": 29,
   "metadata": {
    "colab": {
     "base_uri": "https://localhost:8080/",
     "height": 429
    },
    "id": "9ia61gUdyXgk",
    "outputId": "065134dd-0881-46b0-bc1c-01262211e32d"
   },
   "outputs": [
    {
     "data": {
      "image/png": "[encoded data removed]",
      "text/plain": [
       "<Figure size 1080x360 with 1 Axes>"
      ]
     },
     "metadata": {
      "needs_background": "light"
     },
     "output_type": "display_data"
    }
   ],
   "source": [
    "plot('Last Activity')"
   ]
  },
  {
   "cell_type": "markdown",
   "metadata": {
    "id": "UJE9ROAR6oWY"
   },
   "source": [
    "If we observe the trend of Last Activity we could notice that there are many rare occurances which we can bin to a common category called 'other activity' so that we can reduce the level of categorical variables , also these variables which are to be binned are not of utmost importance so it will not affect the model performance and interpretability "
   ]
  },
  {
   "cell_type": "code",
   "execution_count": 30,
   "metadata": {
    "id": "QI7TtArVyXk9"
   },
   "outputs": [],
   "source": [
    "##Binning rare occurances which are less than 2% occurances \n",
    "\n",
    "bin=((leads['Last Activity'].value_counts()/len(leads))*100<=2)\n",
    "to_bin=bin[bin].index.tolist()\n"
   ]
  },
  {
   "cell_type": "code",
   "execution_count": 31,
   "metadata": {
    "id": "QgWOqJwYyXnE"
   },
   "outputs": [],
   "source": [
    "leads['Last Activity']=leads['Last Activity'].replace([to_bin],'other activity')"
   ]
  },
  {
   "cell_type": "code",
   "execution_count": 32,
   "metadata": {
    "colab": {
     "base_uri": "https://localhost:8080/",
     "height": 417
    },
    "id": "4igmumFfyXpD",
    "outputId": "0f1e6bf6-3330-4306-d633-9caaa8e11413"
   },
   "outputs": [
    {
     "data": {
      "image/png": "[encoded data removed]",
      "text/plain": [
       "<Figure size 1080x360 with 1 Axes>"
      ]
     },
     "metadata": {
      "needs_background": "light"
     },
     "output_type": "display_data"
    }
   ],
   "source": [
    "plot('Last Activity')"
   ]
  },
  {
   "cell_type": "code",
   "execution_count": 33,
   "metadata": {
    "colab": {
     "base_uri": "https://localhost:8080/",
     "height": 457
    },
    "id": "_SKNLDc88g0y",
    "outputId": "19ada59d-c3bd-40ce-f12a-2290a93d29da"
   },
   "outputs": [
    {
     "data": {
      "image/png": "[encoded data removed]",
      "text/plain": [
       "<Figure size 1080x360 with 1 Axes>"
      ]
     },
     "metadata": {
      "needs_background": "light"
     },
     "output_type": "display_data"
    }
   ],
   "source": [
    "plot('Specialization')"
   ]
  },
  {
   "cell_type": "markdown",
   "metadata": {
    "id": "JPKmQeLy88x_"
   },
   "source": [
    "We can not simply impute the select and missing to its mode as these missing values seem to be more dominating and we can bin it to others and retain without imputing or deleting the columns. Also we can group management related courses under common category as 'management courses'"
   ]
  },
  {
   "cell_type": "code",
   "execution_count": 34,
   "metadata": {
    "colab": {
     "base_uri": "https://localhost:8080/"
    },
    "id": "QPWXZsuBBsi_",
    "outputId": "16310cba-bbab-4c9f-a235-3cb3e480a573"
   },
   "outputs": [
    {
     "name": "stdout",
     "output_type": "stream",
     "text": [
      "['Supply Chain Management', 'Retail Management', 'Finance Management', 'IT Projects Management', 'Hospitality Management', 'Operations Management', 'Healthcare Management', 'Human Resource Management', 'Marketing Management']\n"
     ]
    }
   ],
   "source": [
    "total_manag=list(set(leads['Specialization'].values.tolist()))\n",
    "to_replace=[i for i in total_manag if 'management' in i.lower()]\n",
    "print(to_replace)\n",
    "    "
   ]
  },
  {
   "cell_type": "code",
   "execution_count": 35,
   "metadata": {
    "id": "bSNcrvehDG5y"
   },
   "outputs": [],
   "source": [
    "leads['Specialization']=leads['Specialization'].replace(to_replace,'management courses')"
   ]
  },
  {
   "cell_type": "code",
   "execution_count": 36,
   "metadata": {
    "colab": {
     "base_uri": "https://localhost:8080/"
    },
    "id": "0nM9X6Jx1nlx",
    "outputId": "32232a21-f71e-47bb-89a2-3ac6fe6ea3c3"
   },
   "outputs": [
    {
     "data": {
      "text/plain": [
       "['Business Administration',\n",
       " 'E-COMMERCE',\n",
       " 'Travel and Tourism',\n",
       " 'Services Excellence',\n",
       " 'management courses',\n",
       " 'missing',\n",
       " 'International Business',\n",
       " 'E-Business',\n",
       " 'Media and Advertising',\n",
       " 'Rural and Agribusiness',\n",
       " 'Banking, Investment And Insurance',\n",
       " 'Select']"
      ]
     },
     "execution_count": 36,
     "metadata": {},
     "output_type": "execute_result"
    }
   ],
   "source": [
    "list(set(leads['Specialization'].values.tolist()))"
   ]
  },
  {
   "cell_type": "code",
   "execution_count": 37,
   "metadata": {
    "id": "xZdLIRy71g9x"
   },
   "outputs": [],
   "source": [
    "## We can also bin business related courses together\n",
    "leads['Specialization']=leads['Specialization'].replace(['E-Business','Rural and Agribusiness',\n",
    "                                                         'Business Administration','International Business'],'business courses')"
   ]
  },
  {
   "cell_type": "code",
   "execution_count": 38,
   "metadata": {
    "id": "CRNL2sWj8g5N"
   },
   "outputs": [],
   "source": [
    "leads['Specialization']=leads['Specialization'].replace(['Select','missing'],'other specialisation')"
   ]
  },
  {
   "cell_type": "code",
   "execution_count": 39,
   "metadata": {
    "colab": {
     "base_uri": "https://localhost:8080/",
     "height": 458
    },
    "id": "HreKHYHv9XkV",
    "outputId": "64a05d46-0c36-437e-c598-126374f90235"
   },
   "outputs": [
    {
     "data": {
      "image/png": "[encoded data removed]",
      "text/plain": [
       "<Figure size 1080x360 with 1 Axes>"
      ]
     },
     "metadata": {
      "needs_background": "light"
     },
     "output_type": "display_data"
    }
   ],
   "source": [
    "plot('Specialization')"
   ]
  },
  {
   "cell_type": "markdown",
   "metadata": {
    "id": "hjCeyzvOGs9l"
   },
   "source": [
    "Management type of courses has the highest lead conversion\n",
    "\n",
    "---\n",
    "\n"
   ]
  },
  {
   "cell_type": "code",
   "execution_count": 40,
   "metadata": {
    "colab": {
     "base_uri": "https://localhost:8080/",
     "height": 413
    },
    "id": "WxXIVVTm9X5D",
    "outputId": "85addfcf-6da0-4342-e02f-73d689839125"
   },
   "outputs": [
    {
     "data": {
      "image/png": "[encoded data removed]",
      "text/plain": [
       "<Figure size 1080x360 with 1 Axes>"
      ]
     },
     "metadata": {
      "needs_background": "light"
     },
     "output_type": "display_data"
    }
   ],
   "source": [
    "plot('How did you hear about X Education')"
   ]
  },
  {
   "cell_type": "markdown",
   "metadata": {
    "id": "G-Laxw59G9ur"
   },
   "source": [
    "We could observe that 'How did you hear about X Education' is almost having missing values and resonating same as that of 'Last Activity' so we can remove them"
   ]
  },
  {
   "cell_type": "code",
   "execution_count": 41,
   "metadata": {
    "id": "et8yMmaw9X6_"
   },
   "outputs": [],
   "source": [
    "cols_to_drop.append('How did you hear about X Education')"
   ]
  },
  {
   "cell_type": "code",
   "execution_count": 42,
   "metadata": {
    "colab": {
     "base_uri": "https://localhost:8080/",
     "height": 404
    },
    "id": "OTJ_1-aIHjJG",
    "outputId": "81b57103-1140-45cf-85cf-31d3eafa5617"
   },
   "outputs": [
    {
     "data": {
      "image/png": "[encoded data removed]",
      "text/plain": [
       "<Figure size 1080x360 with 1 Axes>"
      ]
     },
     "metadata": {
      "needs_background": "light"
     },
     "output_type": "display_data"
    }
   ],
   "source": [
    "plot('What is your current occupation')"
   ]
  },
  {
   "cell_type": "code",
   "execution_count": 43,
   "metadata": {
    "colab": {
     "base_uri": "https://localhost:8080/"
    },
    "id": "5GyUXOs7T6eH",
    "outputId": "5349235f-0ce0-485f-de3a-5e37b796aa56"
   },
   "outputs": [
    {
     "data": {
      "text/plain": [
       "Unemployed              60.61\n",
       "missing                 29.11\n",
       "Working Professional     7.64\n",
       "Student                  2.27\n",
       "Other                    0.17\n",
       "Housewife                0.11\n",
       "Businessman              0.09\n",
       "Name: What is your current occupation, dtype: float64"
      ]
     },
     "execution_count": 43,
     "metadata": {},
     "output_type": "execute_result"
    }
   ],
   "source": [
    "round(leads['What is your current occupation'].value_counts()/len(leads)*100,2)"
   ]
  },
  {
   "cell_type": "code",
   "execution_count": 44,
   "metadata": {
    "id": "1yUuW8-2HjMP"
   },
   "outputs": [],
   "source": [
    "##Tagging missing values with others\n",
    "\n",
    "leads['What is your current occupation']=leads['What is your current occupation'].replace(['missing','Housewife','Businessman'],'Other')"
   ]
  },
  {
   "cell_type": "code",
   "execution_count": 45,
   "metadata": {
    "colab": {
     "base_uri": "https://localhost:8080/",
     "height": 404
    },
    "id": "XxDAQ-M4HjOZ",
    "outputId": "9bbefd86-9074-4ee6-b696-a10f0c28d7c8"
   },
   "outputs": [
    {
     "data": {
      "image/png": "[encoded data removed]",
      "text/plain": [
       "<Figure size 1080x360 with 1 Axes>"
      ]
     },
     "metadata": {
      "needs_background": "light"
     },
     "output_type": "display_data"
    }
   ],
   "source": [
    "plot('What is your current occupation')"
   ]
  },
  {
   "cell_type": "markdown",
   "metadata": {
    "id": "nGZi31vTG9jA"
   },
   "source": [
    "We shall focus on working professional here and unemployed as the latter may be eager in upskilling themselves for industy ready"
   ]
  },
  {
   "cell_type": "code",
   "execution_count": 46,
   "metadata": {
    "colab": {
     "base_uri": "https://localhost:8080/",
     "height": 424
    },
    "id": "HpuyrLCFHjRS",
    "outputId": "8969ce81-4ccf-4f03-e5c2-5a7cb32c70f8"
   },
   "outputs": [
    {
     "data": {
      "image/png": "[encoded data removed]",
      "text/plain": [
       "<Figure size 1080x360 with 1 Axes>"
      ]
     },
     "metadata": {
      "needs_background": "light"
     },
     "output_type": "display_data"
    }
   ],
   "source": [
    "plot('What matters most to you in choosing a course')"
   ]
  },
  {
   "cell_type": "code",
   "execution_count": 47,
   "metadata": {
    "id": "O2FVpkZ8J4-j"
   },
   "outputs": [],
   "source": [
    "leads['What matters most to you in choosing a course']=leads['What matters most to you in choosing a course'].replace('missing','Other')"
   ]
  },
  {
   "cell_type": "code",
   "execution_count": 48,
   "metadata": {
    "colab": {
     "base_uri": "https://localhost:8080/",
     "height": 424
    },
    "id": "b3T-O5A3J5Bf",
    "outputId": "59c5b3f3-2584-4360-e720-c78d332fae81"
   },
   "outputs": [
    {
     "data": {
      "image/png": "[encoded data removed]",
      "text/plain": [
       "<Figure size 1080x360 with 1 Axes>"
      ]
     },
     "metadata": {
      "needs_background": "light"
     },
     "output_type": "display_data"
    }
   ],
   "source": [
    "plot('What matters most to you in choosing a course')"
   ]
  },
  {
   "cell_type": "markdown",
   "metadata": {
    "id": "O9VoqqRX3_HT"
   },
   "source": [
    "We oserver that the above data is skewed towards 'Better Carrer Prospect' and there is no evidence for others so we shall remove this column"
   ]
  },
  {
   "cell_type": "code",
   "execution_count": 49,
   "metadata": {
    "colab": {
     "base_uri": "https://localhost:8080/",
     "height": 510
    },
    "id": "pRToAN-IJ5Dp",
    "outputId": "7539c7df-ced1-4436-ab22-9ab374443b77"
   },
   "outputs": [
    {
     "data": {
      "image/png": "[encoded data removed]",
      "text/plain": [
       "<Figure size 1080x360 with 1 Axes>"
      ]
     },
     "metadata": {
      "needs_background": "light"
     },
     "output_type": "display_data"
    }
   ],
   "source": [
    "plot('Tags')"
   ]
  },
  {
   "cell_type": "code",
   "execution_count": 50,
   "metadata": {
    "colab": {
     "base_uri": "https://localhost:8080/"
    },
    "id": "M3MchP5BJ5Fl",
    "outputId": "689dcd17-8e1b-4660-856d-99b501f416dd"
   },
   "outputs": [
    {
     "data": {
      "text/plain": [
       "['Lost to EINS',\n",
       " 'Not doing further education',\n",
       " 'Interested  in full time MBA',\n",
       " 'Graduation in progress',\n",
       " 'invalid number',\n",
       " 'Diploma holder (Not Eligible)',\n",
       " 'wrong number given',\n",
       " 'opp hangup',\n",
       " 'number not provided',\n",
       " 'in touch with EINS',\n",
       " 'Lost to Others',\n",
       " 'Still Thinking',\n",
       " 'Want to take admission but has financial problems',\n",
       " 'In confusion whether part time or DLP',\n",
       " 'Interested in Next batch',\n",
       " 'Lateral student',\n",
       " 'University not recognized',\n",
       " 'Shall take in the next coming month',\n",
       " 'Recognition issue (DEC approval)',\n",
       " 'missing']"
      ]
     },
     "execution_count": 50,
     "metadata": {},
     "output_type": "execute_result"
    }
   ],
   "source": [
    "bin=((leads['Tags'].value_counts()/len(leads))*100<=2)\n",
    "to_bin=bin[bin].index.tolist()\n",
    "to_bin.append('missing')\n",
    "to_bin"
   ]
  },
  {
   "cell_type": "code",
   "execution_count": 51,
   "metadata": {
    "id": "YbXNKw2CR41A"
   },
   "outputs": [],
   "source": [
    "leads['Tags']=leads['Tags'].replace(to_bin,'other tags')"
   ]
  },
  {
   "cell_type": "code",
   "execution_count": 52,
   "metadata": {
    "colab": {
     "base_uri": "https://localhost:8080/",
     "height": 451
    },
    "id": "cPfbiMIaSDHE",
    "outputId": "5f45c2d3-7ecb-4acf-c160-240d5a472317"
   },
   "outputs": [
    {
     "data": {
      "image/png": "[encoded data removed]",
      "text/plain": [
       "<Figure size 1080x360 with 1 Axes>"
      ]
     },
     "metadata": {
      "needs_background": "light"
     },
     "output_type": "display_data"
    }
   ],
   "source": [
    "plot('Tags')"
   ]
  },
  {
   "cell_type": "code",
   "execution_count": 53,
   "metadata": {
    "colab": {
     "base_uri": "https://localhost:8080/",
     "height": 428
    },
    "id": "NNSwwwwaSDMs",
    "outputId": "dbeae479-58b3-44e1-c729-3d7e9d3a8f03"
   },
   "outputs": [
    {
     "data": {
      "image/png": "[encoded data removed]",
      "text/plain": [
       "<Figure size 1080x360 with 1 Axes>"
      ]
     },
     "metadata": {
      "needs_background": "light"
     },
     "output_type": "display_data"
    }
   ],
   "source": [
    "plot('Lead Profile')"
   ]
  },
  {
   "cell_type": "code",
   "execution_count": 54,
   "metadata": {
    "colab": {
     "base_uri": "https://localhost:8080/"
    },
    "id": "ev-JVM-zUacL",
    "outputId": "a39510df-cbd7-4dce-b407-ec46b7825869"
   },
   "outputs": [
    {
     "data": {
      "text/plain": [
       "Select                         44.87\n",
       "missing                        29.32\n",
       "Potential Lead                 17.46\n",
       "Other Leads                     5.27\n",
       "Student of SomeSchool           2.61\n",
       "Lateral Student                 0.26\n",
       "Dual Specialization Student     0.22\n",
       "Name: Lead Profile, dtype: float64"
      ]
     },
     "execution_count": 54,
     "metadata": {},
     "output_type": "execute_result"
    }
   ],
   "source": [
    "round(leads['Lead Profile'].value_counts()/len(leads)*100,2)"
   ]
  },
  {
   "cell_type": "code",
   "execution_count": 55,
   "metadata": {
    "id": "2VaWFBaISDPL"
   },
   "outputs": [],
   "source": [
    "##Tagging missing and select under other leads\n",
    "leads['Lead Profile']=leads['Lead Profile'].replace(['missing','Select','Lateral Student','Dual Specialization Student'],'Other Leads')\n"
   ]
  },
  {
   "cell_type": "code",
   "execution_count": 56,
   "metadata": {
    "colab": {
     "base_uri": "https://localhost:8080/",
     "height": 413
    },
    "id": "CGpQbf6USDSW",
    "outputId": "310c497a-4999-469a-f153-ce04ec08c8b7"
   },
   "outputs": [
    {
     "data": {
      "image/png": "[encoded data removed]",
      "text/plain": [
       "<Figure size 1080x360 with 1 Axes>"
      ]
     },
     "metadata": {
      "needs_background": "light"
     },
     "output_type": "display_data"
    }
   ],
   "source": [
    "plot('Lead Profile')"
   ]
  },
  {
   "cell_type": "code",
   "execution_count": 57,
   "metadata": {
    "colab": {
     "base_uri": "https://localhost:8080/",
     "height": 521
    },
    "id": "RMSlcSWLS-1i",
    "outputId": "b42173fd-7df5-4c45-8886-bd1769ca23b7"
   },
   "outputs": [
    {
     "data": {
      "text/html": [
       "<div>\n",
       "<style scoped>\n",
       "    .dataframe tbody tr th:only-of-type {\n",
       "        vertical-align: middle;\n",
       "    }\n",
       "\n",
       "    .dataframe tbody tr th {\n",
       "        vertical-align: top;\n",
       "    }\n",
       "\n",
       "    .dataframe thead th {\n",
       "        text-align: right;\n",
       "    }\n",
       "</style>\n",
       "<table border=\"1\" class=\"dataframe\">\n",
       "  <thead>\n",
       "    <tr style=\"text-align: right;\">\n",
       "      <th></th>\n",
       "      <th>Lead Origin</th>\n",
       "      <th>Lead Source</th>\n",
       "      <th>Do Not Email</th>\n",
       "      <th>Do Not Call</th>\n",
       "      <th>Converted</th>\n",
       "      <th>TotalVisits</th>\n",
       "      <th>Total Time Spent on Website</th>\n",
       "      <th>Page Views Per Visit</th>\n",
       "      <th>Last Activity</th>\n",
       "      <th>Country</th>\n",
       "      <th>...</th>\n",
       "      <th>Through Recommendations</th>\n",
       "      <th>Receive More Updates About Our Courses</th>\n",
       "      <th>Tags</th>\n",
       "      <th>Update me on Supply Chain Content</th>\n",
       "      <th>Get updates on DM Content</th>\n",
       "      <th>Lead Profile</th>\n",
       "      <th>City</th>\n",
       "      <th>I agree to pay the amount through cheque</th>\n",
       "      <th>A free copy of Mastering The Interview</th>\n",
       "      <th>Last Notable Activity</th>\n",
       "    </tr>\n",
       "  </thead>\n",
       "  <tbody>\n",
       "    <tr>\n",
       "      <th>0</th>\n",
       "      <td>API</td>\n",
       "      <td>Olark Chat</td>\n",
       "      <td>No</td>\n",
       "      <td>No</td>\n",
       "      <td>0</td>\n",
       "      <td>0</td>\n",
       "      <td>0</td>\n",
       "      <td>0</td>\n",
       "      <td>Page Visited on Website</td>\n",
       "      <td>missing</td>\n",
       "      <td>...</td>\n",
       "      <td>No</td>\n",
       "      <td>No</td>\n",
       "      <td>Interested in other courses</td>\n",
       "      <td>No</td>\n",
       "      <td>No</td>\n",
       "      <td>Other Leads</td>\n",
       "      <td>Other Cities</td>\n",
       "      <td>No</td>\n",
       "      <td>No</td>\n",
       "      <td>Modified</td>\n",
       "    </tr>\n",
       "    <tr>\n",
       "      <th>1</th>\n",
       "      <td>API</td>\n",
       "      <td>Organic Search</td>\n",
       "      <td>No</td>\n",
       "      <td>No</td>\n",
       "      <td>0</td>\n",
       "      <td>5</td>\n",
       "      <td>674</td>\n",
       "      <td>2.5</td>\n",
       "      <td>Email Opened</td>\n",
       "      <td>India</td>\n",
       "      <td>...</td>\n",
       "      <td>No</td>\n",
       "      <td>No</td>\n",
       "      <td>Ringing</td>\n",
       "      <td>No</td>\n",
       "      <td>No</td>\n",
       "      <td>Other Leads</td>\n",
       "      <td>Other Cities</td>\n",
       "      <td>No</td>\n",
       "      <td>No</td>\n",
       "      <td>Email Opened</td>\n",
       "    </tr>\n",
       "    <tr>\n",
       "      <th>2</th>\n",
       "      <td>Landing Page Submission</td>\n",
       "      <td>Direct Traffic</td>\n",
       "      <td>No</td>\n",
       "      <td>No</td>\n",
       "      <td>1</td>\n",
       "      <td>2</td>\n",
       "      <td>1532</td>\n",
       "      <td>2</td>\n",
       "      <td>Email Opened</td>\n",
       "      <td>India</td>\n",
       "      <td>...</td>\n",
       "      <td>No</td>\n",
       "      <td>No</td>\n",
       "      <td>Will revert after reading the email</td>\n",
       "      <td>No</td>\n",
       "      <td>No</td>\n",
       "      <td>Potential Lead</td>\n",
       "      <td>Mumbai</td>\n",
       "      <td>No</td>\n",
       "      <td>Yes</td>\n",
       "      <td>Email Opened</td>\n",
       "    </tr>\n",
       "    <tr>\n",
       "      <th>3</th>\n",
       "      <td>Landing Page Submission</td>\n",
       "      <td>Direct Traffic</td>\n",
       "      <td>No</td>\n",
       "      <td>No</td>\n",
       "      <td>0</td>\n",
       "      <td>1</td>\n",
       "      <td>305</td>\n",
       "      <td>1</td>\n",
       "      <td>other activity</td>\n",
       "      <td>India</td>\n",
       "      <td>...</td>\n",
       "      <td>No</td>\n",
       "      <td>No</td>\n",
       "      <td>Ringing</td>\n",
       "      <td>No</td>\n",
       "      <td>No</td>\n",
       "      <td>Other Leads</td>\n",
       "      <td>Mumbai</td>\n",
       "      <td>No</td>\n",
       "      <td>No</td>\n",
       "      <td>Modified</td>\n",
       "    </tr>\n",
       "    <tr>\n",
       "      <th>4</th>\n",
       "      <td>Landing Page Submission</td>\n",
       "      <td>google</td>\n",
       "      <td>No</td>\n",
       "      <td>No</td>\n",
       "      <td>1</td>\n",
       "      <td>2</td>\n",
       "      <td>1428</td>\n",
       "      <td>1</td>\n",
       "      <td>Converted to Lead</td>\n",
       "      <td>India</td>\n",
       "      <td>...</td>\n",
       "      <td>No</td>\n",
       "      <td>No</td>\n",
       "      <td>Will revert after reading the email</td>\n",
       "      <td>No</td>\n",
       "      <td>No</td>\n",
       "      <td>Other Leads</td>\n",
       "      <td>Mumbai</td>\n",
       "      <td>No</td>\n",
       "      <td>No</td>\n",
       "      <td>Modified</td>\n",
       "    </tr>\n",
       "  </tbody>\n",
       "</table>\n",
       "<p>5 rows × 30 columns</p>\n",
       "</div>"
      ],
      "text/plain": [
       "               Lead Origin     Lead Source Do Not Email Do Not Call  \\\n",
       "0                      API      Olark Chat           No          No   \n",
       "1                      API  Organic Search           No          No   \n",
       "2  Landing Page Submission  Direct Traffic           No          No   \n",
       "3  Landing Page Submission  Direct Traffic           No          No   \n",
       "4  Landing Page Submission          google           No          No   \n",
       "\n",
       "   Converted TotalVisits  Total Time Spent on Website Page Views Per Visit  \\\n",
       "0          0           0                            0                    0   \n",
       "1          0           5                          674                  2.5   \n",
       "2          1           2                         1532                    2   \n",
       "3          0           1                          305                    1   \n",
       "4          1           2                         1428                    1   \n",
       "\n",
       "             Last Activity  Country          ...           \\\n",
       "0  Page Visited on Website  missing          ...            \n",
       "1             Email Opened    India          ...            \n",
       "2             Email Opened    India          ...            \n",
       "3           other activity    India          ...            \n",
       "4        Converted to Lead    India          ...            \n",
       "\n",
       "  Through Recommendations Receive More Updates About Our Courses  \\\n",
       "0                      No                                     No   \n",
       "1                      No                                     No   \n",
       "2                      No                                     No   \n",
       "3                      No                                     No   \n",
       "4                      No                                     No   \n",
       "\n",
       "                                  Tags Update me on Supply Chain Content  \\\n",
       "0          Interested in other courses                                No   \n",
       "1                              Ringing                                No   \n",
       "2  Will revert after reading the email                                No   \n",
       "3                              Ringing                                No   \n",
       "4  Will revert after reading the email                                No   \n",
       "\n",
       "  Get updates on DM Content    Lead Profile          City  \\\n",
       "0                        No     Other Leads  Other Cities   \n",
       "1                        No     Other Leads  Other Cities   \n",
       "2                        No  Potential Lead        Mumbai   \n",
       "3                        No     Other Leads        Mumbai   \n",
       "4                        No     Other Leads        Mumbai   \n",
       "\n",
       "  I agree to pay the amount through cheque  \\\n",
       "0                                       No   \n",
       "1                                       No   \n",
       "2                                       No   \n",
       "3                                       No   \n",
       "4                                       No   \n",
       "\n",
       "  A free copy of Mastering The Interview Last Notable Activity  \n",
       "0                                     No              Modified  \n",
       "1                                     No          Email Opened  \n",
       "2                                    Yes          Email Opened  \n",
       "3                                     No              Modified  \n",
       "4                                     No              Modified  \n",
       "\n",
       "[5 rows x 30 columns]"
      ]
     },
     "execution_count": 57,
     "metadata": {},
     "output_type": "execute_result"
    }
   ],
   "source": [
    "leads.head()"
   ]
  },
  {
   "cell_type": "markdown",
   "metadata": {
    "id": "UzclBB1wTOf0"
   },
   "source": [
    "Exploring more categorical columns \n",
    "\n",
    "1. Lead Origin\n",
    "2. Lead Source\n",
    "3. Do not call/Do not email\n",
    "4. Search , Magazine , Newspaper Article\n",
    "5. X_Education Forums , Newspaper\n",
    "6. Digital Advertisements , Recommendations\n",
    "7. Receive more updates about the courses\n",
    "8. Supply chain update\n",
    "9. Mastering interview guide\n",
    "10. Payment through cheque"
   ]
  },
  {
   "cell_type": "code",
   "execution_count": 58,
   "metadata": {
    "id": "0DRGUnRmS-5a"
   },
   "outputs": [],
   "source": [
    "to_inspect_list=['Lead Origin', 'Do Not Email',\n",
    "       'Do Not Call','Search', 'Magazine',\n",
    "       'Newspaper Article', 'X Education Forums', 'Newspaper',\n",
    "       'Digital Advertisement', 'Through Recommendations','Receive More Updates About Our Courses',\n",
    "       'Update me on Supply Chain Content', 'Get updates on DM Content','I agree to pay the amount through cheque',\n",
    "       'A free copy of Mastering The Interview', 'Last Notable Activity']"
   ]
  },
  {
   "cell_type": "markdown",
   "metadata": {
    "id": "e4_WPU6NWI9F"
   },
   "source": [
    "# Let us analyse the data distributed in these columns through value_counts to see the data pattern"
   ]
  },
  {
   "cell_type": "code",
   "execution_count": 59,
   "metadata": {
    "colab": {
     "base_uri": "https://localhost:8080/"
    },
    "id": "lQ3veXCsV-a7",
    "outputId": "13b8a17c-93ba-4798-b3a4-e4e22baf4466"
   },
   "outputs": [
    {
     "name": "stdout",
     "output_type": "stream",
     "text": [
      "+---------------+\n",
      "Lead Origin\n",
      "Landing Page Submission    4886\n",
      "API                        3580\n",
      "Lead Add Form               718\n",
      "Lead Import                  55\n",
      "Quick Add Form                1\n",
      "Name: Lead Origin, dtype: int64\n",
      "+---------------+\n",
      "Do Not Email\n",
      "No     8506\n",
      "Yes     734\n",
      "Name: Do Not Email, dtype: int64\n",
      "+---------------+\n",
      "Do Not Call\n",
      "No     9238\n",
      "Yes       2\n",
      "Name: Do Not Call, dtype: int64\n",
      "+---------------+\n",
      "Search\n",
      "No     9226\n",
      "Yes      14\n",
      "Name: Search, dtype: int64\n",
      "+---------------+\n",
      "Magazine\n",
      "No    9240\n",
      "Name: Magazine, dtype: int64\n",
      "+---------------+\n",
      "Newspaper Article\n",
      "No     9238\n",
      "Yes       2\n",
      "Name: Newspaper Article, dtype: int64\n",
      "+---------------+\n",
      "X Education Forums\n",
      "No     9239\n",
      "Yes       1\n",
      "Name: X Education Forums, dtype: int64\n",
      "+---------------+\n",
      "Newspaper\n",
      "No     9239\n",
      "Yes       1\n",
      "Name: Newspaper, dtype: int64\n",
      "+---------------+\n",
      "Digital Advertisement\n",
      "No     9236\n",
      "Yes       4\n",
      "Name: Digital Advertisement, dtype: int64\n",
      "+---------------+\n",
      "Through Recommendations\n",
      "No     9233\n",
      "Yes       7\n",
      "Name: Through Recommendations, dtype: int64\n",
      "+---------------+\n",
      "Receive More Updates About Our Courses\n",
      "No    9240\n",
      "Name: Receive More Updates About Our Courses, dtype: int64\n",
      "+---------------+\n",
      "Update me on Supply Chain Content\n",
      "No    9240\n",
      "Name: Update me on Supply Chain Content, dtype: int64\n",
      "+---------------+\n",
      "Get updates on DM Content\n",
      "No    9240\n",
      "Name: Get updates on DM Content, dtype: int64\n",
      "+---------------+\n",
      "I agree to pay the amount through cheque\n",
      "No    9240\n",
      "Name: I agree to pay the amount through cheque, dtype: int64\n",
      "+---------------+\n",
      "A free copy of Mastering The Interview\n",
      "No     6352\n",
      "Yes    2888\n",
      "Name: A free copy of Mastering The Interview, dtype: int64\n",
      "+---------------+\n",
      "Last Notable Activity\n",
      "Modified                        3407\n",
      "Email Opened                    2827\n",
      "SMS Sent                        2172\n",
      "Page Visited on Website          318\n",
      "Olark Chat Conversation          183\n",
      "Email Link Clicked               173\n",
      "Email Bounced                     60\n",
      "Unsubscribed                      47\n",
      "Unreachable                       32\n",
      "Had a Phone Conversation          14\n",
      "Email Marked Spam                  2\n",
      "Email Received                     1\n",
      "Resubscribed to emails             1\n",
      "Approached upfront                 1\n",
      "Form Submitted on Website          1\n",
      "View in browser link Clicked       1\n",
      "Name: Last Notable Activity, dtype: int64\n"
     ]
    }
   ],
   "source": [
    "for i in to_inspect_list:\n",
    "  print('+---------------+')\n",
    "  print(i)\n",
    "  print(leads[i].value_counts())"
   ]
  },
  {
   "cell_type": "code",
   "execution_count": 60,
   "metadata": {
    "colab": {
     "base_uri": "https://localhost:8080/",
     "height": 421
    },
    "id": "naoOYVAmJCxI",
    "outputId": "141052c4-f82a-456a-c9d2-568edaaaf201"
   },
   "outputs": [
    {
     "data": {
      "image/png": "[encoded data removed]",
      "text/plain": [
       "<Figure size 1080x360 with 1 Axes>"
      ]
     },
     "metadata": {
      "needs_background": "light"
     },
     "output_type": "display_data"
    }
   ],
   "source": [
    "##Plotting Lead origin vs Converted\n",
    "plot('Lead Origin')"
   ]
  },
  {
   "cell_type": "markdown",
   "metadata": {
    "id": "Gx3xpu1yJ0z3"
   },
   "source": [
    "Landing page submission and API from the Lead source has better conversion rate"
   ]
  },
  {
   "cell_type": "markdown",
   "metadata": {
    "id": "koEDXY2KYS-U"
   },
   "source": [
    "## Please find the inferences made:\n",
    "\n",
    "1. There are many imbalanced dataset columns which are skewed towards a particular value , we shall remove them completely as it does not add any values ....these columns include \n",
    "           \n",
    "           1. X Education Forums\n",
    "           2. Magazine , Newspapers , Newspaper article\n",
    "           3. Do Not Call \n",
    "           4. Digital advertisement \n",
    "           5. Recommendation\n",
    "           6. Supply chain course\n",
    "           7. DM on the contents / aggreed to pay through cheque\n",
    "           8. Search\n",
    "\n",
    "2. The column 'Last Notable Activity' is in close association with the 'Last Activity' , we shall remove this column\n",
    "\n",
    "3. So we are going to retain only the below columns for further analysis\n",
    "\n",
    "            1. A free copy of Mastering The Interview\n",
    "            2. Lead Origin\n",
    "            3. Do not email\n",
    "\n",
    "           "
   ]
  },
  {
   "cell_type": "code",
   "execution_count": 61,
   "metadata": {
    "colab": {
     "base_uri": "https://localhost:8080/"
    },
    "id": "e6cAZPi3yd4c",
    "outputId": "1cb2803f-09cf-4a58-99bb-0fee48d9e8d3"
   },
   "outputs": [
    {
     "data": {
      "text/plain": [
       "Index(['Lead Origin', 'Lead Source', 'Do Not Email', 'Do Not Call',\n",
       "       'Converted', 'TotalVisits', 'Total Time Spent on Website',\n",
       "       'Page Views Per Visit', 'Last Activity', 'Country', 'Specialization',\n",
       "       'How did you hear about X Education', 'What is your current occupation',\n",
       "       'What matters most to you in choosing a course', 'Search', 'Magazine',\n",
       "       'Newspaper Article', 'X Education Forums', 'Newspaper',\n",
       "       'Digital Advertisement', 'Through Recommendations',\n",
       "       'Receive More Updates About Our Courses', 'Tags',\n",
       "       'Update me on Supply Chain Content', 'Get updates on DM Content',\n",
       "       'Lead Profile', 'City', 'I agree to pay the amount through cheque',\n",
       "       'A free copy of Mastering The Interview', 'Last Notable Activity'],\n",
       "      dtype='object')"
      ]
     },
     "execution_count": 61,
     "metadata": {},
     "output_type": "execute_result"
    }
   ],
   "source": [
    "leads.columns"
   ]
  },
  {
   "cell_type": "code",
   "execution_count": 62,
   "metadata": {
    "id": "biPrgL2PV-m7"
   },
   "outputs": [],
   "source": [
    "cols_to_drop=cols_to_drop +['X Education Forums','Magazine','Newspaper',\n",
    "                    'Newspaper Article','Digital Advertisement', 'Through Recommendations',\n",
    "       'Receive More Updates About Our Courses','Update me on Supply Chain Content', \n",
    "         'Get updates on DM Content','I agree to pay the amount through cheque',\n",
    "          'Last Notable Activity','What matters most to you in choosing a course','Search','Do Not Call']"
   ]
  },
  {
   "cell_type": "code",
   "execution_count": 63,
   "metadata": {
    "colab": {
     "base_uri": "https://localhost:8080/"
    },
    "id": "eAT5G9_hV-qq",
    "outputId": "96a17121-b2b9-461a-8390-ef4777428c31"
   },
   "outputs": [
    {
     "data": {
      "text/plain": [
       "['Country',\n",
       " 'How did you hear about X Education',\n",
       " 'X Education Forums',\n",
       " 'Magazine',\n",
       " 'Newspaper',\n",
       " 'Newspaper Article',\n",
       " 'Digital Advertisement',\n",
       " 'Through Recommendations',\n",
       " 'Receive More Updates About Our Courses',\n",
       " 'Update me on Supply Chain Content',\n",
       " 'Get updates on DM Content',\n",
       " 'I agree to pay the amount through cheque',\n",
       " 'Last Notable Activity',\n",
       " 'What matters most to you in choosing a course',\n",
       " 'Search',\n",
       " 'Do Not Call']"
      ]
     },
     "execution_count": 63,
     "metadata": {},
     "output_type": "execute_result"
    }
   ],
   "source": [
    "cols_to_drop"
   ]
  },
  {
   "cell_type": "code",
   "execution_count": 64,
   "metadata": {
    "id": "ToszfkMR5qpP"
   },
   "outputs": [],
   "source": [
    "leads.drop(cols_to_drop,inplace=True,axis=1)"
   ]
  },
  {
   "cell_type": "code",
   "execution_count": 65,
   "metadata": {
    "colab": {
     "base_uri": "https://localhost:8080/"
    },
    "id": "X0z0SyrD5x3Y",
    "outputId": "bc0935f9-72a4-46e5-d84a-ce38b1fa7e55"
   },
   "outputs": [
    {
     "data": {
      "text/plain": [
       "Index(['Lead Origin', 'Lead Source', 'Do Not Email', 'Converted',\n",
       "       'TotalVisits', 'Total Time Spent on Website', 'Page Views Per Visit',\n",
       "       'Last Activity', 'Specialization', 'What is your current occupation',\n",
       "       'Tags', 'Lead Profile', 'City',\n",
       "       'A free copy of Mastering The Interview'],\n",
       "      dtype='object')"
      ]
     },
     "execution_count": 65,
     "metadata": {},
     "output_type": "execute_result"
    }
   ],
   "source": [
    "leads.columns"
   ]
  },
  {
   "cell_type": "code",
   "execution_count": 66,
   "metadata": {
    "id": "rbf6eZpCC5EG"
   },
   "outputs": [],
   "source": [
    "leads=leads.replace('missing',np.nan)"
   ]
  },
  {
   "cell_type": "markdown",
   "metadata": {
    "id": "JsmNcrdZ6xHR"
   },
   "source": [
    "# 1.3 Handling numerical variables"
   ]
  },
  {
   "cell_type": "code",
   "execution_count": 67,
   "metadata": {
    "colab": {
     "base_uri": "https://localhost:8080/",
     "height": 423
    },
    "id": "46NNenH15x7p",
    "outputId": "2b0c4591-2a07-4f0f-df38-b0bc47f9004e"
   },
   "outputs": [
    {
     "data": {
      "text/html": [
       "<div>\n",
       "<style scoped>\n",
       "    .dataframe tbody tr th:only-of-type {\n",
       "        vertical-align: middle;\n",
       "    }\n",
       "\n",
       "    .dataframe tbody tr th {\n",
       "        vertical-align: top;\n",
       "    }\n",
       "\n",
       "    .dataframe thead th {\n",
       "        text-align: right;\n",
       "    }\n",
       "</style>\n",
       "<table border=\"1\" class=\"dataframe\">\n",
       "  <thead>\n",
       "    <tr style=\"text-align: right;\">\n",
       "      <th></th>\n",
       "      <th>Converted</th>\n",
       "      <th>TotalVisits</th>\n",
       "      <th>Total Time Spent on Website</th>\n",
       "      <th>Page Views Per Visit</th>\n",
       "    </tr>\n",
       "  </thead>\n",
       "  <tbody>\n",
       "    <tr>\n",
       "      <th>0</th>\n",
       "      <td>0</td>\n",
       "      <td>0.0</td>\n",
       "      <td>0</td>\n",
       "      <td>0.00</td>\n",
       "    </tr>\n",
       "    <tr>\n",
       "      <th>1</th>\n",
       "      <td>0</td>\n",
       "      <td>5.0</td>\n",
       "      <td>674</td>\n",
       "      <td>2.50</td>\n",
       "    </tr>\n",
       "    <tr>\n",
       "      <th>2</th>\n",
       "      <td>1</td>\n",
       "      <td>2.0</td>\n",
       "      <td>1532</td>\n",
       "      <td>2.00</td>\n",
       "    </tr>\n",
       "    <tr>\n",
       "      <th>3</th>\n",
       "      <td>0</td>\n",
       "      <td>1.0</td>\n",
       "      <td>305</td>\n",
       "      <td>1.00</td>\n",
       "    </tr>\n",
       "    <tr>\n",
       "      <th>4</th>\n",
       "      <td>1</td>\n",
       "      <td>2.0</td>\n",
       "      <td>1428</td>\n",
       "      <td>1.00</td>\n",
       "    </tr>\n",
       "    <tr>\n",
       "      <th>5</th>\n",
       "      <td>0</td>\n",
       "      <td>0.0</td>\n",
       "      <td>0</td>\n",
       "      <td>0.00</td>\n",
       "    </tr>\n",
       "    <tr>\n",
       "      <th>6</th>\n",
       "      <td>1</td>\n",
       "      <td>2.0</td>\n",
       "      <td>1640</td>\n",
       "      <td>2.00</td>\n",
       "    </tr>\n",
       "    <tr>\n",
       "      <th>7</th>\n",
       "      <td>0</td>\n",
       "      <td>0.0</td>\n",
       "      <td>0</td>\n",
       "      <td>0.00</td>\n",
       "    </tr>\n",
       "    <tr>\n",
       "      <th>8</th>\n",
       "      <td>0</td>\n",
       "      <td>2.0</td>\n",
       "      <td>71</td>\n",
       "      <td>2.00</td>\n",
       "    </tr>\n",
       "    <tr>\n",
       "      <th>9</th>\n",
       "      <td>0</td>\n",
       "      <td>4.0</td>\n",
       "      <td>58</td>\n",
       "      <td>4.00</td>\n",
       "    </tr>\n",
       "    <tr>\n",
       "      <th>10</th>\n",
       "      <td>1</td>\n",
       "      <td>8.0</td>\n",
       "      <td>1351</td>\n",
       "      <td>8.00</td>\n",
       "    </tr>\n",
       "    <tr>\n",
       "      <th>11</th>\n",
       "      <td>1</td>\n",
       "      <td>8.0</td>\n",
       "      <td>1343</td>\n",
       "      <td>2.67</td>\n",
       "    </tr>\n",
       "    <tr>\n",
       "      <th>12</th>\n",
       "      <td>1</td>\n",
       "      <td>11.0</td>\n",
       "      <td>1538</td>\n",
       "      <td>11.00</td>\n",
       "    </tr>\n",
       "    <tr>\n",
       "      <th>13</th>\n",
       "      <td>0</td>\n",
       "      <td>5.0</td>\n",
       "      <td>170</td>\n",
       "      <td>5.00</td>\n",
       "    </tr>\n",
       "    <tr>\n",
       "      <th>14</th>\n",
       "      <td>0</td>\n",
       "      <td>1.0</td>\n",
       "      <td>481</td>\n",
       "      <td>1.00</td>\n",
       "    </tr>\n",
       "    <tr>\n",
       "      <th>15</th>\n",
       "      <td>1</td>\n",
       "      <td>6.0</td>\n",
       "      <td>1012</td>\n",
       "      <td>6.00</td>\n",
       "    </tr>\n",
       "    <tr>\n",
       "      <th>16</th>\n",
       "      <td>0</td>\n",
       "      <td>0.0</td>\n",
       "      <td>0</td>\n",
       "      <td>0.00</td>\n",
       "    </tr>\n",
       "    <tr>\n",
       "      <th>17</th>\n",
       "      <td>0</td>\n",
       "      <td>6.0</td>\n",
       "      <td>973</td>\n",
       "      <td>6.00</td>\n",
       "    </tr>\n",
       "    <tr>\n",
       "      <th>18</th>\n",
       "      <td>1</td>\n",
       "      <td>6.0</td>\n",
       "      <td>1688</td>\n",
       "      <td>3.00</td>\n",
       "    </tr>\n",
       "    <tr>\n",
       "      <th>19</th>\n",
       "      <td>0</td>\n",
       "      <td>3.0</td>\n",
       "      <td>98</td>\n",
       "      <td>3.00</td>\n",
       "    </tr>\n",
       "    <tr>\n",
       "      <th>20</th>\n",
       "      <td>0</td>\n",
       "      <td>1.0</td>\n",
       "      <td>233</td>\n",
       "      <td>1.00</td>\n",
       "    </tr>\n",
       "    <tr>\n",
       "      <th>21</th>\n",
       "      <td>0</td>\n",
       "      <td>4.0</td>\n",
       "      <td>377</td>\n",
       "      <td>1.33</td>\n",
       "    </tr>\n",
       "    <tr>\n",
       "      <th>22</th>\n",
       "      <td>1</td>\n",
       "      <td>1.0</td>\n",
       "      <td>1013</td>\n",
       "      <td>1.00</td>\n",
       "    </tr>\n",
       "    <tr>\n",
       "      <th>23</th>\n",
       "      <td>0</td>\n",
       "      <td>4.0</td>\n",
       "      <td>771</td>\n",
       "      <td>4.00</td>\n",
       "    </tr>\n",
       "    <tr>\n",
       "      <th>24</th>\n",
       "      <td>1</td>\n",
       "      <td>6.0</td>\n",
       "      <td>1137</td>\n",
       "      <td>1.50</td>\n",
       "    </tr>\n",
       "    <tr>\n",
       "      <th>25</th>\n",
       "      <td>1</td>\n",
       "      <td>3.0</td>\n",
       "      <td>1068</td>\n",
       "      <td>3.00</td>\n",
       "    </tr>\n",
       "    <tr>\n",
       "      <th>26</th>\n",
       "      <td>1</td>\n",
       "      <td>4.0</td>\n",
       "      <td>1000</td>\n",
       "      <td>2.00</td>\n",
       "    </tr>\n",
       "    <tr>\n",
       "      <th>27</th>\n",
       "      <td>1</td>\n",
       "      <td>6.0</td>\n",
       "      <td>1315</td>\n",
       "      <td>6.00</td>\n",
       "    </tr>\n",
       "    <tr>\n",
       "      <th>28</th>\n",
       "      <td>0</td>\n",
       "      <td>5.0</td>\n",
       "      <td>182</td>\n",
       "      <td>5.00</td>\n",
       "    </tr>\n",
       "    <tr>\n",
       "      <th>29</th>\n",
       "      <td>1</td>\n",
       "      <td>3.0</td>\n",
       "      <td>78</td>\n",
       "      <td>3.00</td>\n",
       "    </tr>\n",
       "    <tr>\n",
       "      <th>...</th>\n",
       "      <td>...</td>\n",
       "      <td>...</td>\n",
       "      <td>...</td>\n",
       "      <td>...</td>\n",
       "    </tr>\n",
       "    <tr>\n",
       "      <th>9210</th>\n",
       "      <td>1</td>\n",
       "      <td>4.0</td>\n",
       "      <td>927</td>\n",
       "      <td>4.00</td>\n",
       "    </tr>\n",
       "    <tr>\n",
       "      <th>9211</th>\n",
       "      <td>1</td>\n",
       "      <td>4.0</td>\n",
       "      <td>1112</td>\n",
       "      <td>4.00</td>\n",
       "    </tr>\n",
       "    <tr>\n",
       "      <th>9212</th>\n",
       "      <td>0</td>\n",
       "      <td>5.0</td>\n",
       "      <td>78</td>\n",
       "      <td>5.00</td>\n",
       "    </tr>\n",
       "    <tr>\n",
       "      <th>9213</th>\n",
       "      <td>0</td>\n",
       "      <td>5.0</td>\n",
       "      <td>234</td>\n",
       "      <td>2.50</td>\n",
       "    </tr>\n",
       "    <tr>\n",
       "      <th>9214</th>\n",
       "      <td>1</td>\n",
       "      <td>2.0</td>\n",
       "      <td>881</td>\n",
       "      <td>2.00</td>\n",
       "    </tr>\n",
       "    <tr>\n",
       "      <th>9215</th>\n",
       "      <td>0</td>\n",
       "      <td>8.0</td>\n",
       "      <td>397</td>\n",
       "      <td>8.00</td>\n",
       "    </tr>\n",
       "    <tr>\n",
       "      <th>9216</th>\n",
       "      <td>0</td>\n",
       "      <td>6.0</td>\n",
       "      <td>1679</td>\n",
       "      <td>6.00</td>\n",
       "    </tr>\n",
       "    <tr>\n",
       "      <th>9217</th>\n",
       "      <td>0</td>\n",
       "      <td>0.0</td>\n",
       "      <td>0</td>\n",
       "      <td>0.00</td>\n",
       "    </tr>\n",
       "    <tr>\n",
       "      <th>9218</th>\n",
       "      <td>0</td>\n",
       "      <td>1.0</td>\n",
       "      <td>149</td>\n",
       "      <td>1.00</td>\n",
       "    </tr>\n",
       "    <tr>\n",
       "      <th>9219</th>\n",
       "      <td>1</td>\n",
       "      <td>6.0</td>\n",
       "      <td>1389</td>\n",
       "      <td>6.00</td>\n",
       "    </tr>\n",
       "    <tr>\n",
       "      <th>9220</th>\n",
       "      <td>0</td>\n",
       "      <td>5.0</td>\n",
       "      <td>20</td>\n",
       "      <td>2.50</td>\n",
       "    </tr>\n",
       "    <tr>\n",
       "      <th>9221</th>\n",
       "      <td>0</td>\n",
       "      <td>4.0</td>\n",
       "      <td>1347</td>\n",
       "      <td>2.00</td>\n",
       "    </tr>\n",
       "    <tr>\n",
       "      <th>9222</th>\n",
       "      <td>0</td>\n",
       "      <td>6.0</td>\n",
       "      <td>228</td>\n",
       "      <td>6.00</td>\n",
       "    </tr>\n",
       "    <tr>\n",
       "      <th>9223</th>\n",
       "      <td>0</td>\n",
       "      <td>7.0</td>\n",
       "      <td>142</td>\n",
       "      <td>7.00</td>\n",
       "    </tr>\n",
       "    <tr>\n",
       "      <th>9224</th>\n",
       "      <td>0</td>\n",
       "      <td>4.0</td>\n",
       "      <td>455</td>\n",
       "      <td>4.00</td>\n",
       "    </tr>\n",
       "    <tr>\n",
       "      <th>9225</th>\n",
       "      <td>0</td>\n",
       "      <td>2.0</td>\n",
       "      <td>74</td>\n",
       "      <td>2.00</td>\n",
       "    </tr>\n",
       "    <tr>\n",
       "      <th>9226</th>\n",
       "      <td>0</td>\n",
       "      <td>0.0</td>\n",
       "      <td>0</td>\n",
       "      <td>0.00</td>\n",
       "    </tr>\n",
       "    <tr>\n",
       "      <th>9227</th>\n",
       "      <td>1</td>\n",
       "      <td>5.0</td>\n",
       "      <td>1283</td>\n",
       "      <td>1.67</td>\n",
       "    </tr>\n",
       "    <tr>\n",
       "      <th>9228</th>\n",
       "      <td>1</td>\n",
       "      <td>4.0</td>\n",
       "      <td>1944</td>\n",
       "      <td>2.00</td>\n",
       "    </tr>\n",
       "    <tr>\n",
       "      <th>9229</th>\n",
       "      <td>1</td>\n",
       "      <td>13.0</td>\n",
       "      <td>1226</td>\n",
       "      <td>6.50</td>\n",
       "    </tr>\n",
       "    <tr>\n",
       "      <th>9230</th>\n",
       "      <td>0</td>\n",
       "      <td>2.0</td>\n",
       "      <td>870</td>\n",
       "      <td>2.00</td>\n",
       "    </tr>\n",
       "    <tr>\n",
       "      <th>9231</th>\n",
       "      <td>1</td>\n",
       "      <td>8.0</td>\n",
       "      <td>1016</td>\n",
       "      <td>4.00</td>\n",
       "    </tr>\n",
       "    <tr>\n",
       "      <th>9232</th>\n",
       "      <td>0</td>\n",
       "      <td>2.0</td>\n",
       "      <td>1770</td>\n",
       "      <td>2.00</td>\n",
       "    </tr>\n",
       "    <tr>\n",
       "      <th>9233</th>\n",
       "      <td>1</td>\n",
       "      <td>13.0</td>\n",
       "      <td>1409</td>\n",
       "      <td>2.60</td>\n",
       "    </tr>\n",
       "    <tr>\n",
       "      <th>9234</th>\n",
       "      <td>1</td>\n",
       "      <td>5.0</td>\n",
       "      <td>210</td>\n",
       "      <td>2.50</td>\n",
       "    </tr>\n",
       "    <tr>\n",
       "      <th>9235</th>\n",
       "      <td>1</td>\n",
       "      <td>8.0</td>\n",
       "      <td>1845</td>\n",
       "      <td>2.67</td>\n",
       "    </tr>\n",
       "    <tr>\n",
       "      <th>9236</th>\n",
       "      <td>0</td>\n",
       "      <td>2.0</td>\n",
       "      <td>238</td>\n",
       "      <td>2.00</td>\n",
       "    </tr>\n",
       "    <tr>\n",
       "      <th>9237</th>\n",
       "      <td>0</td>\n",
       "      <td>2.0</td>\n",
       "      <td>199</td>\n",
       "      <td>2.00</td>\n",
       "    </tr>\n",
       "    <tr>\n",
       "      <th>9238</th>\n",
       "      <td>1</td>\n",
       "      <td>3.0</td>\n",
       "      <td>499</td>\n",
       "      <td>3.00</td>\n",
       "    </tr>\n",
       "    <tr>\n",
       "      <th>9239</th>\n",
       "      <td>1</td>\n",
       "      <td>6.0</td>\n",
       "      <td>1279</td>\n",
       "      <td>3.00</td>\n",
       "    </tr>\n",
       "  </tbody>\n",
       "</table>\n",
       "<p>9240 rows × 4 columns</p>\n",
       "</div>"
      ],
      "text/plain": [
       "      Converted  TotalVisits  Total Time Spent on Website  \\\n",
       "0             0          0.0                            0   \n",
       "1             0          5.0                          674   \n",
       "2             1          2.0                         1532   \n",
       "3             0          1.0                          305   \n",
       "4             1          2.0                         1428   \n",
       "5             0          0.0                            0   \n",
       "6             1          2.0                         1640   \n",
       "7             0          0.0                            0   \n",
       "8             0          2.0                           71   \n",
       "9             0          4.0                           58   \n",
       "10            1          8.0                         1351   \n",
       "11            1          8.0                         1343   \n",
       "12            1         11.0                         1538   \n",
       "13            0          5.0                          170   \n",
       "14            0          1.0                          481   \n",
       "15            1          6.0                         1012   \n",
       "16            0          0.0                            0   \n",
       "17            0          6.0                          973   \n",
       "18            1          6.0                         1688   \n",
       "19            0          3.0                           98   \n",
       "20            0          1.0                          233   \n",
       "21            0          4.0                          377   \n",
       "22            1          1.0                         1013   \n",
       "23            0          4.0                          771   \n",
       "24            1          6.0                         1137   \n",
       "25            1          3.0                         1068   \n",
       "26            1          4.0                         1000   \n",
       "27            1          6.0                         1315   \n",
       "28            0          5.0                          182   \n",
       "29            1          3.0                           78   \n",
       "...         ...          ...                          ...   \n",
       "9210          1          4.0                          927   \n",
       "9211          1          4.0                         1112   \n",
       "9212          0          5.0                           78   \n",
       "9213          0          5.0                          234   \n",
       "9214          1          2.0                          881   \n",
       "9215          0          8.0                          397   \n",
       "9216          0          6.0                         1679   \n",
       "9217          0          0.0                            0   \n",
       "9218          0          1.0                          149   \n",
       "9219          1          6.0                         1389   \n",
       "9220          0          5.0                           20   \n",
       "9221          0          4.0                         1347   \n",
       "9222          0          6.0                          228   \n",
       "9223          0          7.0                          142   \n",
       "9224          0          4.0                          455   \n",
       "9225          0          2.0                           74   \n",
       "9226          0          0.0                            0   \n",
       "9227          1          5.0                         1283   \n",
       "9228          1          4.0                         1944   \n",
       "9229          1         13.0                         1226   \n",
       "9230          0          2.0                          870   \n",
       "9231          1          8.0                         1016   \n",
       "9232          0          2.0                         1770   \n",
       "9233          1         13.0                         1409   \n",
       "9234          1          5.0                          210   \n",
       "9235          1          8.0                         1845   \n",
       "9236          0          2.0                          238   \n",
       "9237          0          2.0                          199   \n",
       "9238          1          3.0                          499   \n",
       "9239          1          6.0                         1279   \n",
       "\n",
       "      Page Views Per Visit  \n",
       "0                     0.00  \n",
       "1                     2.50  \n",
       "2                     2.00  \n",
       "3                     1.00  \n",
       "4                     1.00  \n",
       "5                     0.00  \n",
       "6                     2.00  \n",
       "7                     0.00  \n",
       "8                     2.00  \n",
       "9                     4.00  \n",
       "10                    8.00  \n",
       "11                    2.67  \n",
       "12                   11.00  \n",
       "13                    5.00  \n",
       "14                    1.00  \n",
       "15                    6.00  \n",
       "16                    0.00  \n",
       "17                    6.00  \n",
       "18                    3.00  \n",
       "19                    3.00  \n",
       "20                    1.00  \n",
       "21                    1.33  \n",
       "22                    1.00  \n",
       "23                    4.00  \n",
       "24                    1.50  \n",
       "25                    3.00  \n",
       "26                    2.00  \n",
       "27                    6.00  \n",
       "28                    5.00  \n",
       "29                    3.00  \n",
       "...                    ...  \n",
       "9210                  4.00  \n",
       "9211                  4.00  \n",
       "9212                  5.00  \n",
       "9213                  2.50  \n",
       "9214                  2.00  \n",
       "9215                  8.00  \n",
       "9216                  6.00  \n",
       "9217                  0.00  \n",
       "9218                  1.00  \n",
       "9219                  6.00  \n",
       "9220                  2.50  \n",
       "9221                  2.00  \n",
       "9222                  6.00  \n",
       "9223                  7.00  \n",
       "9224                  4.00  \n",
       "9225                  2.00  \n",
       "9226                  0.00  \n",
       "9227                  1.67  \n",
       "9228                  2.00  \n",
       "9229                  6.50  \n",
       "9230                  2.00  \n",
       "9231                  4.00  \n",
       "9232                  2.00  \n",
       "9233                  2.60  \n",
       "9234                  2.50  \n",
       "9235                  2.67  \n",
       "9236                  2.00  \n",
       "9237                  2.00  \n",
       "9238                  3.00  \n",
       "9239                  3.00  \n",
       "\n",
       "[9240 rows x 4 columns]"
      ]
     },
     "execution_count": 67,
     "metadata": {},
     "output_type": "execute_result"
    }
   ],
   "source": [
    "leads.select_dtypes(['int64','float64'])"
   ]
  },
  {
   "cell_type": "markdown",
   "metadata": {
    "id": "rOaOw5w5_LwS"
   },
   "source": [
    "# Total Visit"
   ]
  },
  {
   "cell_type": "code",
   "execution_count": 68,
   "metadata": {
    "colab": {
     "base_uri": "https://localhost:8080/",
     "height": 279
    },
    "id": "ooXY-xTJ5x-j",
    "outputId": "fb6ebcea-381a-447c-d1b3-31db3bf3ec0a"
   },
   "outputs": [
    {
     "data": {
      "image/png": "[encoded data removed]",
      "text/plain": [
       "<Figure size 432x288 with 1 Axes>"
      ]
     },
     "metadata": {
      "needs_background": "light"
     },
     "output_type": "display_data"
    }
   ],
   "source": [
    "sns.boxplot(leads['TotalVisits'])\n",
    "plt.show()"
   ]
  },
  {
   "cell_type": "code",
   "execution_count": 69,
   "metadata": {
    "colab": {
     "base_uri": "https://localhost:8080/"
    },
    "id": "XI_Ac0oq5yBR",
    "outputId": "9a3deda1-e35b-4777-b73d-230b4b9c1435"
   },
   "outputs": [
    {
     "data": {
      "text/plain": [
       "count    9103.000000\n",
       "mean        3.445238\n",
       "std         4.854853\n",
       "min         0.000000\n",
       "10%         0.000000\n",
       "25%         1.000000\n",
       "50%         3.000000\n",
       "75%         5.000000\n",
       "95%        10.000000\n",
       "99%        17.000000\n",
       "100%      251.000000\n",
       "max       251.000000\n",
       "Name: TotalVisits, dtype: float64"
      ]
     },
     "execution_count": 69,
     "metadata": {},
     "output_type": "execute_result"
    }
   ],
   "source": [
    "## Seems like the TotalVisists has some outlier in the data\n",
    "\n",
    "leads['TotalVisits'].describe([0.10,0.25,0.50,0.75,0.95,0.99,1])"
   ]
  },
  {
   "cell_type": "code",
   "execution_count": 70,
   "metadata": {
    "colab": {
     "base_uri": "https://localhost:8080/"
    },
    "id": "-FB_5MEyUGb4",
    "outputId": "b3e10e02-b7d2-4eee-b1ee-c290bd0758f7"
   },
   "outputs": [
    {
     "data": {
      "text/plain": [
       "0.0      2189\n",
       "2.0      1680\n",
       "3.0      1306\n",
       "4.0      1120\n",
       "5.0       783\n",
       "6.0       466\n",
       "1.0       395\n",
       "7.0       309\n",
       "8.0       224\n",
       "9.0       164\n",
       "10.0      114\n",
       "11.0       86\n",
       "13.0       48\n",
       "12.0       45\n",
       "14.0       36\n",
       "16.0       21\n",
       "15.0       18\n",
       "17.0       16\n",
       "18.0       15\n",
       "20.0       12\n",
       "19.0        9\n",
       "23.0        6\n",
       "21.0        6\n",
       "27.0        5\n",
       "24.0        5\n",
       "25.0        5\n",
       "22.0        3\n",
       "28.0        2\n",
       "29.0        2\n",
       "26.0        2\n",
       "251.0       1\n",
       "74.0        1\n",
       "30.0        1\n",
       "141.0       1\n",
       "54.0        1\n",
       "41.0        1\n",
       "115.0       1\n",
       "43.0        1\n",
       "42.0        1\n",
       "32.0        1\n",
       "55.0        1\n",
       "Name: TotalVisits, dtype: int64"
      ]
     },
     "execution_count": 70,
     "metadata": {},
     "output_type": "execute_result"
    }
   ],
   "source": [
    "leads['TotalVisits'].value_counts()"
   ]
  },
  {
   "cell_type": "code",
   "execution_count": 71,
   "metadata": {
    "colab": {
     "base_uri": "https://localhost:8080/"
    },
    "id": "M-6JGZKkTAjh",
    "outputId": "c60d40e1-69f6-400d-e603-4ad3eaab27ff"
   },
   "outputs": [
    {
     "data": {
      "text/plain": [
       "Lead Origin                                 0\n",
       "Lead Source                                 0\n",
       "Do Not Email                                0\n",
       "Converted                                   0\n",
       "TotalVisits                               137\n",
       "Total Time Spent on Website                 0\n",
       "Page Views Per Visit                      137\n",
       "Last Activity                               0\n",
       "Specialization                              0\n",
       "What is your current occupation             0\n",
       "Tags                                        0\n",
       "Lead Profile                                0\n",
       "City                                        0\n",
       "A free copy of Mastering The Interview      0\n",
       "dtype: int64"
      ]
     },
     "execution_count": 71,
     "metadata": {},
     "output_type": "execute_result"
    }
   ],
   "source": [
    "leads.isnull().sum()"
   ]
  },
  {
   "cell_type": "code",
   "execution_count": 72,
   "metadata": {
    "id": "vWGc80hZA_Mi"
   },
   "outputs": [],
   "source": [
    "## Removing the >99% region \n",
    "\n",
    "Q_99=leads['TotalVisits'].quantile(0.99)\n",
    "\n",
    "leads=leads[(leads['TotalVisits']<=Q_99)]\n"
   ]
  },
  {
   "cell_type": "code",
   "execution_count": 73,
   "metadata": {
    "colab": {
     "base_uri": "https://localhost:8080/",
     "height": 279
    },
    "id": "KlnGLnn-Bxt1",
    "outputId": "a531b478-5edf-4663-9a57-f655a02645a1"
   },
   "outputs": [
    {
     "data": {
      "image/png": "[encoded data removed]",
      "text/plain": [
       "<Figure size 432x288 with 1 Axes>"
      ]
     },
     "metadata": {
      "needs_background": "light"
     },
     "output_type": "display_data"
    }
   ],
   "source": [
    "##Plotting again\n",
    "\n",
    "sns.boxplot(leads['TotalVisits'])\n",
    "plt.show()"
   ]
  },
  {
   "cell_type": "markdown",
   "metadata": {
    "id": "HAPSaFGzD2X3"
   },
   "source": [
    "# Total Time Spent on Website"
   ]
  },
  {
   "cell_type": "code",
   "execution_count": 74,
   "metadata": {
    "colab": {
     "base_uri": "https://localhost:8080/"
    },
    "id": "HO4e62jBBxwZ",
    "outputId": "41fd00e9-9917-450b-fdad-6484f47e62f2"
   },
   "outputs": [
    {
     "data": {
      "text/plain": [
       "count    9020.000000\n",
       "mean      479.759534\n",
       "std       544.688157\n",
       "min         0.000000\n",
       "10%         0.000000\n",
       "25%         7.000000\n",
       "50%       243.000000\n",
       "75%       915.250000\n",
       "95%      1554.050000\n",
       "99%      1836.620000\n",
       "100%     2272.000000\n",
       "max      2272.000000\n",
       "Name: Total Time Spent on Website, dtype: float64"
      ]
     },
     "execution_count": 74,
     "metadata": {},
     "output_type": "execute_result"
    }
   ],
   "source": [
    "leads['Total Time Spent on Website'].describe([0.10,0.25,0.50,0.75,0.95,0.99,1])"
   ]
  },
  {
   "cell_type": "code",
   "execution_count": 75,
   "metadata": {
    "colab": {
     "base_uri": "https://localhost:8080/",
     "height": 279
    },
    "id": "uRL3P6jNBxzB",
    "outputId": "27e239b5-5662-4826-b874-7253919b1542"
   },
   "outputs": [
    {
     "data": {
      "image/png": "[encoded data removed]",
      "text/plain": [
       "<Figure size 432x288 with 1 Axes>"
      ]
     },
     "metadata": {
      "needs_background": "light"
     },
     "output_type": "display_data"
    }
   ],
   "source": [
    "##No outlier in the data\n",
    "sns.boxplot(leads['Total Time Spent on Website'])\n",
    "plt.show()"
   ]
  },
  {
   "cell_type": "markdown",
   "metadata": {
    "id": "cpv7GOoqEn5I"
   },
   "source": [
    "# Page Views Per Visit"
   ]
  },
  {
   "cell_type": "code",
   "execution_count": 76,
   "metadata": {
    "colab": {
     "base_uri": "https://localhost:8080/"
    },
    "id": "Socu4c1kEmwx",
    "outputId": "ceaaa30e-55e2-4baf-f5a8-dcf7086a9b57"
   },
   "outputs": [
    {
     "data": {
      "text/plain": [
       "count    9020.000000\n",
       "mean        2.337271\n",
       "std         2.062363\n",
       "min         0.000000\n",
       "10%         0.000000\n",
       "25%         1.000000\n",
       "50%         2.000000\n",
       "75%         3.000000\n",
       "95%         6.000000\n",
       "99%         9.000000\n",
       "100%       16.000000\n",
       "max        16.000000\n",
       "Name: Page Views Per Visit, dtype: float64"
      ]
     },
     "execution_count": 76,
     "metadata": {},
     "output_type": "execute_result"
    }
   ],
   "source": [
    "leads['Page Views Per Visit'].describe([0.10,0.25,0.50,0.75,0.95,0.99,1])"
   ]
  },
  {
   "cell_type": "code",
   "execution_count": 77,
   "metadata": {
    "colab": {
     "base_uri": "https://localhost:8080/",
     "height": 279
    },
    "id": "ipDQlLzqEm01",
    "outputId": "29ee6d03-1bd5-42a5-8a92-61ade8356f38"
   },
   "outputs": [
    {
     "data": {
      "image/png": "[encoded data removed]",
      "text/plain": [
       "<Figure size 432x288 with 1 Axes>"
      ]
     },
     "metadata": {
      "needs_background": "light"
     },
     "output_type": "display_data"
    }
   ],
   "source": [
    "sns.boxplot(leads['Page Views Per Visit'])\n",
    "plt.show()"
   ]
  },
  {
   "cell_type": "code",
   "execution_count": 78,
   "metadata": {
    "id": "ZwY7fhnpEm33"
   },
   "outputs": [],
   "source": [
    "## Doing the same outlier treatment we obtain\n",
    "\n",
    "Q_99=leads['Page Views Per Visit'].quantile(0.99)\n",
    "\n",
    "leads=leads[(leads['Page Views Per Visit']<=Q_99)]\n"
   ]
  },
  {
   "cell_type": "code",
   "execution_count": 79,
   "metadata": {
    "colab": {
     "base_uri": "https://localhost:8080/",
     "height": 279
    },
    "id": "RtremX0qEm88",
    "outputId": "6f9b8206-1d94-4009-8c94-802035331740"
   },
   "outputs": [
    {
     "data": {
      "image/png": "[encoded data removed]",
      "text/plain": [
       "<Figure size 432x288 with 1 Axes>"
      ]
     },
     "metadata": {
      "needs_background": "light"
     },
     "output_type": "display_data"
    }
   ],
   "source": [
    "##Plotting again we get\n",
    "\n",
    "sns.boxplot(leads['Page Views Per Visit'])\n",
    "plt.show()"
   ]
  },
  {
   "cell_type": "markdown",
   "metadata": {
    "id": "mrU76vumGWK-"
   },
   "source": [
    "# Analysing the numerical columns vs converted"
   ]
  },
  {
   "cell_type": "markdown",
   "metadata": {
    "id": "I-VgdmhAGhe0"
   },
   "source": [
    "Page Views Per Visit vs converted"
   ]
  },
  {
   "cell_type": "code",
   "execution_count": 80,
   "metadata": {
    "colab": {
     "base_uri": "https://localhost:8080/",
     "height": 279
    },
    "id": "37fRw337Em_s",
    "outputId": "cc4b9929-b4b4-4c7c-bdda-8e8bfbb5449e"
   },
   "outputs": [
    {
     "data": {
      "image/png": "[encoded data removed]",
      "text/plain": [
       "<Figure size 432x288 with 1 Axes>"
      ]
     },
     "metadata": {
      "needs_background": "light"
     },
     "output_type": "display_data"
    }
   ],
   "source": [
    "sns.boxplot(x=leads.Converted,y=leads['Page Views Per Visit'])\n",
    "plt.show()"
   ]
  },
  {
   "cell_type": "markdown",
   "metadata": {
    "id": "jT69EB50HcAx"
   },
   "source": [
    "Inferences for Page views/visit vs Converted\n",
    "\n",
    "1. There is no much evidence to conclude that the page views per visit does contribute to getting the customers converted \n",
    "\n",
    "2. However the upper quartile is longer for the converted customers still it is not a strong factor"
   ]
  },
  {
   "cell_type": "markdown",
   "metadata": {
    "id": "gdZ16sTdH0ec"
   },
   "source": [
    "TotalVisits vs Converted"
   ]
  },
  {
   "cell_type": "code",
   "execution_count": 81,
   "metadata": {
    "colab": {
     "base_uri": "https://localhost:8080/",
     "height": 279
    },
    "id": "hnxecrs7IDjp",
    "outputId": "7d6334a9-27f2-496e-859e-d254ce47a2d2"
   },
   "outputs": [
    {
     "data": {
      "image/png": "[encoded data removed]",
      "text/plain": [
       "<Figure size 432x288 with 1 Axes>"
      ]
     },
     "metadata": {
      "needs_background": "light"
     },
     "output_type": "display_data"
    }
   ],
   "source": [
    "sns.boxplot(x=leads.Converted,y=leads['TotalVisits'])\n",
    "plt.show()"
   ]
  },
  {
   "cell_type": "markdown",
   "metadata": {
    "id": "s85GZIMQIJML"
   },
   "source": [
    "##Inferences drawn for Total Visits vs Converted\n",
    "\n",
    "1. The number of converted customers slightly increase as the total visit count increases\n",
    "\n",
    "2. However the median of total visist remain the same for both type of customers"
   ]
  },
  {
   "cell_type": "markdown",
   "metadata": {
    "id": "BOBne0XuIoJE"
   },
   "source": [
    "Total Time Spent on Website vs Converted"
   ]
  },
  {
   "cell_type": "code",
   "execution_count": 82,
   "metadata": {
    "colab": {
     "base_uri": "https://localhost:8080/",
     "height": 279
    },
    "id": "6JJBqH9wIxwY",
    "outputId": "aa629d69-3b4b-4d22-e570-9e75e86e5ba3"
   },
   "outputs": [
    {
     "data": {
      "image/png": "[encoded data removed]",
      "text/plain": [
       "<Figure size 432x288 with 1 Axes>"
      ]
     },
     "metadata": {
      "needs_background": "light"
     },
     "output_type": "display_data"
    }
   ],
   "source": [
    "sns.boxplot(x=leads.Converted,y=leads['Total Time Spent on Website'])\n",
    "plt.show()"
   ]
  },
  {
   "cell_type": "markdown",
   "metadata": {
    "id": "TpCVD_q821UX"
   },
   "source": [
    "Clearly as total time spent on the website is more so is the conversion rate"
   ]
  },
  {
   "cell_type": "markdown",
   "metadata": {
    "id": "7NQO4VR-YcPL"
   },
   "source": [
    "Important to Note:\n",
    "\n",
    "We have removed the data whose percentile is more than 99% i.,e those data are less than 1% frequent in the given columns , however to better handle we can create a separate model for outlier data alone . To keep things simple , we removed the outliers and we proceeded further."
   ]
  },
  {
   "cell_type": "markdown",
   "metadata": {
    "id": "0N4pGZQ2Y8Xc"
   },
   "source": [
    "Again checking for null values"
   ]
  },
  {
   "cell_type": "code",
   "execution_count": 83,
   "metadata": {
    "colab": {
     "base_uri": "https://localhost:8080/"
    },
    "id": "qQS-qHpERuRs",
    "outputId": "331b4bb4-18be-48e9-a414-93275bc70e00"
   },
   "outputs": [
    {
     "data": {
      "text/plain": [
       "Lead Origin                               0\n",
       "Lead Source                               0\n",
       "Do Not Email                              0\n",
       "Converted                                 0\n",
       "TotalVisits                               0\n",
       "Total Time Spent on Website               0\n",
       "Page Views Per Visit                      0\n",
       "Last Activity                             0\n",
       "Specialization                            0\n",
       "What is your current occupation           0\n",
       "Tags                                      0\n",
       "Lead Profile                              0\n",
       "City                                      0\n",
       "A free copy of Mastering The Interview    0\n",
       "dtype: int64"
      ]
     },
     "execution_count": 83,
     "metadata": {},
     "output_type": "execute_result"
    }
   ],
   "source": [
    "leads.isnull().sum()"
   ]
  },
  {
   "cell_type": "markdown",
   "metadata": {
    "id": "cbcslg53Y7mH"
   },
   "source": [
    "# 1.4 We shall  encode the categorical variables"
   ]
  },
  {
   "cell_type": "markdown",
   "metadata": {
    "id": "YU_IQPG0dpw8"
   },
   "source": [
    "Let us map 0 and 1 to two level categorical column and rest we shall apply dummy encoding"
   ]
  },
  {
   "cell_type": "code",
   "execution_count": 84,
   "metadata": {
    "id": "leGYI8U1dkzs"
   },
   "outputs": [],
   "source": [
    "##Extracting two-level categorical data\n",
    "\n",
    "cat_list=leads.select_dtypes('object').columns.tolist()"
   ]
  },
  {
   "cell_type": "code",
   "execution_count": 85,
   "metadata": {
    "id": "ZOE_rYAedlCj"
   },
   "outputs": [],
   "source": [
    "binary_encode=[]\n",
    "dummy_encode=[]\n",
    "for i in cat_list:\n",
    "  if len(leads[i].value_counts().index.tolist())==2:\n",
    "    binary_encode.append(i)\n",
    "  else:\n",
    "    dummy_encode.append(i)\n",
    "\n",
    "  "
   ]
  },
  {
   "cell_type": "code",
   "execution_count": 86,
   "metadata": {
    "colab": {
     "base_uri": "https://localhost:8080/"
    },
    "id": "WmITI1RPhbgF",
    "outputId": "3066f71c-cded-41c8-d166-8677b7b1ba6a"
   },
   "outputs": [
    {
     "name": "stdout",
     "output_type": "stream",
     "text": [
      "The columns which needs to be binary encoded  ['Do Not Email', 'A free copy of Mastering The Interview']\n",
      "The columns which needs to be dummy encoded  ['Lead Origin', 'Lead Source', 'Last Activity', 'Specialization', 'What is your current occupation', 'Tags', 'Lead Profile', 'City']\n"
     ]
    }
   ],
   "source": [
    "print('The columns which needs to be binary encoded ', binary_encode)\n",
    "print('The columns which needs to be dummy encoded ', dummy_encode)"
   ]
  },
  {
   "cell_type": "markdown",
   "metadata": {
    "id": "VHhX7RAkiXcO"
   },
   "source": [
    "## For binary encoded columns we shall map 0 to No and 1 to Yes"
   ]
  },
  {
   "cell_type": "code",
   "execution_count": 87,
   "metadata": {
    "id": "2_KlhY6kdlFz"
   },
   "outputs": [],
   "source": [
    "def map(x):\n",
    "  return x.map({'Yes':1,'No':0})\n",
    "leads[['Do Not Email', 'A free copy of Mastering The Interview']]=leads[['Do Not Email', 'A free copy of Mastering The Interview']].apply(map)"
   ]
  },
  {
   "cell_type": "markdown",
   "metadata": {
    "id": "XSRYX8Wji3he"
   },
   "source": [
    "# Use dummy encoding or one-hot for other columns as shown in dummy encoded list"
   ]
  },
  {
   "cell_type": "code",
   "execution_count": 88,
   "metadata": {
    "id": "e2uMhPcCis7B"
   },
   "outputs": [],
   "source": [
    "##For Lead origin\n",
    "\n",
    "dummy1 = pd.get_dummies(leads['Lead Origin'], drop_first=True)\n",
    "\n",
    "# Adding the results to the master dataframe\n",
    "leads = pd.concat([leads, dummy1], axis=1)\n"
   ]
  },
  {
   "cell_type": "code",
   "execution_count": 89,
   "metadata": {
    "id": "uoeMk0l1nANE"
   },
   "outputs": [],
   "source": [
    "##For Lead Source\n",
    "\n",
    "dummy2=pd.get_dummies(leads['Lead Source'],prefix='Lead Source')\n",
    "dummy2 = dummy2.drop(['Lead Source_other_lead_sources'], 1)\n",
    "#Adding the results to the master dataframe\n",
    "leads = pd.concat([leads,dummy2], axis=1)"
   ]
  },
  {
   "cell_type": "code",
   "execution_count": 90,
   "metadata": {
    "id": "6TdDgD74nAXS"
   },
   "outputs": [],
   "source": [
    "##For Last Activity\n",
    "\n",
    "dummy3=pd.get_dummies(leads['Last Activity'],prefix='Last Activity')\n",
    "dummy3 = dummy3.drop(['Last Activity_other activity'], 1)\n",
    "#Adding the results to the master dataframe\n",
    "leads = pd.concat([leads,dummy3], axis=1)\n"
   ]
  },
  {
   "cell_type": "code",
   "execution_count": 91,
   "metadata": {
    "id": "14bNJMf3nAZ4"
   },
   "outputs": [],
   "source": [
    "##For SPecialization\n",
    "\n",
    "dummy4=pd.get_dummies(leads['Specialization'],prefix='Specialization')\n",
    "dummy4 = dummy4.drop(['Specialization_other specialisation'], 1)\n",
    "#Adding the results to the master dataframe\n",
    "leads = pd.concat([leads,dummy4], axis=1)"
   ]
  },
  {
   "cell_type": "code",
   "execution_count": 92,
   "metadata": {
    "id": "z5vkbEfAnAdH"
   },
   "outputs": [],
   "source": [
    "##For What is your current occupation\n",
    "\n",
    "dummy5=pd.get_dummies(leads['What is your current occupation'],prefix='What is your current occupation')\n",
    "dummy5 = dummy5.drop(['What is your current occupation_Other'], 1)\n",
    "#Adding the results to the master dataframe\n",
    "leads = pd.concat([leads,dummy5], axis=1)"
   ]
  },
  {
   "cell_type": "code",
   "execution_count": 93,
   "metadata": {
    "id": "0q0h0A_lvNom"
   },
   "outputs": [],
   "source": [
    "##For Tag\n",
    "\n",
    "dummy6=pd.get_dummies(leads['Tags'],prefix='Tags')\n",
    "dummy6 = dummy6.drop(['Tags_other tags'], 1)\n",
    "#Adding the results to the master dataframe\n",
    "leads = pd.concat([leads,dummy6], axis=1)"
   ]
  },
  {
   "cell_type": "code",
   "execution_count": 94,
   "metadata": {
    "id": "EifZ72NlvNrD"
   },
   "outputs": [],
   "source": [
    "##For Lead Profile\n",
    "dummy7=pd.get_dummies(leads['Lead Profile'],prefix='Lead Profile')\n",
    "dummy7 = dummy7.drop(['Lead Profile_Other Leads'], 1)\n",
    "#Adding the results to the master dataframe\n",
    "leads = pd.concat([leads,dummy7], axis=1)"
   ]
  },
  {
   "cell_type": "code",
   "execution_count": 95,
   "metadata": {
    "id": "HzTJvSEJvNtk"
   },
   "outputs": [],
   "source": [
    "##For City\n",
    "\n",
    "dummy8=pd.get_dummies(leads['City'],prefix='City')\n",
    "dummy8 = dummy8.drop(['City_Other Cities'], 1)\n",
    "#Adding the results to the master dataframe\n",
    "leads = pd.concat([leads,dummy8], axis=1)"
   ]
  },
  {
   "cell_type": "code",
   "execution_count": 96,
   "metadata": {
    "id": "WCCS0YlWyX18"
   },
   "outputs": [],
   "source": [
    "## Now we shall remove earlier categorical columns with dummy encoding \n",
    "leads.drop(dummy_encode,inplace=True,axis=1)\n"
   ]
  },
  {
   "cell_type": "code",
   "execution_count": 97,
   "metadata": {
    "colab": {
     "base_uri": "https://localhost:8080/"
    },
    "id": "J1JvnnJJynO8",
    "outputId": "5bb68675-24bd-437d-82c3-9260021ac87d"
   },
   "outputs": [
    {
     "data": {
      "text/plain": [
       "(8953, 45)"
      ]
     },
     "execution_count": 97,
     "metadata": {},
     "output_type": "execute_result"
    }
   ],
   "source": [
    "#Checking the shape of the final dataset\n",
    "leads.shape"
   ]
  },
  {
   "cell_type": "markdown",
   "metadata": {
    "id": "QELWGPRLwz6i"
   },
   "source": [
    "# 1.5 Checking the correlation and removing them if any before doing test-train split"
   ]
  },
  {
   "cell_type": "markdown",
   "metadata": {
    "id": "jg8q6D7x2Y7d"
   },
   "source": [
    "Now let us find  Correlation between dummy variables and we shall remove if the correlation %>60"
   ]
  },
  {
   "cell_type": "code",
   "execution_count": 98,
   "metadata": {
    "colab": {
     "base_uri": "https://localhost:8080/",
     "height": 363
    },
    "id": "ElFHKmt5is_S",
    "outputId": "3dc30ba3-6afd-498a-df90-1677ad006d52"
   },
   "outputs": [
    {
     "data": {
      "text/html": [
       "<div>\n",
       "<style scoped>\n",
       "    .dataframe tbody tr th:only-of-type {\n",
       "        vertical-align: middle;\n",
       "    }\n",
       "\n",
       "    .dataframe tbody tr th {\n",
       "        vertical-align: top;\n",
       "    }\n",
       "\n",
       "    .dataframe thead th {\n",
       "        text-align: right;\n",
       "    }\n",
       "</style>\n",
       "<table border=\"1\" class=\"dataframe\">\n",
       "  <thead>\n",
       "    <tr style=\"text-align: right;\">\n",
       "      <th></th>\n",
       "      <th>Column 1</th>\n",
       "      <th>Column 2</th>\n",
       "      <th>Correlation</th>\n",
       "    </tr>\n",
       "  </thead>\n",
       "  <tbody>\n",
       "    <tr>\n",
       "      <th>547</th>\n",
       "      <td>Lead Source_Reference</td>\n",
       "      <td>Lead Add Form</td>\n",
       "      <td>0.845017</td>\n",
       "    </tr>\n",
       "    <tr>\n",
       "      <th>182</th>\n",
       "      <td>Page Views Per Visit</td>\n",
       "      <td>TotalVisits</td>\n",
       "      <td>0.721126</td>\n",
       "    </tr>\n",
       "    <tr>\n",
       "      <th>1786</th>\n",
       "      <td>Lead Profile_Student of SomeSchool</td>\n",
       "      <td>Tags_Already a student</td>\n",
       "      <td>0.670034</td>\n",
       "    </tr>\n",
       "    <tr>\n",
       "      <th>1621</th>\n",
       "      <td>Tags_Will revert after reading the email</td>\n",
       "      <td>Converted</td>\n",
       "      <td>0.654624</td>\n",
       "    </tr>\n",
       "    <tr>\n",
       "      <th>675</th>\n",
       "      <td>Last Activity_Email Bounced</td>\n",
       "      <td>Do Not Email</td>\n",
       "      <td>0.626723</td>\n",
       "    </tr>\n",
       "    <tr>\n",
       "      <th>410</th>\n",
       "      <td>Lead Source_Direct Traffic</td>\n",
       "      <td>A free copy of Mastering The Interview</td>\n",
       "      <td>0.607037</td>\n",
       "    </tr>\n",
       "    <tr>\n",
       "      <th>275</th>\n",
       "      <td>Landing Page Submission</td>\n",
       "      <td>A free copy of Mastering The Interview</td>\n",
       "      <td>0.564394</td>\n",
       "    </tr>\n",
       "    <tr>\n",
       "      <th>274</th>\n",
       "      <td>Landing Page Submission</td>\n",
       "      <td>Page Views Per Visit</td>\n",
       "      <td>0.538432</td>\n",
       "    </tr>\n",
       "    <tr>\n",
       "      <th>411</th>\n",
       "      <td>Lead Source_Direct Traffic</td>\n",
       "      <td>Landing Page Submission</td>\n",
       "      <td>0.530440</td>\n",
       "    </tr>\n",
       "    <tr>\n",
       "      <th>1221</th>\n",
       "      <td>Specialization_management courses</td>\n",
       "      <td>Landing Page Submission</td>\n",
       "      <td>0.505792</td>\n",
       "    </tr>\n",
       "  </tbody>\n",
       "</table>\n",
       "</div>"
      ],
      "text/plain": [
       "                                      Column 1  \\\n",
       "547                      Lead Source_Reference   \n",
       "182                       Page Views Per Visit   \n",
       "1786        Lead Profile_Student of SomeSchool   \n",
       "1621  Tags_Will revert after reading the email   \n",
       "675                Last Activity_Email Bounced   \n",
       "410                 Lead Source_Direct Traffic   \n",
       "275                    Landing Page Submission   \n",
       "274                    Landing Page Submission   \n",
       "411                 Lead Source_Direct Traffic   \n",
       "1221         Specialization_management courses   \n",
       "\n",
       "                                    Column 2  Correlation  \n",
       "547                            Lead Add Form     0.845017  \n",
       "182                              TotalVisits     0.721126  \n",
       "1786                  Tags_Already a student     0.670034  \n",
       "1621                               Converted     0.654624  \n",
       "675                             Do Not Email     0.626723  \n",
       "410   A free copy of Mastering The Interview     0.607037  \n",
       "275   A free copy of Mastering The Interview     0.564394  \n",
       "274                     Page Views Per Visit     0.538432  \n",
       "411                  Landing Page Submission     0.530440  \n",
       "1221                 Landing Page Submission     0.505792  "
      ]
     },
     "execution_count": 98,
     "metadata": {},
     "output_type": "execute_result"
    }
   ],
   "source": [
    "leads_corr = leads.corr()\n",
    "  \n",
    "# Retain upper triangular values of correlation matrix and\n",
    "# make Lower triangular values Null by condiioning the matrix value to boolean\n",
    "upper_matrix = leads_corr.where(np.triu(np.ones(leads_corr.shape), k=1).astype(np.bool))\n",
    "#Unstacking to make it 1-d and reseting index\n",
    "upper_matrix=upper_matrix.unstack().reset_index()\n",
    "upper_matrix.columns=['Column 1','Column 2','Correlation']\n",
    "upper_matrix=upper_matrix.sort_values(by='Correlation',ascending=False).iloc[:10]\n",
    "upper_matrix"
   ]
  },
  {
   "cell_type": "markdown",
   "metadata": {
    "id": "5Dg-MtV20P1v"
   },
   "source": [
    "# We shall drop only the dummy encoded columns which show correlation with other columns and correlation factor>60%"
   ]
  },
  {
   "cell_type": "code",
   "execution_count": 99,
   "metadata": {
    "id": "ep8GGMXwitE5"
   },
   "outputs": [],
   "source": [
    "leads.drop(['Lead Source_Reference','TotalVisits','Lead Profile_Student of SomeSchool','Last Activity_Email Bounced'],\n",
    "             axis=1,inplace=True)"
   ]
  },
  {
   "cell_type": "code",
   "execution_count": 100,
   "metadata": {
    "colab": {
     "base_uri": "https://localhost:8080/",
     "height": 363
    },
    "id": "3fOmM_ab3EQ3",
    "outputId": "f6cb660d-6ef8-4d0c-8982-db3682fa068c"
   },
   "outputs": [
    {
     "data": {
      "text/html": [
       "<div>\n",
       "<style scoped>\n",
       "    .dataframe tbody tr th:only-of-type {\n",
       "        vertical-align: middle;\n",
       "    }\n",
       "\n",
       "    .dataframe tbody tr th {\n",
       "        vertical-align: top;\n",
       "    }\n",
       "\n",
       "    .dataframe thead th {\n",
       "        text-align: right;\n",
       "    }\n",
       "</style>\n",
       "<table border=\"1\" class=\"dataframe\">\n",
       "  <thead>\n",
       "    <tr style=\"text-align: right;\">\n",
       "      <th></th>\n",
       "      <th>Column 1</th>\n",
       "      <th>Column 2</th>\n",
       "      <th>Correlation</th>\n",
       "    </tr>\n",
       "  </thead>\n",
       "  <tbody>\n",
       "    <tr>\n",
       "      <th>1354</th>\n",
       "      <td>Tags_Will revert after reading the email</td>\n",
       "      <td>Converted</td>\n",
       "      <td>0.654624</td>\n",
       "    </tr>\n",
       "    <tr>\n",
       "      <th>332</th>\n",
       "      <td>Lead Source_Direct Traffic</td>\n",
       "      <td>A free copy of Mastering The Interview</td>\n",
       "      <td>0.607037</td>\n",
       "    </tr>\n",
       "    <tr>\n",
       "      <th>209</th>\n",
       "      <td>Landing Page Submission</td>\n",
       "      <td>A free copy of Mastering The Interview</td>\n",
       "      <td>0.564394</td>\n",
       "    </tr>\n",
       "    <tr>\n",
       "      <th>208</th>\n",
       "      <td>Landing Page Submission</td>\n",
       "      <td>Page Views Per Visit</td>\n",
       "      <td>0.538432</td>\n",
       "    </tr>\n",
       "    <tr>\n",
       "      <th>333</th>\n",
       "      <td>Lead Source_Direct Traffic</td>\n",
       "      <td>Landing Page Submission</td>\n",
       "      <td>0.530440</td>\n",
       "    </tr>\n",
       "    <tr>\n",
       "      <th>989</th>\n",
       "      <td>Specialization_management courses</td>\n",
       "      <td>Landing Page Submission</td>\n",
       "      <td>0.505792</td>\n",
       "    </tr>\n",
       "    <tr>\n",
       "      <th>1481</th>\n",
       "      <td>City_Mumbai</td>\n",
       "      <td>Landing Page Submission</td>\n",
       "      <td>0.503092</td>\n",
       "    </tr>\n",
       "    <tr>\n",
       "      <th>1468</th>\n",
       "      <td>Lead Profile_Potential Lead</td>\n",
       "      <td>Tags_Will revert after reading the email</td>\n",
       "      <td>0.460120</td>\n",
       "    </tr>\n",
       "    <tr>\n",
       "      <th>624</th>\n",
       "      <td>Last Activity_Olark Chat Conversation</td>\n",
       "      <td>Lead Source_Olark Chat</td>\n",
       "      <td>0.424846</td>\n",
       "    </tr>\n",
       "    <tr>\n",
       "      <th>1380</th>\n",
       "      <td>Tags_Will revert after reading the email</td>\n",
       "      <td>What is your current occupation_Working Profes...</td>\n",
       "      <td>0.387784</td>\n",
       "    </tr>\n",
       "  </tbody>\n",
       "</table>\n",
       "</div>"
      ],
      "text/plain": [
       "                                      Column 1  \\\n",
       "1354  Tags_Will revert after reading the email   \n",
       "332                 Lead Source_Direct Traffic   \n",
       "209                    Landing Page Submission   \n",
       "208                    Landing Page Submission   \n",
       "333                 Lead Source_Direct Traffic   \n",
       "989          Specialization_management courses   \n",
       "1481                               City_Mumbai   \n",
       "1468               Lead Profile_Potential Lead   \n",
       "624      Last Activity_Olark Chat Conversation   \n",
       "1380  Tags_Will revert after reading the email   \n",
       "\n",
       "                                               Column 2  Correlation  \n",
       "1354                                          Converted     0.654624  \n",
       "332              A free copy of Mastering The Interview     0.607037  \n",
       "209              A free copy of Mastering The Interview     0.564394  \n",
       "208                                Page Views Per Visit     0.538432  \n",
       "333                             Landing Page Submission     0.530440  \n",
       "989                             Landing Page Submission     0.505792  \n",
       "1481                            Landing Page Submission     0.503092  \n",
       "1468           Tags_Will revert after reading the email     0.460120  \n",
       "624                              Lead Source_Olark Chat     0.424846  \n",
       "1380  What is your current occupation_Working Profes...     0.387784  "
      ]
     },
     "execution_count": 100,
     "metadata": {},
     "output_type": "execute_result"
    }
   ],
   "source": [
    "##Let us plot the correlation matrix again\n",
    "\n",
    "leads_corr = leads.corr()\n",
    "  \n",
    "# Retain upper triangular values of correlation matrix and\n",
    "# make Lower triangular values Null by condiioning the matrix value to boolean\n",
    "upper_matrix = leads_corr.where(np.triu(np.ones(leads_corr.shape), k=1).astype(np.bool))\n",
    "#Unstacking to make it 1-d and reseting index\n",
    "upper_matrix=upper_matrix.unstack().reset_index()\n",
    "upper_matrix.columns=['Column 1','Column 2','Correlation']\n",
    "upper_matrix=upper_matrix.sort_values(by='Correlation',ascending=False).iloc[:10]\n",
    "upper_matrix"
   ]
  },
  {
   "cell_type": "markdown",
   "metadata": {
    "id": "IqGpG7Qhb-Wd"
   },
   "source": [
    "We shall neglect the correlation with convereted as it is dependant variable"
   ]
  },
  {
   "cell_type": "code",
   "execution_count": 101,
   "metadata": {
    "colab": {
     "base_uri": "https://localhost:8080/"
    },
    "id": "u219Mzrr3EUj",
    "outputId": "1c424029-1848-4b6e-d19d-9f9a15e7455f"
   },
   "outputs": [
    {
     "data": {
      "text/plain": [
       "37.92025019546521"
      ]
     },
     "execution_count": 101,
     "metadata": {},
     "output_type": "execute_result"
    }
   ],
   "source": [
    "##Checking the converted proportion\n",
    "\n",
    "converted = (sum(leads['Converted'])/len(leads['Converted'].index))*100\n",
    "converted"
   ]
  },
  {
   "cell_type": "markdown",
   "metadata": {
    "id": "EO8_NPSm404L"
   },
   "source": [
    "We have only 37% of converted case"
   ]
  },
  {
   "cell_type": "code",
   "execution_count": 102,
   "metadata": {
    "colab": {
     "base_uri": "https://localhost:8080/",
     "height": 295
    },
    "id": "03q8Xd-Rbhg1",
    "outputId": "62c17ea7-5358-4c73-e52e-4128866a0f5e"
   },
   "outputs": [
    {
     "data": {
      "text/html": [
       "<div>\n",
       "<style scoped>\n",
       "    .dataframe tbody tr th:only-of-type {\n",
       "        vertical-align: middle;\n",
       "    }\n",
       "\n",
       "    .dataframe tbody tr th {\n",
       "        vertical-align: top;\n",
       "    }\n",
       "\n",
       "    .dataframe thead th {\n",
       "        text-align: right;\n",
       "    }\n",
       "</style>\n",
       "<table border=\"1\" class=\"dataframe\">\n",
       "  <thead>\n",
       "    <tr style=\"text-align: right;\">\n",
       "      <th></th>\n",
       "      <th>Do Not Email</th>\n",
       "      <th>Total Time Spent on Website</th>\n",
       "      <th>Page Views Per Visit</th>\n",
       "      <th>A free copy of Mastering The Interview</th>\n",
       "      <th>Landing Page Submission</th>\n",
       "      <th>Lead Add Form</th>\n",
       "      <th>Lead Import</th>\n",
       "      <th>Lead Source_Direct Traffic</th>\n",
       "      <th>Lead Source_Olark Chat</th>\n",
       "      <th>Lead Source_Organic Search</th>\n",
       "      <th>...</th>\n",
       "      <th>Tags_Interested in other courses</th>\n",
       "      <th>Tags_Ringing</th>\n",
       "      <th>Tags_Will revert after reading the email</th>\n",
       "      <th>Tags_switched off</th>\n",
       "      <th>Lead Profile_Potential Lead</th>\n",
       "      <th>City_Mumbai</th>\n",
       "      <th>City_Other Cities of Maharashtra</th>\n",
       "      <th>City_Other Metro Cities</th>\n",
       "      <th>City_Thane &amp; Outskirts</th>\n",
       "      <th>City_Tier II Cities</th>\n",
       "    </tr>\n",
       "  </thead>\n",
       "  <tbody>\n",
       "    <tr>\n",
       "      <th>0</th>\n",
       "      <td>0</td>\n",
       "      <td>0</td>\n",
       "      <td>0.0</td>\n",
       "      <td>0</td>\n",
       "      <td>0</td>\n",
       "      <td>0</td>\n",
       "      <td>0</td>\n",
       "      <td>0</td>\n",
       "      <td>1</td>\n",
       "      <td>0</td>\n",
       "      <td>...</td>\n",
       "      <td>1</td>\n",
       "      <td>0</td>\n",
       "      <td>0</td>\n",
       "      <td>0</td>\n",
       "      <td>0</td>\n",
       "      <td>0</td>\n",
       "      <td>0</td>\n",
       "      <td>0</td>\n",
       "      <td>0</td>\n",
       "      <td>0</td>\n",
       "    </tr>\n",
       "    <tr>\n",
       "      <th>1</th>\n",
       "      <td>0</td>\n",
       "      <td>674</td>\n",
       "      <td>2.5</td>\n",
       "      <td>0</td>\n",
       "      <td>0</td>\n",
       "      <td>0</td>\n",
       "      <td>0</td>\n",
       "      <td>0</td>\n",
       "      <td>0</td>\n",
       "      <td>1</td>\n",
       "      <td>...</td>\n",
       "      <td>0</td>\n",
       "      <td>1</td>\n",
       "      <td>0</td>\n",
       "      <td>0</td>\n",
       "      <td>0</td>\n",
       "      <td>0</td>\n",
       "      <td>0</td>\n",
       "      <td>0</td>\n",
       "      <td>0</td>\n",
       "      <td>0</td>\n",
       "    </tr>\n",
       "    <tr>\n",
       "      <th>2</th>\n",
       "      <td>0</td>\n",
       "      <td>1532</td>\n",
       "      <td>2.0</td>\n",
       "      <td>1</td>\n",
       "      <td>1</td>\n",
       "      <td>0</td>\n",
       "      <td>0</td>\n",
       "      <td>1</td>\n",
       "      <td>0</td>\n",
       "      <td>0</td>\n",
       "      <td>...</td>\n",
       "      <td>0</td>\n",
       "      <td>0</td>\n",
       "      <td>1</td>\n",
       "      <td>0</td>\n",
       "      <td>1</td>\n",
       "      <td>1</td>\n",
       "      <td>0</td>\n",
       "      <td>0</td>\n",
       "      <td>0</td>\n",
       "      <td>0</td>\n",
       "    </tr>\n",
       "    <tr>\n",
       "      <th>3</th>\n",
       "      <td>0</td>\n",
       "      <td>305</td>\n",
       "      <td>1.0</td>\n",
       "      <td>0</td>\n",
       "      <td>1</td>\n",
       "      <td>0</td>\n",
       "      <td>0</td>\n",
       "      <td>1</td>\n",
       "      <td>0</td>\n",
       "      <td>0</td>\n",
       "      <td>...</td>\n",
       "      <td>0</td>\n",
       "      <td>1</td>\n",
       "      <td>0</td>\n",
       "      <td>0</td>\n",
       "      <td>0</td>\n",
       "      <td>1</td>\n",
       "      <td>0</td>\n",
       "      <td>0</td>\n",
       "      <td>0</td>\n",
       "      <td>0</td>\n",
       "    </tr>\n",
       "    <tr>\n",
       "      <th>4</th>\n",
       "      <td>0</td>\n",
       "      <td>1428</td>\n",
       "      <td>1.0</td>\n",
       "      <td>0</td>\n",
       "      <td>1</td>\n",
       "      <td>0</td>\n",
       "      <td>0</td>\n",
       "      <td>0</td>\n",
       "      <td>0</td>\n",
       "      <td>0</td>\n",
       "      <td>...</td>\n",
       "      <td>0</td>\n",
       "      <td>0</td>\n",
       "      <td>1</td>\n",
       "      <td>0</td>\n",
       "      <td>0</td>\n",
       "      <td>1</td>\n",
       "      <td>0</td>\n",
       "      <td>0</td>\n",
       "      <td>0</td>\n",
       "      <td>0</td>\n",
       "    </tr>\n",
       "  </tbody>\n",
       "</table>\n",
       "<p>5 rows × 40 columns</p>\n",
       "</div>"
      ],
      "text/plain": [
       "   Do Not Email  Total Time Spent on Website  Page Views Per Visit  \\\n",
       "0             0                            0                   0.0   \n",
       "1             0                          674                   2.5   \n",
       "2             0                         1532                   2.0   \n",
       "3             0                          305                   1.0   \n",
       "4             0                         1428                   1.0   \n",
       "\n",
       "   A free copy of Mastering The Interview  Landing Page Submission  \\\n",
       "0                                       0                        0   \n",
       "1                                       0                        0   \n",
       "2                                       1                        1   \n",
       "3                                       0                        1   \n",
       "4                                       0                        1   \n",
       "\n",
       "   Lead Add Form  Lead Import  Lead Source_Direct Traffic  \\\n",
       "0              0            0                           0   \n",
       "1              0            0                           0   \n",
       "2              0            0                           1   \n",
       "3              0            0                           1   \n",
       "4              0            0                           0   \n",
       "\n",
       "   Lead Source_Olark Chat  Lead Source_Organic Search         ...           \\\n",
       "0                       1                           0         ...            \n",
       "1                       0                           1         ...            \n",
       "2                       0                           0         ...            \n",
       "3                       0                           0         ...            \n",
       "4                       0                           0         ...            \n",
       "\n",
       "   Tags_Interested in other courses  Tags_Ringing  \\\n",
       "0                                 1             0   \n",
       "1                                 0             1   \n",
       "2                                 0             0   \n",
       "3                                 0             1   \n",
       "4                                 0             0   \n",
       "\n",
       "   Tags_Will revert after reading the email  Tags_switched off  \\\n",
       "0                                         0                  0   \n",
       "1                                         0                  0   \n",
       "2                                         1                  0   \n",
       "3                                         0                  0   \n",
       "4                                         1                  0   \n",
       "\n",
       "   Lead Profile_Potential Lead  City_Mumbai  City_Other Cities of Maharashtra  \\\n",
       "0                            0            0                                 0   \n",
       "1                            0            0                                 0   \n",
       "2                            1            1                                 0   \n",
       "3                            0            1                                 0   \n",
       "4                            0            1                                 0   \n",
       "\n",
       "   City_Other Metro Cities  City_Thane & Outskirts  City_Tier II Cities  \n",
       "0                        0                       0                    0  \n",
       "1                        0                       0                    0  \n",
       "2                        0                       0                    0  \n",
       "3                        0                       0                    0  \n",
       "4                        0                       0                    0  \n",
       "\n",
       "[5 rows x 40 columns]"
      ]
     },
     "execution_count": 102,
     "metadata": {},
     "output_type": "execute_result"
    }
   ],
   "source": [
    "##Test_Train split\n",
    "from sklearn.model_selection import train_test_split\n",
    "X = leads.drop(['Converted'], axis=1)\n",
    "\n",
    "X.head()"
   ]
  },
  {
   "cell_type": "code",
   "execution_count": 103,
   "metadata": {
    "colab": {
     "base_uri": "https://localhost:8080/"
    },
    "id": "ggHKAwLnbhnO",
    "outputId": "f2c60348-3fd3-49c0-b157-fa61897c1e73"
   },
   "outputs": [
    {
     "data": {
      "text/plain": [
       "0    0\n",
       "1    0\n",
       "2    1\n",
       "3    0\n",
       "4    1\n",
       "Name: Converted, dtype: int64"
      ]
     },
     "execution_count": 103,
     "metadata": {},
     "output_type": "execute_result"
    }
   ],
   "source": [
    "# Putting response variable to y\n",
    "y = leads['Converted']\n",
    "\n",
    "y.head()"
   ]
  },
  {
   "cell_type": "code",
   "execution_count": 104,
   "metadata": {
    "id": "rz9C4kVVbhsC"
   },
   "outputs": [],
   "source": [
    "# Splitting the data into train and test\n",
    "X_train, X_test, y_train, y_test = train_test_split(X, y, train_size=0.7, test_size=0.3, random_state=100)"
   ]
  },
  {
   "cell_type": "markdown",
   "metadata": {
    "id": "N64oRLRsbq5p"
   },
   "source": [
    "# Feature Scaling"
   ]
  },
  {
   "cell_type": "code",
   "execution_count": 105,
   "metadata": {
    "id": "nhTgbazIbhxF"
   },
   "outputs": [],
   "source": [
    "from sklearn.preprocessing import StandardScaler"
   ]
  },
  {
   "cell_type": "code",
   "execution_count": 106,
   "metadata": {
    "colab": {
     "base_uri": "https://localhost:8080/",
     "height": 295
    },
    "id": "hLsNayLNbh2L",
    "outputId": "643df403-2e25-4f49-c1c4-55b72e5d2f4d"
   },
   "outputs": [
    {
     "data": {
      "text/html": [
       "<div>\n",
       "<style scoped>\n",
       "    .dataframe tbody tr th:only-of-type {\n",
       "        vertical-align: middle;\n",
       "    }\n",
       "\n",
       "    .dataframe tbody tr th {\n",
       "        vertical-align: top;\n",
       "    }\n",
       "\n",
       "    .dataframe thead th {\n",
       "        text-align: right;\n",
       "    }\n",
       "</style>\n",
       "<table border=\"1\" class=\"dataframe\">\n",
       "  <thead>\n",
       "    <tr style=\"text-align: right;\">\n",
       "      <th></th>\n",
       "      <th>Do Not Email</th>\n",
       "      <th>Total Time Spent on Website</th>\n",
       "      <th>Page Views Per Visit</th>\n",
       "      <th>A free copy of Mastering The Interview</th>\n",
       "      <th>Landing Page Submission</th>\n",
       "      <th>Lead Add Form</th>\n",
       "      <th>Lead Import</th>\n",
       "      <th>Lead Source_Direct Traffic</th>\n",
       "      <th>Lead Source_Olark Chat</th>\n",
       "      <th>Lead Source_Organic Search</th>\n",
       "      <th>...</th>\n",
       "      <th>Tags_Interested in other courses</th>\n",
       "      <th>Tags_Ringing</th>\n",
       "      <th>Tags_Will revert after reading the email</th>\n",
       "      <th>Tags_switched off</th>\n",
       "      <th>Lead Profile_Potential Lead</th>\n",
       "      <th>City_Mumbai</th>\n",
       "      <th>City_Other Cities of Maharashtra</th>\n",
       "      <th>City_Other Metro Cities</th>\n",
       "      <th>City_Thane &amp; Outskirts</th>\n",
       "      <th>City_Tier II Cities</th>\n",
       "    </tr>\n",
       "  </thead>\n",
       "  <tbody>\n",
       "    <tr>\n",
       "      <th>9196</th>\n",
       "      <td>0</td>\n",
       "      <td>1.848117</td>\n",
       "      <td>1.455819</td>\n",
       "      <td>0</td>\n",
       "      <td>1</td>\n",
       "      <td>0</td>\n",
       "      <td>0</td>\n",
       "      <td>0</td>\n",
       "      <td>0</td>\n",
       "      <td>0</td>\n",
       "      <td>...</td>\n",
       "      <td>0</td>\n",
       "      <td>1</td>\n",
       "      <td>0</td>\n",
       "      <td>0</td>\n",
       "      <td>1</td>\n",
       "      <td>0</td>\n",
       "      <td>1</td>\n",
       "      <td>0</td>\n",
       "      <td>0</td>\n",
       "      <td>0</td>\n",
       "    </tr>\n",
       "    <tr>\n",
       "      <th>4696</th>\n",
       "      <td>0</td>\n",
       "      <td>-0.037832</td>\n",
       "      <td>0.399961</td>\n",
       "      <td>0</td>\n",
       "      <td>1</td>\n",
       "      <td>0</td>\n",
       "      <td>0</td>\n",
       "      <td>1</td>\n",
       "      <td>0</td>\n",
       "      <td>0</td>\n",
       "      <td>...</td>\n",
       "      <td>0</td>\n",
       "      <td>1</td>\n",
       "      <td>0</td>\n",
       "      <td>0</td>\n",
       "      <td>0</td>\n",
       "      <td>1</td>\n",
       "      <td>0</td>\n",
       "      <td>0</td>\n",
       "      <td>0</td>\n",
       "      <td>0</td>\n",
       "    </tr>\n",
       "    <tr>\n",
       "      <th>3274</th>\n",
       "      <td>0</td>\n",
       "      <td>-0.642138</td>\n",
       "      <td>-0.127967</td>\n",
       "      <td>0</td>\n",
       "      <td>1</td>\n",
       "      <td>0</td>\n",
       "      <td>0</td>\n",
       "      <td>0</td>\n",
       "      <td>0</td>\n",
       "      <td>0</td>\n",
       "      <td>...</td>\n",
       "      <td>0</td>\n",
       "      <td>0</td>\n",
       "      <td>0</td>\n",
       "      <td>0</td>\n",
       "      <td>0</td>\n",
       "      <td>0</td>\n",
       "      <td>0</td>\n",
       "      <td>1</td>\n",
       "      <td>0</td>\n",
       "      <td>0</td>\n",
       "    </tr>\n",
       "    <tr>\n",
       "      <th>2164</th>\n",
       "      <td>0</td>\n",
       "      <td>-0.154676</td>\n",
       "      <td>-0.127967</td>\n",
       "      <td>0</td>\n",
       "      <td>0</td>\n",
       "      <td>0</td>\n",
       "      <td>0</td>\n",
       "      <td>0</td>\n",
       "      <td>0</td>\n",
       "      <td>0</td>\n",
       "      <td>...</td>\n",
       "      <td>1</td>\n",
       "      <td>0</td>\n",
       "      <td>0</td>\n",
       "      <td>0</td>\n",
       "      <td>0</td>\n",
       "      <td>0</td>\n",
       "      <td>0</td>\n",
       "      <td>0</td>\n",
       "      <td>0</td>\n",
       "      <td>0</td>\n",
       "    </tr>\n",
       "    <tr>\n",
       "      <th>1667</th>\n",
       "      <td>0</td>\n",
       "      <td>1.258415</td>\n",
       "      <td>-0.481679</td>\n",
       "      <td>0</td>\n",
       "      <td>0</td>\n",
       "      <td>0</td>\n",
       "      <td>0</td>\n",
       "      <td>0</td>\n",
       "      <td>0</td>\n",
       "      <td>0</td>\n",
       "      <td>...</td>\n",
       "      <td>0</td>\n",
       "      <td>0</td>\n",
       "      <td>1</td>\n",
       "      <td>0</td>\n",
       "      <td>1</td>\n",
       "      <td>0</td>\n",
       "      <td>0</td>\n",
       "      <td>0</td>\n",
       "      <td>1</td>\n",
       "      <td>0</td>\n",
       "    </tr>\n",
       "  </tbody>\n",
       "</table>\n",
       "<p>5 rows × 40 columns</p>\n",
       "</div>"
      ],
      "text/plain": [
       "      Do Not Email  Total Time Spent on Website  Page Views Per Visit  \\\n",
       "9196             0                     1.848117              1.455819   \n",
       "4696             0                    -0.037832              0.399961   \n",
       "3274             0                    -0.642138             -0.127967   \n",
       "2164             0                    -0.154676             -0.127967   \n",
       "1667             0                     1.258415             -0.481679   \n",
       "\n",
       "      A free copy of Mastering The Interview  Landing Page Submission  \\\n",
       "9196                                       0                        1   \n",
       "4696                                       0                        1   \n",
       "3274                                       0                        1   \n",
       "2164                                       0                        0   \n",
       "1667                                       0                        0   \n",
       "\n",
       "      Lead Add Form  Lead Import  Lead Source_Direct Traffic  \\\n",
       "9196              0            0                           0   \n",
       "4696              0            0                           1   \n",
       "3274              0            0                           0   \n",
       "2164              0            0                           0   \n",
       "1667              0            0                           0   \n",
       "\n",
       "      Lead Source_Olark Chat  Lead Source_Organic Search         ...           \\\n",
       "9196                       0                           0         ...            \n",
       "4696                       0                           0         ...            \n",
       "3274                       0                           0         ...            \n",
       "2164                       0                           0         ...            \n",
       "1667                       0                           0         ...            \n",
       "\n",
       "      Tags_Interested in other courses  Tags_Ringing  \\\n",
       "9196                                 0             1   \n",
       "4696                                 0             1   \n",
       "3274                                 0             0   \n",
       "2164                                 1             0   \n",
       "1667                                 0             0   \n",
       "\n",
       "      Tags_Will revert after reading the email  Tags_switched off  \\\n",
       "9196                                         0                  0   \n",
       "4696                                         0                  0   \n",
       "3274                                         0                  0   \n",
       "2164                                         0                  0   \n",
       "1667                                         1                  0   \n",
       "\n",
       "      Lead Profile_Potential Lead  City_Mumbai  \\\n",
       "9196                            1            0   \n",
       "4696                            0            1   \n",
       "3274                            0            0   \n",
       "2164                            0            0   \n",
       "1667                            1            0   \n",
       "\n",
       "      City_Other Cities of Maharashtra  City_Other Metro Cities  \\\n",
       "9196                                 1                        0   \n",
       "4696                                 0                        0   \n",
       "3274                                 0                        1   \n",
       "2164                                 0                        0   \n",
       "1667                                 0                        0   \n",
       "\n",
       "      City_Thane & Outskirts  City_Tier II Cities  \n",
       "9196                       0                    0  \n",
       "4696                       0                    0  \n",
       "3274                       0                    0  \n",
       "2164                       0                    0  \n",
       "1667                       1                    0  \n",
       "\n",
       "[5 rows x 40 columns]"
      ]
     },
     "execution_count": 106,
     "metadata": {},
     "output_type": "execute_result"
    }
   ],
   "source": [
    "scaler = StandardScaler()\n",
    "\n",
    "X_train[['Page Views Per Visit', 'Total Time Spent on Website']] = scaler.fit_transform(X_train[['Page Views Per Visit', 'Total Time Spent on Website']])\n",
    "X_train.head()"
   ]
  },
  {
   "cell_type": "markdown",
   "metadata": {
    "id": "lgVFYETD47bI"
   },
   "source": [
    "# 2.1 Model Building with Stats Module on train dataset"
   ]
  },
  {
   "cell_type": "code",
   "execution_count": 107,
   "metadata": {
    "id": "048YFbn13EZ4"
   },
   "outputs": [],
   "source": [
    "import statsmodels.api as sm"
   ]
  },
  {
   "cell_type": "code",
   "execution_count": 108,
   "metadata": {
    "colab": {
     "base_uri": "https://localhost:8080/",
     "height": 1000
    },
    "id": "gzb1T0KD5ENr",
    "outputId": "28b34225-5135-45f5-fe89-7727e436a246"
   },
   "outputs": [
    {
     "data": {
      "text/html": [
       "<table class=\"simpletable\">\n",
       "<caption>Generalized Linear Model Regression Results</caption>\n",
       "<tr>\n",
       "  <th>Dep. Variable:</th>      <td>Converted</td>    <th>  No. Observations:  </th>  <td>  6267</td>  \n",
       "</tr>\n",
       "<tr>\n",
       "  <th>Model:</th>                 <td>GLM</td>       <th>  Df Residuals:      </th>  <td>  6226</td>  \n",
       "</tr>\n",
       "<tr>\n",
       "  <th>Model Family:</th>       <td>Binomial</td>     <th>  Df Model:          </th>  <td>    40</td>  \n",
       "</tr>\n",
       "<tr>\n",
       "  <th>Link Function:</th>        <td>logit</td>      <th>  Scale:             </th> <td>  1.0000</td> \n",
       "</tr>\n",
       "<tr>\n",
       "  <th>Method:</th>               <td>IRLS</td>       <th>  Log-Likelihood:    </th> <td> -1329.5</td> \n",
       "</tr>\n",
       "<tr>\n",
       "  <th>Date:</th>           <td>Tue, 12 Oct 2021</td> <th>  Deviance:          </th> <td>  2659.0</td> \n",
       "</tr>\n",
       "<tr>\n",
       "  <th>Time:</th>               <td>18:03:38</td>     <th>  Pearson chi2:      </th> <td>6.98e+03</td> \n",
       "</tr>\n",
       "<tr>\n",
       "  <th>No. Iterations:</th>         <td>8</td>        <th>  Covariance Type:   </th> <td>nonrobust</td>\n",
       "</tr>\n",
       "</table>\n",
       "<table class=\"simpletable\">\n",
       "<tr>\n",
       "                            <td></td>                              <th>coef</th>     <th>std err</th>      <th>z</th>      <th>P>|z|</th>  <th>[0.025</th>    <th>0.975]</th>  \n",
       "</tr>\n",
       "<tr>\n",
       "  <th>const</th>                                                <td>   -1.9200</td> <td>    0.483</td> <td>   -3.973</td> <td> 0.000</td> <td>   -2.867</td> <td>   -0.973</td>\n",
       "</tr>\n",
       "<tr>\n",
       "  <th>Do Not Email</th>                                         <td>   -1.3646</td> <td>    0.257</td> <td>   -5.313</td> <td> 0.000</td> <td>   -1.868</td> <td>   -0.861</td>\n",
       "</tr>\n",
       "<tr>\n",
       "  <th>Total Time Spent on Website</th>                          <td>    1.1365</td> <td>    0.060</td> <td>   18.980</td> <td> 0.000</td> <td>    1.019</td> <td>    1.254</td>\n",
       "</tr>\n",
       "<tr>\n",
       "  <th>Page Views Per Visit</th>                                 <td>   -0.2053</td> <td>    0.080</td> <td>   -2.566</td> <td> 0.010</td> <td>   -0.362</td> <td>   -0.048</td>\n",
       "</tr>\n",
       "<tr>\n",
       "  <th>A free copy of Mastering The Interview</th>               <td>    0.0292</td> <td>    0.169</td> <td>    0.173</td> <td> 0.863</td> <td>   -0.302</td> <td>    0.361</td>\n",
       "</tr>\n",
       "<tr>\n",
       "  <th>Landing Page Submission</th>                              <td>   -0.2539</td> <td>    0.218</td> <td>   -1.165</td> <td> 0.244</td> <td>   -0.681</td> <td>    0.173</td>\n",
       "</tr>\n",
       "<tr>\n",
       "  <th>Lead Add Form</th>                                        <td>    2.4851</td> <td>    0.527</td> <td>    4.719</td> <td> 0.000</td> <td>    1.453</td> <td>    3.517</td>\n",
       "</tr>\n",
       "<tr>\n",
       "  <th>Lead Import</th>                                          <td>   -0.7078</td> <td>    0.852</td> <td>   -0.831</td> <td> 0.406</td> <td>   -2.377</td> <td>    0.962</td>\n",
       "</tr>\n",
       "<tr>\n",
       "  <th>Lead Source_Direct Traffic</th>                           <td>   -0.4864</td> <td>    0.440</td> <td>   -1.106</td> <td> 0.269</td> <td>   -1.348</td> <td>    0.375</td>\n",
       "</tr>\n",
       "<tr>\n",
       "  <th>Lead Source_Olark Chat</th>                               <td>    0.5583</td> <td>    0.437</td> <td>    1.277</td> <td> 0.202</td> <td>   -0.299</td> <td>    1.416</td>\n",
       "</tr>\n",
       "<tr>\n",
       "  <th>Lead Source_Organic Search</th>                           <td>   -0.3629</td> <td>    0.437</td> <td>   -0.830</td> <td> 0.406</td> <td>   -1.219</td> <td>    0.494</td>\n",
       "</tr>\n",
       "<tr>\n",
       "  <th>Lead Source_google</th>                                   <td>   -0.3020</td> <td>    0.421</td> <td>   -0.717</td> <td> 0.473</td> <td>   -1.128</td> <td>    0.524</td>\n",
       "</tr>\n",
       "<tr>\n",
       "  <th>Last Activity_Converted to Lead</th>                      <td>   -1.0418</td> <td>    0.380</td> <td>   -2.739</td> <td> 0.006</td> <td>   -1.787</td> <td>   -0.296</td>\n",
       "</tr>\n",
       "<tr>\n",
       "  <th>Last Activity_Email Link Clicked</th>                     <td>   -0.4604</td> <td>    0.401</td> <td>   -1.148</td> <td> 0.251</td> <td>   -1.246</td> <td>    0.325</td>\n",
       "</tr>\n",
       "<tr>\n",
       "  <th>Last Activity_Email Opened</th>                           <td>    0.2252</td> <td>    0.266</td> <td>    0.846</td> <td> 0.398</td> <td>   -0.297</td> <td>    0.747</td>\n",
       "</tr>\n",
       "<tr>\n",
       "  <th>Last Activity_Olark Chat Conversation</th>                <td>   -1.5120</td> <td>    0.334</td> <td>   -4.528</td> <td> 0.000</td> <td>   -2.167</td> <td>   -0.858</td>\n",
       "</tr>\n",
       "<tr>\n",
       "  <th>Last Activity_Page Visited on Website</th>                <td>   -0.5611</td> <td>    0.339</td> <td>   -1.654</td> <td> 0.098</td> <td>   -1.226</td> <td>    0.104</td>\n",
       "</tr>\n",
       "<tr>\n",
       "  <th>Last Activity_SMS Sent</th>                               <td>    1.9007</td> <td>    0.263</td> <td>    7.227</td> <td> 0.000</td> <td>    1.385</td> <td>    2.416</td>\n",
       "</tr>\n",
       "<tr>\n",
       "  <th>Specialization_Banking, Investment And Insurance</th>     <td>    0.2736</td> <td>    0.356</td> <td>    0.768</td> <td> 0.443</td> <td>   -0.425</td> <td>    0.972</td>\n",
       "</tr>\n",
       "<tr>\n",
       "  <th>Specialization_E-COMMERCE</th>                            <td>   -0.0985</td> <td>    0.490</td> <td>   -0.201</td> <td> 0.841</td> <td>   -1.060</td> <td>    0.863</td>\n",
       "</tr>\n",
       "<tr>\n",
       "  <th>Specialization_Media and Advertising</th>                 <td>   -0.4544</td> <td>    0.394</td> <td>   -1.153</td> <td> 0.249</td> <td>   -1.227</td> <td>    0.318</td>\n",
       "</tr>\n",
       "<tr>\n",
       "  <th>Specialization_Services Excellence</th>                   <td>   -0.8998</td> <td>    0.878</td> <td>   -1.024</td> <td> 0.306</td> <td>   -2.622</td> <td>    0.822</td>\n",
       "</tr>\n",
       "<tr>\n",
       "  <th>Specialization_Travel and Tourism</th>                    <td>   -1.4942</td> <td>    0.471</td> <td>   -3.170</td> <td> 0.002</td> <td>   -2.418</td> <td>   -0.570</td>\n",
       "</tr>\n",
       "<tr>\n",
       "  <th>Specialization_business courses</th>                      <td>   -0.2922</td> <td>    0.276</td> <td>   -1.060</td> <td> 0.289</td> <td>   -0.832</td> <td>    0.248</td>\n",
       "</tr>\n",
       "<tr>\n",
       "  <th>Specialization_management courses</th>                    <td>   -0.2083</td> <td>    0.223</td> <td>   -0.934</td> <td> 0.350</td> <td>   -0.645</td> <td>    0.229</td>\n",
       "</tr>\n",
       "<tr>\n",
       "  <th>What is your current occupation_Student</th>              <td>    1.0140</td> <td>    0.502</td> <td>    2.019</td> <td> 0.044</td> <td>    0.030</td> <td>    1.998</td>\n",
       "</tr>\n",
       "<tr>\n",
       "  <th>What is your current occupation_Unemployed</th>           <td>    1.4862</td> <td>    0.119</td> <td>   12.469</td> <td> 0.000</td> <td>    1.253</td> <td>    1.720</td>\n",
       "</tr>\n",
       "<tr>\n",
       "  <th>What is your current occupation_Working Professional</th> <td>    2.0584</td> <td>    0.374</td> <td>    5.509</td> <td> 0.000</td> <td>    1.326</td> <td>    2.791</td>\n",
       "</tr>\n",
       "<tr>\n",
       "  <th>Tags_Already a student</th>                               <td>   -4.3164</td> <td>    0.731</td> <td>   -5.907</td> <td> 0.000</td> <td>   -5.749</td> <td>   -2.884</td>\n",
       "</tr>\n",
       "<tr>\n",
       "  <th>Tags_Busy</th>                                            <td>    0.0197</td> <td>    0.240</td> <td>    0.082</td> <td> 0.935</td> <td>   -0.451</td> <td>    0.491</td>\n",
       "</tr>\n",
       "<tr>\n",
       "  <th>Tags_Closed by Horizzon</th>                              <td>    5.4585</td> <td>    1.023</td> <td>    5.335</td> <td> 0.000</td> <td>    3.453</td> <td>    7.464</td>\n",
       "</tr>\n",
       "<tr>\n",
       "  <th>Tags_Interested in other courses</th>                     <td>   -3.4204</td> <td>    0.404</td> <td>   -8.461</td> <td> 0.000</td> <td>   -4.213</td> <td>   -2.628</td>\n",
       "</tr>\n",
       "<tr>\n",
       "  <th>Tags_Ringing</th>                                         <td>   -4.0675</td> <td>    0.248</td> <td>  -16.379</td> <td> 0.000</td> <td>   -4.554</td> <td>   -3.581</td>\n",
       "</tr>\n",
       "<tr>\n",
       "  <th>Tags_Will revert after reading the email</th>             <td>    3.5334</td> <td>    0.207</td> <td>   17.041</td> <td> 0.000</td> <td>    3.127</td> <td>    3.940</td>\n",
       "</tr>\n",
       "<tr>\n",
       "  <th>Tags_switched off</th>                                    <td>   -4.3602</td> <td>    0.629</td> <td>   -6.928</td> <td> 0.000</td> <td>   -5.594</td> <td>   -3.127</td>\n",
       "</tr>\n",
       "<tr>\n",
       "  <th>Lead Profile_Potential Lead</th>                          <td>    0.5312</td> <td>    0.196</td> <td>    2.704</td> <td> 0.007</td> <td>    0.146</td> <td>    0.916</td>\n",
       "</tr>\n",
       "<tr>\n",
       "  <th>City_Mumbai</th>                                          <td>   -0.0295</td> <td>    0.185</td> <td>   -0.160</td> <td> 0.873</td> <td>   -0.391</td> <td>    0.332</td>\n",
       "</tr>\n",
       "<tr>\n",
       "  <th>City_Other Cities of Maharashtra</th>                     <td>   -0.2014</td> <td>    0.300</td> <td>   -0.671</td> <td> 0.502</td> <td>   -0.790</td> <td>    0.387</td>\n",
       "</tr>\n",
       "<tr>\n",
       "  <th>City_Other Metro Cities</th>                              <td>   -0.1500</td> <td>    0.307</td> <td>   -0.489</td> <td> 0.624</td> <td>   -0.751</td> <td>    0.451</td>\n",
       "</tr>\n",
       "<tr>\n",
       "  <th>City_Thane & Outskirts</th>                               <td>   -0.1329</td> <td>    0.247</td> <td>   -0.538</td> <td> 0.591</td> <td>   -0.617</td> <td>    0.351</td>\n",
       "</tr>\n",
       "<tr>\n",
       "  <th>City_Tier II Cities</th>                                  <td>    0.3867</td> <td>    0.554</td> <td>    0.699</td> <td> 0.485</td> <td>   -0.698</td> <td>    1.472</td>\n",
       "</tr>\n",
       "</table>"
      ],
      "text/plain": [
       "<class 'statsmodels.iolib.summary.Summary'>\n",
       "\"\"\"\n",
       "                 Generalized Linear Model Regression Results                  \n",
       "==============================================================================\n",
       "Dep. Variable:              Converted   No. Observations:                 6267\n",
       "Model:                            GLM   Df Residuals:                     6226\n",
       "Model Family:                Binomial   Df Model:                           40\n",
       "Link Function:                  logit   Scale:                          1.0000\n",
       "Method:                          IRLS   Log-Likelihood:                -1329.5\n",
       "Date:                Tue, 12 Oct 2021   Deviance:                       2659.0\n",
       "Time:                        18:03:38   Pearson chi2:                 6.98e+03\n",
       "No. Iterations:                     8   Covariance Type:             nonrobust\n",
       "========================================================================================================================\n",
       "                                                           coef    std err          z      P>|z|      [0.025      0.975]\n",
       "------------------------------------------------------------------------------------------------------------------------\n",
       "const                                                   -1.9200      0.483     -3.973      0.000      -2.867      -0.973\n",
       "Do Not Email                                            -1.3646      0.257     -5.313      0.000      -1.868      -0.861\n",
       "Total Time Spent on Website                              1.1365      0.060     18.980      0.000       1.019       1.254\n",
       "Page Views Per Visit                                    -0.2053      0.080     -2.566      0.010      -0.362      -0.048\n",
       "A free copy of Mastering The Interview                   0.0292      0.169      0.173      0.863      -0.302       0.361\n",
       "Landing Page Submission                                 -0.2539      0.218     -1.165      0.244      -0.681       0.173\n",
       "Lead Add Form                                            2.4851      0.527      4.719      0.000       1.453       3.517\n",
       "Lead Import                                             -0.7078      0.852     -0.831      0.406      -2.377       0.962\n",
       "Lead Source_Direct Traffic                              -0.4864      0.440     -1.106      0.269      -1.348       0.375\n",
       "Lead Source_Olark Chat                                   0.5583      0.437      1.277      0.202      -0.299       1.416\n",
       "Lead Source_Organic Search                              -0.3629      0.437     -0.830      0.406      -1.219       0.494\n",
       "Lead Source_google                                      -0.3020      0.421     -0.717      0.473      -1.128       0.524\n",
       "Last Activity_Converted to Lead                         -1.0418      0.380     -2.739      0.006      -1.787      -0.296\n",
       "Last Activity_Email Link Clicked                        -0.4604      0.401     -1.148      0.251      -1.246       0.325\n",
       "Last Activity_Email Opened                               0.2252      0.266      0.846      0.398      -0.297       0.747\n",
       "Last Activity_Olark Chat Conversation                   -1.5120      0.334     -4.528      0.000      -2.167      -0.858\n",
       "Last Activity_Page Visited on Website                   -0.5611      0.339     -1.654      0.098      -1.226       0.104\n",
       "Last Activity_SMS Sent                                   1.9007      0.263      7.227      0.000       1.385       2.416\n",
       "Specialization_Banking, Investment And Insurance         0.2736      0.356      0.768      0.443      -0.425       0.972\n",
       "Specialization_E-COMMERCE                               -0.0985      0.490     -0.201      0.841      -1.060       0.863\n",
       "Specialization_Media and Advertising                    -0.4544      0.394     -1.153      0.249      -1.227       0.318\n",
       "Specialization_Services Excellence                      -0.8998      0.878     -1.024      0.306      -2.622       0.822\n",
       "Specialization_Travel and Tourism                       -1.4942      0.471     -3.170      0.002      -2.418      -0.570\n",
       "Specialization_business courses                         -0.2922      0.276     -1.060      0.289      -0.832       0.248\n",
       "Specialization_management courses                       -0.2083      0.223     -0.934      0.350      -0.645       0.229\n",
       "What is your current occupation_Student                  1.0140      0.502      2.019      0.044       0.030       1.998\n",
       "What is your current occupation_Unemployed               1.4862      0.119     12.469      0.000       1.253       1.720\n",
       "What is your current occupation_Working Professional     2.0584      0.374      5.509      0.000       1.326       2.791\n",
       "Tags_Already a student                                  -4.3164      0.731     -5.907      0.000      -5.749      -2.884\n",
       "Tags_Busy                                                0.0197      0.240      0.082      0.935      -0.451       0.491\n",
       "Tags_Closed by Horizzon                                  5.4585      1.023      5.335      0.000       3.453       7.464\n",
       "Tags_Interested in other courses                        -3.4204      0.404     -8.461      0.000      -4.213      -2.628\n",
       "Tags_Ringing                                            -4.0675      0.248    -16.379      0.000      -4.554      -3.581\n",
       "Tags_Will revert after reading the email                 3.5334      0.207     17.041      0.000       3.127       3.940\n",
       "Tags_switched off                                       -4.3602      0.629     -6.928      0.000      -5.594      -3.127\n",
       "Lead Profile_Potential Lead                              0.5312      0.196      2.704      0.007       0.146       0.916\n",
       "City_Mumbai                                             -0.0295      0.185     -0.160      0.873      -0.391       0.332\n",
       "City_Other Cities of Maharashtra                        -0.2014      0.300     -0.671      0.502      -0.790       0.387\n",
       "City_Other Metro Cities                                 -0.1500      0.307     -0.489      0.624      -0.751       0.451\n",
       "City_Thane & Outskirts                                  -0.1329      0.247     -0.538      0.591      -0.617       0.351\n",
       "City_Tier II Cities                                      0.3867      0.554      0.699      0.485      -0.698       1.472\n",
       "========================================================================================================================\n",
       "\"\"\""
      ]
     },
     "execution_count": 108,
     "metadata": {},
     "output_type": "execute_result"
    }
   ],
   "source": [
    "# Logistic regression model\n",
    "logm1 = sm.GLM(y_train,(sm.add_constant(X_train)), family = sm.families.Binomial())\n",
    "logm1.fit().summary()"
   ]
  },
  {
   "cell_type": "markdown",
   "metadata": {
    "id": "juXxJ-DG5xrc"
   },
   "source": [
    "Feature Selection using RFE"
   ]
  },
  {
   "cell_type": "code",
   "execution_count": 109,
   "metadata": {
    "id": "Tg32BtYW5EQv"
   },
   "outputs": [],
   "source": [
    "from sklearn.linear_model import LogisticRegression\n",
    "logreg = LogisticRegression()"
   ]
  },
  {
   "cell_type": "code",
   "execution_count": 110,
   "metadata": {
    "id": "5T7c0lKa5EVY"
   },
   "outputs": [],
   "source": [
    "from sklearn.feature_selection import RFE\n",
    "rfe = RFE(logreg, 20)             \n",
    "rfe = rfe.fit(X_train, y_train)"
   ]
  },
  {
   "cell_type": "code",
   "execution_count": 111,
   "metadata": {
    "colab": {
     "base_uri": "https://localhost:8080/"
    },
    "id": "oFM63nuz5EgC",
    "outputId": "c77914e8-0600-47e3-bb3c-8b2f0a4d9c16"
   },
   "outputs": [
    {
     "data": {
      "text/plain": [
       "array([ True,  True, False, False, False,  True, False,  True, False,\n",
       "        True,  True,  True, False, False,  True,  True,  True, False,\n",
       "       False, False, False,  True, False, False,  True,  True,  True,\n",
       "        True, False,  True,  True,  True,  True,  True, False, False,\n",
       "       False, False, False, False])"
      ]
     },
     "execution_count": 111,
     "metadata": {},
     "output_type": "execute_result"
    }
   ],
   "source": [
    "rfe.support_"
   ]
  },
  {
   "cell_type": "code",
   "execution_count": 112,
   "metadata": {
    "colab": {
     "base_uri": "https://localhost:8080/"
    },
    "id": "OO8r4EoE5Eis",
    "outputId": "ac22ede4-d0c9-4ad2-f129-e9b58e6f1759"
   },
   "outputs": [
    {
     "data": {
      "text/plain": [
       "[('Do Not Email', True, 1),\n",
       " ('Total Time Spent on Website', True, 1),\n",
       " ('Page Views Per Visit', False, 10),\n",
       " ('A free copy of Mastering The Interview', False, 20),\n",
       " ('Landing Page Submission', False, 3),\n",
       " ('Lead Add Form', True, 1),\n",
       " ('Lead Import', False, 2),\n",
       " ('Lead Source_Direct Traffic', True, 1),\n",
       " ('Lead Source_Olark Chat', False, 6),\n",
       " ('Lead Source_Organic Search', True, 1),\n",
       " ('Lead Source_google', True, 1),\n",
       " ('Last Activity_Converted to Lead', True, 1),\n",
       " ('Last Activity_Email Link Clicked', False, 5),\n",
       " ('Last Activity_Email Opened', False, 11),\n",
       " ('Last Activity_Olark Chat Conversation', True, 1),\n",
       " ('Last Activity_Page Visited on Website', True, 1),\n",
       " ('Last Activity_SMS Sent', True, 1),\n",
       " ('Specialization_Banking, Investment And Insurance', False, 8),\n",
       " ('Specialization_E-COMMERCE', False, 21),\n",
       " ('Specialization_Media and Advertising', False, 12),\n",
       " ('Specialization_Services Excellence', False, 7),\n",
       " ('Specialization_Travel and Tourism', True, 1),\n",
       " ('Specialization_business courses', False, 16),\n",
       " ('Specialization_management courses', False, 17),\n",
       " ('What is your current occupation_Student', True, 1),\n",
       " ('What is your current occupation_Unemployed', True, 1),\n",
       " ('What is your current occupation_Working Professional', True, 1),\n",
       " ('Tags_Already a student', True, 1),\n",
       " ('Tags_Busy', False, 18),\n",
       " ('Tags_Closed by Horizzon', True, 1),\n",
       " ('Tags_Interested in other courses', True, 1),\n",
       " ('Tags_Ringing', True, 1),\n",
       " ('Tags_Will revert after reading the email', True, 1),\n",
       " ('Tags_switched off', True, 1),\n",
       " ('Lead Profile_Potential Lead', False, 4),\n",
       " ('City_Mumbai', False, 19),\n",
       " ('City_Other Cities of Maharashtra', False, 13),\n",
       " ('City_Other Metro Cities', False, 15),\n",
       " ('City_Thane & Outskirts', False, 14),\n",
       " ('City_Tier II Cities', False, 9)]"
      ]
     },
     "execution_count": 112,
     "metadata": {},
     "output_type": "execute_result"
    }
   ],
   "source": [
    "list(zip(X_train.columns, rfe.support_, rfe.ranking_))"
   ]
  },
  {
   "cell_type": "code",
   "execution_count": 113,
   "metadata": {
    "id": "Z_lJHmAa5ElA"
   },
   "outputs": [],
   "source": [
    "col = X_train.columns[rfe.support_]"
   ]
  },
  {
   "cell_type": "markdown",
   "metadata": {
    "id": "ud2bw5cj6Ety"
   },
   "source": [
    "Accessing the Stats module"
   ]
  },
  {
   "cell_type": "code",
   "execution_count": 114,
   "metadata": {
    "colab": {
     "base_uri": "https://localhost:8080/",
     "height": 700
    },
    "id": "P-pkIzjQ5Eng",
    "outputId": "0f71c80a-da38-4c41-cfc2-acd0edcbfdd4"
   },
   "outputs": [
    {
     "data": {
      "text/html": [
       "<table class=\"simpletable\">\n",
       "<caption>Generalized Linear Model Regression Results</caption>\n",
       "<tr>\n",
       "  <th>Dep. Variable:</th>      <td>Converted</td>    <th>  No. Observations:  </th>  <td>  6267</td>  \n",
       "</tr>\n",
       "<tr>\n",
       "  <th>Model:</th>                 <td>GLM</td>       <th>  Df Residuals:      </th>  <td>  6246</td>  \n",
       "</tr>\n",
       "<tr>\n",
       "  <th>Model Family:</th>       <td>Binomial</td>     <th>  Df Model:          </th>  <td>    20</td>  \n",
       "</tr>\n",
       "<tr>\n",
       "  <th>Link Function:</th>        <td>logit</td>      <th>  Scale:             </th> <td>  1.0000</td> \n",
       "</tr>\n",
       "<tr>\n",
       "  <th>Method:</th>               <td>IRLS</td>       <th>  Log-Likelihood:    </th> <td> -1354.9</td> \n",
       "</tr>\n",
       "<tr>\n",
       "  <th>Date:</th>           <td>Tue, 12 Oct 2021</td> <th>  Deviance:          </th> <td>  2709.7</td> \n",
       "</tr>\n",
       "<tr>\n",
       "  <th>Time:</th>               <td>18:03:39</td>     <th>  Pearson chi2:      </th> <td>6.99e+03</td> \n",
       "</tr>\n",
       "<tr>\n",
       "  <th>No. Iterations:</th>         <td>8</td>        <th>  Covariance Type:   </th> <td>nonrobust</td>\n",
       "</tr>\n",
       "</table>\n",
       "<table class=\"simpletable\">\n",
       "<tr>\n",
       "                            <td></td>                              <th>coef</th>     <th>std err</th>      <th>z</th>      <th>P>|z|</th>  <th>[0.025</th>    <th>0.975]</th>  \n",
       "</tr>\n",
       "<tr>\n",
       "  <th>const</th>                                                <td>   -1.1234</td> <td>    0.127</td> <td>   -8.821</td> <td> 0.000</td> <td>   -1.373</td> <td>   -0.874</td>\n",
       "</tr>\n",
       "<tr>\n",
       "  <th>Do Not Email</th>                                         <td>   -1.4422</td> <td>    0.228</td> <td>   -6.324</td> <td> 0.000</td> <td>   -1.889</td> <td>   -0.995</td>\n",
       "</tr>\n",
       "<tr>\n",
       "  <th>Total Time Spent on Website</th>                          <td>    1.0982</td> <td>    0.058</td> <td>   19.025</td> <td> 0.000</td> <td>    0.985</td> <td>    1.211</td>\n",
       "</tr>\n",
       "<tr>\n",
       "  <th>Lead Add Form</th>                                        <td>    2.1095</td> <td>    0.324</td> <td>    6.509</td> <td> 0.000</td> <td>    1.474</td> <td>    2.745</td>\n",
       "</tr>\n",
       "<tr>\n",
       "  <th>Lead Source_Direct Traffic</th>                           <td>   -1.5563</td> <td>    0.162</td> <td>   -9.617</td> <td> 0.000</td> <td>   -1.873</td> <td>   -1.239</td>\n",
       "</tr>\n",
       "<tr>\n",
       "  <th>Lead Source_Organic Search</th>                           <td>   -1.3311</td> <td>    0.191</td> <td>   -6.983</td> <td> 0.000</td> <td>   -1.705</td> <td>   -0.957</td>\n",
       "</tr>\n",
       "<tr>\n",
       "  <th>Lead Source_google</th>                                   <td>   -1.2462</td> <td>    0.151</td> <td>   -8.264</td> <td> 0.000</td> <td>   -1.542</td> <td>   -0.951</td>\n",
       "</tr>\n",
       "<tr>\n",
       "  <th>Last Activity_Converted to Lead</th>                      <td>   -1.0787</td> <td>    0.293</td> <td>   -3.688</td> <td> 0.000</td> <td>   -1.652</td> <td>   -0.505</td>\n",
       "</tr>\n",
       "<tr>\n",
       "  <th>Last Activity_Olark Chat Conversation</th>                <td>   -1.5321</td> <td>    0.225</td> <td>   -6.819</td> <td> 0.000</td> <td>   -1.972</td> <td>   -1.092</td>\n",
       "</tr>\n",
       "<tr>\n",
       "  <th>Last Activity_Page Visited on Website</th>                <td>   -0.7746</td> <td>    0.242</td> <td>   -3.198</td> <td> 0.001</td> <td>   -1.249</td> <td>   -0.300</td>\n",
       "</tr>\n",
       "<tr>\n",
       "  <th>Last Activity_SMS Sent</th>                               <td>    1.7079</td> <td>    0.114</td> <td>   14.975</td> <td> 0.000</td> <td>    1.484</td> <td>    1.931</td>\n",
       "</tr>\n",
       "<tr>\n",
       "  <th>Specialization_Travel and Tourism</th>                    <td>   -1.4354</td> <td>    0.398</td> <td>   -3.603</td> <td> 0.000</td> <td>   -2.216</td> <td>   -0.655</td>\n",
       "</tr>\n",
       "<tr>\n",
       "  <th>What is your current occupation_Student</th>              <td>    0.9543</td> <td>    0.507</td> <td>    1.882</td> <td> 0.060</td> <td>   -0.039</td> <td>    1.948</td>\n",
       "</tr>\n",
       "<tr>\n",
       "  <th>What is your current occupation_Unemployed</th>           <td>    1.5012</td> <td>    0.112</td> <td>   13.448</td> <td> 0.000</td> <td>    1.282</td> <td>    1.720</td>\n",
       "</tr>\n",
       "<tr>\n",
       "  <th>What is your current occupation_Working Professional</th> <td>    2.0377</td> <td>    0.362</td> <td>    5.625</td> <td> 0.000</td> <td>    1.328</td> <td>    2.748</td>\n",
       "</tr>\n",
       "<tr>\n",
       "  <th>Tags_Already a student</th>                               <td>   -4.2249</td> <td>    0.728</td> <td>   -5.805</td> <td> 0.000</td> <td>   -5.651</td> <td>   -2.799</td>\n",
       "</tr>\n",
       "<tr>\n",
       "  <th>Tags_Closed by Horizzon</th>                              <td>    5.4618</td> <td>    1.018</td> <td>    5.367</td> <td> 0.000</td> <td>    3.467</td> <td>    7.456</td>\n",
       "</tr>\n",
       "<tr>\n",
       "  <th>Tags_Interested in other courses</th>                     <td>   -3.4214</td> <td>    0.407</td> <td>   -8.406</td> <td> 0.000</td> <td>   -4.219</td> <td>   -2.624</td>\n",
       "</tr>\n",
       "<tr>\n",
       "  <th>Tags_Ringing</th>                                         <td>   -4.0597</td> <td>    0.243</td> <td>  -16.691</td> <td> 0.000</td> <td>   -4.536</td> <td>   -3.583</td>\n",
       "</tr>\n",
       "<tr>\n",
       "  <th>Tags_Will revert after reading the email</th>             <td>    3.5739</td> <td>    0.194</td> <td>   18.427</td> <td> 0.000</td> <td>    3.194</td> <td>    3.954</td>\n",
       "</tr>\n",
       "<tr>\n",
       "  <th>Tags_switched off</th>                                    <td>   -4.3606</td> <td>    0.618</td> <td>   -7.057</td> <td> 0.000</td> <td>   -5.572</td> <td>   -3.150</td>\n",
       "</tr>\n",
       "</table>"
      ],
      "text/plain": [
       "<class 'statsmodels.iolib.summary.Summary'>\n",
       "\"\"\"\n",
       "                 Generalized Linear Model Regression Results                  \n",
       "==============================================================================\n",
       "Dep. Variable:              Converted   No. Observations:                 6267\n",
       "Model:                            GLM   Df Residuals:                     6246\n",
       "Model Family:                Binomial   Df Model:                           20\n",
       "Link Function:                  logit   Scale:                          1.0000\n",
       "Method:                          IRLS   Log-Likelihood:                -1354.9\n",
       "Date:                Tue, 12 Oct 2021   Deviance:                       2709.7\n",
       "Time:                        18:03:39   Pearson chi2:                 6.99e+03\n",
       "No. Iterations:                     8   Covariance Type:             nonrobust\n",
       "========================================================================================================================\n",
       "                                                           coef    std err          z      P>|z|      [0.025      0.975]\n",
       "------------------------------------------------------------------------------------------------------------------------\n",
       "const                                                   -1.1234      0.127     -8.821      0.000      -1.373      -0.874\n",
       "Do Not Email                                            -1.4422      0.228     -6.324      0.000      -1.889      -0.995\n",
       "Total Time Spent on Website                              1.0982      0.058     19.025      0.000       0.985       1.211\n",
       "Lead Add Form                                            2.1095      0.324      6.509      0.000       1.474       2.745\n",
       "Lead Source_Direct Traffic                              -1.5563      0.162     -9.617      0.000      -1.873      -1.239\n",
       "Lead Source_Organic Search                              -1.3311      0.191     -6.983      0.000      -1.705      -0.957\n",
       "Lead Source_google                                      -1.2462      0.151     -8.264      0.000      -1.542      -0.951\n",
       "Last Activity_Converted to Lead                         -1.0787      0.293     -3.688      0.000      -1.652      -0.505\n",
       "Last Activity_Olark Chat Conversation                   -1.5321      0.225     -6.819      0.000      -1.972      -1.092\n",
       "Last Activity_Page Visited on Website                   -0.7746      0.242     -3.198      0.001      -1.249      -0.300\n",
       "Last Activity_SMS Sent                                   1.7079      0.114     14.975      0.000       1.484       1.931\n",
       "Specialization_Travel and Tourism                       -1.4354      0.398     -3.603      0.000      -2.216      -0.655\n",
       "What is your current occupation_Student                  0.9543      0.507      1.882      0.060      -0.039       1.948\n",
       "What is your current occupation_Unemployed               1.5012      0.112     13.448      0.000       1.282       1.720\n",
       "What is your current occupation_Working Professional     2.0377      0.362      5.625      0.000       1.328       2.748\n",
       "Tags_Already a student                                  -4.2249      0.728     -5.805      0.000      -5.651      -2.799\n",
       "Tags_Closed by Horizzon                                  5.4618      1.018      5.367      0.000       3.467       7.456\n",
       "Tags_Interested in other courses                        -3.4214      0.407     -8.406      0.000      -4.219      -2.624\n",
       "Tags_Ringing                                            -4.0597      0.243    -16.691      0.000      -4.536      -3.583\n",
       "Tags_Will revert after reading the email                 3.5739      0.194     18.427      0.000       3.194       3.954\n",
       "Tags_switched off                                       -4.3606      0.618     -7.057      0.000      -5.572      -3.150\n",
       "========================================================================================================================\n",
       "\"\"\""
      ]
     },
     "execution_count": 114,
     "metadata": {},
     "output_type": "execute_result"
    }
   ],
   "source": [
    "X_train_sm = sm.add_constant(X_train[col])\n",
    "logm2 = sm.GLM(y_train,X_train_sm, family = sm.families.Binomial())\n",
    "res = logm2.fit()\n",
    "res.summary()"
   ]
  },
  {
   "cell_type": "code",
   "execution_count": 115,
   "metadata": {
    "colab": {
     "base_uri": "https://localhost:8080/"
    },
    "id": "gmoKQXjT7qEj",
    "outputId": "04ec34a8-17ec-4737-d901-04367c285f8d"
   },
   "outputs": [
    {
     "data": {
      "text/plain": [
       "9196    0.233155\n",
       "4696    0.027338\n",
       "3274    0.203122\n",
       "2164    0.002493\n",
       "1667    0.983495\n",
       "7024    0.358946\n",
       "8018    0.026257\n",
       "778     0.188194\n",
       "6942    0.107934\n",
       "4440    0.045478\n",
       "dtype: float64"
      ]
     },
     "execution_count": 115,
     "metadata": {},
     "output_type": "execute_result"
    }
   ],
   "source": [
    "# Getting the predicted values on the train set\n",
    "y_train_pred = res.predict(X_train_sm)\n",
    "y_train_pred[:10]"
   ]
  },
  {
   "cell_type": "code",
   "execution_count": 116,
   "metadata": {
    "colab": {
     "base_uri": "https://localhost:8080/"
    },
    "id": "WoGDObME7qHf",
    "outputId": "b836d452-0067-4086-f4d3-5dbcd2daf1c3"
   },
   "outputs": [
    {
     "data": {
      "text/plain": [
       "array([0.2331546 , 0.02733792, 0.20312174, 0.00249326, 0.9834955 ,\n",
       "       0.3589461 , 0.02625653, 0.18819381, 0.1079345 , 0.04547815])"
      ]
     },
     "execution_count": 116,
     "metadata": {},
     "output_type": "execute_result"
    }
   ],
   "source": [
    "y_train_pred = y_train_pred.values.reshape(-1)\n",
    "y_train_pred[:10]"
   ]
  },
  {
   "cell_type": "markdown",
   "metadata": {
    "id": "qdUS9VXX_OB6"
   },
   "source": [
    "Creating a dataframe with the actual churn flag and the predicted probabilities"
   ]
  },
  {
   "cell_type": "code",
   "execution_count": 117,
   "metadata": {
    "colab": {
     "base_uri": "https://localhost:8080/",
     "height": 206
    },
    "id": "o2-s2-am_MgM",
    "outputId": "242e01d7-ae66-4dd0-ffd2-81cb3f35a27c"
   },
   "outputs": [
    {
     "data": {
      "text/html": [
       "<div>\n",
       "<style scoped>\n",
       "    .dataframe tbody tr th:only-of-type {\n",
       "        vertical-align: middle;\n",
       "    }\n",
       "\n",
       "    .dataframe tbody tr th {\n",
       "        vertical-align: top;\n",
       "    }\n",
       "\n",
       "    .dataframe thead th {\n",
       "        text-align: right;\n",
       "    }\n",
       "</style>\n",
       "<table border=\"1\" class=\"dataframe\">\n",
       "  <thead>\n",
       "    <tr style=\"text-align: right;\">\n",
       "      <th></th>\n",
       "      <th>Lead</th>\n",
       "      <th>Lead_prob</th>\n",
       "      <th>Lead_ID</th>\n",
       "    </tr>\n",
       "  </thead>\n",
       "  <tbody>\n",
       "    <tr>\n",
       "      <th>0</th>\n",
       "      <td>1</td>\n",
       "      <td>0.233155</td>\n",
       "      <td>9196</td>\n",
       "    </tr>\n",
       "    <tr>\n",
       "      <th>1</th>\n",
       "      <td>0</td>\n",
       "      <td>0.027338</td>\n",
       "      <td>4696</td>\n",
       "    </tr>\n",
       "    <tr>\n",
       "      <th>2</th>\n",
       "      <td>0</td>\n",
       "      <td>0.203122</td>\n",
       "      <td>3274</td>\n",
       "    </tr>\n",
       "    <tr>\n",
       "      <th>3</th>\n",
       "      <td>0</td>\n",
       "      <td>0.002493</td>\n",
       "      <td>2164</td>\n",
       "    </tr>\n",
       "    <tr>\n",
       "      <th>4</th>\n",
       "      <td>1</td>\n",
       "      <td>0.983495</td>\n",
       "      <td>1667</td>\n",
       "    </tr>\n",
       "  </tbody>\n",
       "</table>\n",
       "</div>"
      ],
      "text/plain": [
       "   Lead  Lead_prob  Lead_ID\n",
       "0     1   0.233155     9196\n",
       "1     0   0.027338     4696\n",
       "2     0   0.203122     3274\n",
       "3     0   0.002493     2164\n",
       "4     1   0.983495     1667"
      ]
     },
     "execution_count": 117,
     "metadata": {},
     "output_type": "execute_result"
    }
   ],
   "source": [
    "y_train_pred_final = pd.DataFrame({'Lead':y_train.values, 'Lead_prob':y_train_pred})\n",
    "y_train_pred_final['Lead_ID'] = y_train.index\n",
    "y_train_pred_final.head()"
   ]
  },
  {
   "cell_type": "markdown",
   "metadata": {
    "id": "c432OgGu_ZJr"
   },
   "source": [
    "Creating new column 'predicted' with 1 if Churn_Prob > 0.5 else 0"
   ]
  },
  {
   "cell_type": "code",
   "execution_count": 118,
   "metadata": {
    "colab": {
     "base_uri": "https://localhost:8080/",
     "height": 206
    },
    "id": "kXXrxqAU_MkF",
    "outputId": "9b6bbc96-b2ca-45b4-e8a5-d140d8124796"
   },
   "outputs": [
    {
     "data": {
      "text/html": [
       "<div>\n",
       "<style scoped>\n",
       "    .dataframe tbody tr th:only-of-type {\n",
       "        vertical-align: middle;\n",
       "    }\n",
       "\n",
       "    .dataframe tbody tr th {\n",
       "        vertical-align: top;\n",
       "    }\n",
       "\n",
       "    .dataframe thead th {\n",
       "        text-align: right;\n",
       "    }\n",
       "</style>\n",
       "<table border=\"1\" class=\"dataframe\">\n",
       "  <thead>\n",
       "    <tr style=\"text-align: right;\">\n",
       "      <th></th>\n",
       "      <th>Lead</th>\n",
       "      <th>Lead_prob</th>\n",
       "      <th>Lead_ID</th>\n",
       "      <th>predicted</th>\n",
       "    </tr>\n",
       "  </thead>\n",
       "  <tbody>\n",
       "    <tr>\n",
       "      <th>0</th>\n",
       "      <td>1</td>\n",
       "      <td>0.233155</td>\n",
       "      <td>9196</td>\n",
       "      <td>0</td>\n",
       "    </tr>\n",
       "    <tr>\n",
       "      <th>1</th>\n",
       "      <td>0</td>\n",
       "      <td>0.027338</td>\n",
       "      <td>4696</td>\n",
       "      <td>0</td>\n",
       "    </tr>\n",
       "    <tr>\n",
       "      <th>2</th>\n",
       "      <td>0</td>\n",
       "      <td>0.203122</td>\n",
       "      <td>3274</td>\n",
       "      <td>0</td>\n",
       "    </tr>\n",
       "    <tr>\n",
       "      <th>3</th>\n",
       "      <td>0</td>\n",
       "      <td>0.002493</td>\n",
       "      <td>2164</td>\n",
       "      <td>0</td>\n",
       "    </tr>\n",
       "    <tr>\n",
       "      <th>4</th>\n",
       "      <td>1</td>\n",
       "      <td>0.983495</td>\n",
       "      <td>1667</td>\n",
       "      <td>1</td>\n",
       "    </tr>\n",
       "  </tbody>\n",
       "</table>\n",
       "</div>"
      ],
      "text/plain": [
       "   Lead  Lead_prob  Lead_ID  predicted\n",
       "0     1   0.233155     9196          0\n",
       "1     0   0.027338     4696          0\n",
       "2     0   0.203122     3274          0\n",
       "3     0   0.002493     2164          0\n",
       "4     1   0.983495     1667          1"
      ]
     },
     "execution_count": 118,
     "metadata": {},
     "output_type": "execute_result"
    }
   ],
   "source": [
    "y_train_pred_final['predicted'] = y_train_pred_final.Lead_prob.map(lambda x: 1 if x > 0.5 else 0)\n",
    "\n",
    "# Let's see the head\n",
    "y_train_pred_final.head()"
   ]
  },
  {
   "cell_type": "code",
   "execution_count": 119,
   "metadata": {
    "id": "xKUH6qax_Mnr"
   },
   "outputs": [],
   "source": [
    "from sklearn import metrics"
   ]
  },
  {
   "cell_type": "code",
   "execution_count": 120,
   "metadata": {
    "colab": {
     "base_uri": "https://localhost:8080/"
    },
    "id": "dU1Z31q3_Mqx",
    "outputId": "239e4bee-8665-481e-dc0e-52c6c3143284"
   },
   "outputs": [
    {
     "name": "stdout",
     "output_type": "stream",
     "text": [
      "[[3688  194]\n",
      " [ 358 2027]]\n"
     ]
    }
   ],
   "source": [
    "# Confusion matrix \n",
    "confusion = metrics.confusion_matrix(y_train_pred_final.Lead, y_train_pred_final.predicted )\n",
    "print(confusion)"
   ]
  },
  {
   "cell_type": "code",
   "execution_count": 121,
   "metadata": {
    "id": "0Uw57hBo_Mtf"
   },
   "outputs": [],
   "source": [
    "# Predicted     not_converted (0)   converted (1)\n",
    "# Actual\n",
    "# not_converted (0)       3699      183\n",
    "# converted (1)           361       2024  "
   ]
  },
  {
   "cell_type": "markdown",
   "metadata": {
    "id": "dzp9yAkUBr_i"
   },
   "source": [
    "# Inferences\n",
    "\n",
    "1. We could observe that our model has resulted in False negative 361 and false positive 183 .\n",
    "\n",
    "2. We could infer that if our model predicts the customer as not a lead on the other hand if the customer is a potential lead , the business spends extra for the customer to convert them to leads.\n",
    "\n",
    "3. If the customer is actaully not a lead but if our model the customer as a lead , we might miss the lead and thereby resulting in business loss.\n",
    "\n",
    "4. In other words false positive 183 needs to be less than False negative 361"
   ]
  },
  {
   "cell_type": "code",
   "execution_count": 122,
   "metadata": {
    "colab": {
     "base_uri": "https://localhost:8080/"
    },
    "id": "T_qlfuopBqLy",
    "outputId": "38f40989-922a-4d5b-e1ae-cd7bbfb89018"
   },
   "outputs": [
    {
     "name": "stdout",
     "output_type": "stream",
     "text": [
      "0.9119195787458114\n"
     ]
    }
   ],
   "source": [
    "# Let's check the overall accuracy.\n",
    "print(metrics.accuracy_score(y_train_pred_final.Lead, y_train_pred_final.predicted))"
   ]
  },
  {
   "cell_type": "markdown",
   "metadata": {
    "id": "2iJziCd-DOOA"
   },
   "source": [
    "Checking VIFs"
   ]
  },
  {
   "cell_type": "code",
   "execution_count": 123,
   "metadata": {
    "id": "TTe9PH7DBqPl"
   },
   "outputs": [],
   "source": [
    "# Check for the VIF values of the feature variables. \n",
    "from statsmodels.stats.outliers_influence import variance_inflation_factor"
   ]
  },
  {
   "cell_type": "code",
   "execution_count": 124,
   "metadata": {
    "colab": {
     "base_uri": "https://localhost:8080/",
     "height": 676
    },
    "id": "6XDl4nd3BqTj",
    "outputId": "c8f0bf79-9e64-48da-95a1-0d852e64e6ac"
   },
   "outputs": [
    {
     "data": {
      "text/html": [
       "<div>\n",
       "<style scoped>\n",
       "    .dataframe tbody tr th:only-of-type {\n",
       "        vertical-align: middle;\n",
       "    }\n",
       "\n",
       "    .dataframe tbody tr th {\n",
       "        vertical-align: top;\n",
       "    }\n",
       "\n",
       "    .dataframe thead th {\n",
       "        text-align: right;\n",
       "    }\n",
       "</style>\n",
       "<table border=\"1\" class=\"dataframe\">\n",
       "  <thead>\n",
       "    <tr style=\"text-align: right;\">\n",
       "      <th></th>\n",
       "      <th>Features</th>\n",
       "      <th>VIF</th>\n",
       "    </tr>\n",
       "  </thead>\n",
       "  <tbody>\n",
       "    <tr>\n",
       "      <th>12</th>\n",
       "      <td>What is your current occupation_Unemployed</td>\n",
       "      <td>4.66</td>\n",
       "    </tr>\n",
       "    <tr>\n",
       "      <th>18</th>\n",
       "      <td>Tags_Will revert after reading the email</td>\n",
       "      <td>2.54</td>\n",
       "    </tr>\n",
       "    <tr>\n",
       "      <th>3</th>\n",
       "      <td>Lead Source_Direct Traffic</td>\n",
       "      <td>1.91</td>\n",
       "    </tr>\n",
       "    <tr>\n",
       "      <th>5</th>\n",
       "      <td>Lead Source_google</td>\n",
       "      <td>1.90</td>\n",
       "    </tr>\n",
       "    <tr>\n",
       "      <th>13</th>\n",
       "      <td>What is your current occupation_Working Profes...</td>\n",
       "      <td>1.82</td>\n",
       "    </tr>\n",
       "    <tr>\n",
       "      <th>17</th>\n",
       "      <td>Tags_Ringing</td>\n",
       "      <td>1.72</td>\n",
       "    </tr>\n",
       "    <tr>\n",
       "      <th>9</th>\n",
       "      <td>Last Activity_SMS Sent</td>\n",
       "      <td>1.70</td>\n",
       "    </tr>\n",
       "    <tr>\n",
       "      <th>2</th>\n",
       "      <td>Lead Add Form</td>\n",
       "      <td>1.58</td>\n",
       "    </tr>\n",
       "    <tr>\n",
       "      <th>14</th>\n",
       "      <td>Tags_Already a student</td>\n",
       "      <td>1.44</td>\n",
       "    </tr>\n",
       "    <tr>\n",
       "      <th>4</th>\n",
       "      <td>Lead Source_Organic Search</td>\n",
       "      <td>1.43</td>\n",
       "    </tr>\n",
       "    <tr>\n",
       "      <th>15</th>\n",
       "      <td>Tags_Closed by Horizzon</td>\n",
       "      <td>1.31</td>\n",
       "    </tr>\n",
       "    <tr>\n",
       "      <th>16</th>\n",
       "      <td>Tags_Interested in other courses</td>\n",
       "      <td>1.30</td>\n",
       "    </tr>\n",
       "    <tr>\n",
       "      <th>1</th>\n",
       "      <td>Total Time Spent on Website</td>\n",
       "      <td>1.29</td>\n",
       "    </tr>\n",
       "    <tr>\n",
       "      <th>11</th>\n",
       "      <td>What is your current occupation_Student</td>\n",
       "      <td>1.24</td>\n",
       "    </tr>\n",
       "    <tr>\n",
       "      <th>19</th>\n",
       "      <td>Tags_switched off</td>\n",
       "      <td>1.16</td>\n",
       "    </tr>\n",
       "    <tr>\n",
       "      <th>6</th>\n",
       "      <td>Last Activity_Converted to Lead</td>\n",
       "      <td>1.14</td>\n",
       "    </tr>\n",
       "    <tr>\n",
       "      <th>7</th>\n",
       "      <td>Last Activity_Olark Chat Conversation</td>\n",
       "      <td>1.13</td>\n",
       "    </tr>\n",
       "    <tr>\n",
       "      <th>8</th>\n",
       "      <td>Last Activity_Page Visited on Website</td>\n",
       "      <td>1.13</td>\n",
       "    </tr>\n",
       "    <tr>\n",
       "      <th>0</th>\n",
       "      <td>Do Not Email</td>\n",
       "      <td>1.12</td>\n",
       "    </tr>\n",
       "    <tr>\n",
       "      <th>10</th>\n",
       "      <td>Specialization_Travel and Tourism</td>\n",
       "      <td>1.05</td>\n",
       "    </tr>\n",
       "  </tbody>\n",
       "</table>\n",
       "</div>"
      ],
      "text/plain": [
       "                                             Features   VIF\n",
       "12         What is your current occupation_Unemployed  4.66\n",
       "18           Tags_Will revert after reading the email  2.54\n",
       "3                          Lead Source_Direct Traffic  1.91\n",
       "5                                  Lead Source_google  1.90\n",
       "13  What is your current occupation_Working Profes...  1.82\n",
       "17                                       Tags_Ringing  1.72\n",
       "9                              Last Activity_SMS Sent  1.70\n",
       "2                                       Lead Add Form  1.58\n",
       "14                             Tags_Already a student  1.44\n",
       "4                          Lead Source_Organic Search  1.43\n",
       "15                            Tags_Closed by Horizzon  1.31\n",
       "16                   Tags_Interested in other courses  1.30\n",
       "1                         Total Time Spent on Website  1.29\n",
       "11            What is your current occupation_Student  1.24\n",
       "19                                  Tags_switched off  1.16\n",
       "6                     Last Activity_Converted to Lead  1.14\n",
       "7               Last Activity_Olark Chat Conversation  1.13\n",
       "8               Last Activity_Page Visited on Website  1.13\n",
       "0                                        Do Not Email  1.12\n",
       "10                  Specialization_Travel and Tourism  1.05"
      ]
     },
     "execution_count": 124,
     "metadata": {},
     "output_type": "execute_result"
    }
   ],
   "source": [
    "# Create a dataframe that will contain the names of all the feature variables and their respective VIFs\n",
    "vif = pd.DataFrame()\n",
    "vif['Features'] = X_train[col].columns\n",
    "vif['VIF'] = [variance_inflation_factor(X_train[col].values, i) for i in range(X_train[col].shape[1])]\n",
    "vif['VIF'] = round(vif['VIF'], 2)\n",
    "vif = vif.sort_values(by = \"VIF\", ascending = False)\n",
    "vif"
   ]
  },
  {
   "cell_type": "markdown",
   "metadata": {
    "id": "8uFzRhDjDeEC"
   },
   "source": [
    "## Metrics beyond simply accuracy as VIF is good"
   ]
  },
  {
   "cell_type": "code",
   "execution_count": 125,
   "metadata": {
    "id": "fZCO7Av1BqYo"
   },
   "outputs": [],
   "source": [
    "TP = confusion[1,1] # true positive \n",
    "TN = confusion[0,0] # true negatives\n",
    "FP = confusion[0,1] # false positives\n",
    "FN = confusion[1,0] # false negatives"
   ]
  },
  {
   "cell_type": "code",
   "execution_count": 126,
   "metadata": {
    "colab": {
     "base_uri": "https://localhost:8080/"
    },
    "id": "lFfTNS3uBqfU",
    "outputId": "a4d75236-2ae1-489b-cad9-b17fbe3a4ae2"
   },
   "outputs": [
    {
     "data": {
      "text/plain": [
       "0.849895178197065"
      ]
     },
     "execution_count": 126,
     "metadata": {},
     "output_type": "execute_result"
    }
   ],
   "source": [
    "# Let's see the sensitivity of our logistic regression model\n",
    "TP / float(TP+FN)"
   ]
  },
  {
   "cell_type": "code",
   "execution_count": 127,
   "metadata": {
    "colab": {
     "base_uri": "https://localhost:8080/"
    },
    "id": "kMqxGdGILVOy",
    "outputId": "29cdfdb8-2cd2-4041-efc1-5b90204468ef"
   },
   "outputs": [
    {
     "data": {
      "text/plain": [
       "0.9500257599175682"
      ]
     },
     "execution_count": 127,
     "metadata": {},
     "output_type": "execute_result"
    }
   ],
   "source": [
    "# Let us calculate specificity\n",
    "TN / float(TN+FP)"
   ]
  },
  {
   "cell_type": "code",
   "execution_count": 128,
   "metadata": {
    "colab": {
     "base_uri": "https://localhost:8080/"
    },
    "id": "58XAcQNaLVUX",
    "outputId": "53a9bdb8-eda3-4007-f1c6-cabfde5020fe"
   },
   "outputs": [
    {
     "name": "stdout",
     "output_type": "stream",
     "text": [
      "0.04997424008243174\n"
     ]
    }
   ],
   "source": [
    "# Calculate false postive rate - predicting converted when customer has not actually converted\n",
    "print(FP/ float(TN+FP))"
   ]
  },
  {
   "cell_type": "code",
   "execution_count": 129,
   "metadata": {
    "colab": {
     "base_uri": "https://localhost:8080/"
    },
    "id": "zrpmOMFOLVar",
    "outputId": "931f1845-eeb3-4122-ee7e-f1ffbf5e8d32"
   },
   "outputs": [
    {
     "name": "stdout",
     "output_type": "stream",
     "text": [
      "0.9126519585772175\n"
     ]
    }
   ],
   "source": [
    "# positive predictive value \n",
    "print (TP / float(TP+FP))"
   ]
  },
  {
   "cell_type": "code",
   "execution_count": 130,
   "metadata": {
    "colab": {
     "base_uri": "https://localhost:8080/"
    },
    "id": "dfVIGi8ELVfl",
    "outputId": "491804be-b9c9-4337-a38e-731bb8fa514f"
   },
   "outputs": [
    {
     "name": "stdout",
     "output_type": "stream",
     "text": [
      "0.9115175481957489\n"
     ]
    }
   ],
   "source": [
    "# Negative predictive value\n",
    "print (TN / float(TN+ FN))"
   ]
  },
  {
   "cell_type": "markdown",
   "metadata": {
    "id": "1GR0IsqmLxBx"
   },
   "source": [
    "# Step 9: Plotting the ROC Curve"
   ]
  },
  {
   "cell_type": "markdown",
   "metadata": {
    "id": "zRV_P03IL18W"
   },
   "source": [
    "An ROC curve demonstrates several things:\n",
    "\n",
    "- It shows the tradeoff between sensitivity and specificity (any increase in sensitivity will be accompanied by a decrease in specificity).\n",
    "- The closer the curve follows the left-hand border and then the top border of the ROC space, the more accurate the test.\n",
    "- The closer the curve comes to the 45-degree diagonal of the ROC space, the less accurate the test."
   ]
  },
  {
   "cell_type": "code",
   "execution_count": 131,
   "metadata": {
    "id": "s4w9JtEVLVlK"
   },
   "outputs": [],
   "source": [
    "def draw_roc( actual, probs ):\n",
    "    fpr, tpr, thresholds = metrics.roc_curve( actual, probs,\n",
    "                                              drop_intermediate = False )\n",
    "    auc_score = metrics.roc_auc_score( actual, probs )\n",
    "    plt.figure(figsize=(5, 5))\n",
    "    plt.plot( fpr, tpr, label='ROC curve (area = %0.2f)' % auc_score )\n",
    "    plt.plot([0, 1], [0, 1], 'k--')\n",
    "    plt.xlim([0.0, 1.0])\n",
    "    plt.ylim([0.0, 1.05])\n",
    "    plt.xlabel('False Positive Rate or [1 - True Negative Rate]')\n",
    "    plt.ylabel('True Positive Rate')\n",
    "    plt.title('Receiver operating characteristic example')\n",
    "    plt.legend(loc=\"lower right\")\n",
    "    plt.show()\n",
    "\n",
    "    return None"
   ]
  },
  {
   "cell_type": "code",
   "execution_count": 132,
   "metadata": {
    "id": "-YzUVquSLVou"
   },
   "outputs": [],
   "source": [
    "fpr, tpr, thresholds = metrics.roc_curve( y_train_pred_final.Lead, y_train_pred_final.Lead_prob, drop_intermediate = False )"
   ]
  },
  {
   "cell_type": "code",
   "execution_count": 133,
   "metadata": {
    "colab": {
     "base_uri": "https://localhost:8080/",
     "height": 350
    },
    "id": "EetVaPtTLVsj",
    "outputId": "8acb1111-cb45-481b-b8cb-cb6aaf047262"
   },
   "outputs": [
    {
     "data": {
      "image/png": "[encoded data removed]",
      "text/plain": [
       "<Figure size 360x360 with 1 Axes>"
      ]
     },
     "metadata": {
      "needs_background": "light"
     },
     "output_type": "display_data"
    }
   ],
   "source": [
    "draw_roc(y_train_pred_final.Lead, y_train_pred_final.Lead_prob)"
   ]
  },
  {
   "cell_type": "markdown",
   "metadata": {
    "id": "VE31nMIOMCWm"
   },
   "source": [
    "As observed from ROC plot we can justify that our model is performing well"
   ]
  },
  {
   "cell_type": "markdown",
   "metadata": {
    "id": "zAwGgVK6MInr"
   },
   "source": [
    " Finding Optimal Cutoff Point"
   ]
  },
  {
   "cell_type": "code",
   "execution_count": 134,
   "metadata": {
    "colab": {
     "base_uri": "https://localhost:8080/",
     "height": 206
    },
    "id": "7ev9Jpj5LVv5",
    "outputId": "84750fde-9d8d-4bce-b9a5-a03d121a1941"
   },
   "outputs": [
    {
     "data": {
      "text/html": [
       "<div>\n",
       "<style scoped>\n",
       "    .dataframe tbody tr th:only-of-type {\n",
       "        vertical-align: middle;\n",
       "    }\n",
       "\n",
       "    .dataframe tbody tr th {\n",
       "        vertical-align: top;\n",
       "    }\n",
       "\n",
       "    .dataframe thead th {\n",
       "        text-align: right;\n",
       "    }\n",
       "</style>\n",
       "<table border=\"1\" class=\"dataframe\">\n",
       "  <thead>\n",
       "    <tr style=\"text-align: right;\">\n",
       "      <th></th>\n",
       "      <th>Lead</th>\n",
       "      <th>Lead_prob</th>\n",
       "      <th>Lead_ID</th>\n",
       "      <th>predicted</th>\n",
       "      <th>0.0</th>\n",
       "      <th>0.1</th>\n",
       "      <th>0.2</th>\n",
       "      <th>0.3</th>\n",
       "      <th>0.4</th>\n",
       "      <th>0.5</th>\n",
       "      <th>0.6</th>\n",
       "      <th>0.7</th>\n",
       "      <th>0.8</th>\n",
       "      <th>0.9</th>\n",
       "    </tr>\n",
       "  </thead>\n",
       "  <tbody>\n",
       "    <tr>\n",
       "      <th>0</th>\n",
       "      <td>1</td>\n",
       "      <td>0.233155</td>\n",
       "      <td>9196</td>\n",
       "      <td>0</td>\n",
       "      <td>1</td>\n",
       "      <td>1</td>\n",
       "      <td>1</td>\n",
       "      <td>0</td>\n",
       "      <td>0</td>\n",
       "      <td>0</td>\n",
       "      <td>0</td>\n",
       "      <td>0</td>\n",
       "      <td>0</td>\n",
       "      <td>0</td>\n",
       "    </tr>\n",
       "    <tr>\n",
       "      <th>1</th>\n",
       "      <td>0</td>\n",
       "      <td>0.027338</td>\n",
       "      <td>4696</td>\n",
       "      <td>0</td>\n",
       "      <td>1</td>\n",
       "      <td>0</td>\n",
       "      <td>0</td>\n",
       "      <td>0</td>\n",
       "      <td>0</td>\n",
       "      <td>0</td>\n",
       "      <td>0</td>\n",
       "      <td>0</td>\n",
       "      <td>0</td>\n",
       "      <td>0</td>\n",
       "    </tr>\n",
       "    <tr>\n",
       "      <th>2</th>\n",
       "      <td>0</td>\n",
       "      <td>0.203122</td>\n",
       "      <td>3274</td>\n",
       "      <td>0</td>\n",
       "      <td>1</td>\n",
       "      <td>1</td>\n",
       "      <td>1</td>\n",
       "      <td>0</td>\n",
       "      <td>0</td>\n",
       "      <td>0</td>\n",
       "      <td>0</td>\n",
       "      <td>0</td>\n",
       "      <td>0</td>\n",
       "      <td>0</td>\n",
       "    </tr>\n",
       "    <tr>\n",
       "      <th>3</th>\n",
       "      <td>0</td>\n",
       "      <td>0.002493</td>\n",
       "      <td>2164</td>\n",
       "      <td>0</td>\n",
       "      <td>1</td>\n",
       "      <td>0</td>\n",
       "      <td>0</td>\n",
       "      <td>0</td>\n",
       "      <td>0</td>\n",
       "      <td>0</td>\n",
       "      <td>0</td>\n",
       "      <td>0</td>\n",
       "      <td>0</td>\n",
       "      <td>0</td>\n",
       "    </tr>\n",
       "    <tr>\n",
       "      <th>4</th>\n",
       "      <td>1</td>\n",
       "      <td>0.983495</td>\n",
       "      <td>1667</td>\n",
       "      <td>1</td>\n",
       "      <td>1</td>\n",
       "      <td>1</td>\n",
       "      <td>1</td>\n",
       "      <td>1</td>\n",
       "      <td>1</td>\n",
       "      <td>1</td>\n",
       "      <td>1</td>\n",
       "      <td>1</td>\n",
       "      <td>1</td>\n",
       "      <td>1</td>\n",
       "    </tr>\n",
       "  </tbody>\n",
       "</table>\n",
       "</div>"
      ],
      "text/plain": [
       "   Lead  Lead_prob  Lead_ID  predicted  0.0  0.1  0.2  0.3  0.4  0.5  0.6  \\\n",
       "0     1   0.233155     9196          0    1    1    1    0    0    0    0   \n",
       "1     0   0.027338     4696          0    1    0    0    0    0    0    0   \n",
       "2     0   0.203122     3274          0    1    1    1    0    0    0    0   \n",
       "3     0   0.002493     2164          0    1    0    0    0    0    0    0   \n",
       "4     1   0.983495     1667          1    1    1    1    1    1    1    1   \n",
       "\n",
       "   0.7  0.8  0.9  \n",
       "0    0    0    0  \n",
       "1    0    0    0  \n",
       "2    0    0    0  \n",
       "3    0    0    0  \n",
       "4    1    1    1  "
      ]
     },
     "execution_count": 134,
     "metadata": {},
     "output_type": "execute_result"
    }
   ],
   "source": [
    "# Let's create columns with different probability cutoffs \n",
    "numbers = [float(x)/10 for x in range(10)]\n",
    "for i in numbers:\n",
    "    y_train_pred_final[i]= y_train_pred_final.Lead_prob.map(lambda x: 1 if x > i else 0)\n",
    "y_train_pred_final.head()"
   ]
  },
  {
   "cell_type": "code",
   "execution_count": 135,
   "metadata": {
    "colab": {
     "base_uri": "https://localhost:8080/"
    },
    "id": "dr4F9DPuLV4k",
    "outputId": "21728a3f-1da4-42d7-cb22-1d67d82b2400"
   },
   "outputs": [
    {
     "name": "stdout",
     "output_type": "stream",
     "text": [
      "     prob  accuracy     sensi     speci\n",
      "0.0   0.0  0.380565  1.000000  0.000000\n",
      "0.1   0.1  0.807883  0.977358  0.703761\n",
      "0.2   0.2  0.886549  0.944654  0.850850\n",
      "0.3   0.3  0.905058  0.919916  0.895930\n",
      "0.4   0.4  0.912877  0.884696  0.930191\n",
      "0.5   0.5  0.911920  0.849895  0.950026\n",
      "0.6   0.6  0.908888  0.820126  0.963421\n",
      "0.7   0.7  0.905697  0.797065  0.972437\n",
      "0.8   0.8  0.890697  0.741719  0.982226\n",
      "0.9   0.9  0.865167  0.662893  0.989438\n"
     ]
    }
   ],
   "source": [
    "# Now let's calculate accuracy sensitivity and specificity for various probability cutoffs.\n",
    "cutoff_df = pd.DataFrame( columns = ['prob','accuracy','sensi','speci'])\n",
    "from sklearn.metrics import confusion_matrix\n",
    "\n",
    "# TP = confusion[1,1] # true positive \n",
    "# TN = confusion[0,0] # true negatives\n",
    "# FP = confusion[0,1] # false positives\n",
    "# FN = confusion[1,0] # false negatives\n",
    "\n",
    "num = [0.0,0.1,0.2,0.3,0.4,0.5,0.6,0.7,0.8,0.9]\n",
    "for i in num:\n",
    "    cm1 = metrics.confusion_matrix(y_train_pred_final.Lead, y_train_pred_final[i] )\n",
    "    total1=sum(sum(cm1))\n",
    "    accuracy = (cm1[0,0]+cm1[1,1])/total1\n",
    "    \n",
    "    speci = cm1[0,0]/(cm1[0,0]+cm1[0,1])\n",
    "    sensi = cm1[1,1]/(cm1[1,0]+cm1[1,1])\n",
    "    cutoff_df.loc[i] =[ i ,accuracy,sensi,speci]\n",
    "print(cutoff_df)"
   ]
  },
  {
   "cell_type": "code",
   "execution_count": 136,
   "metadata": {
    "colab": {
     "base_uri": "https://localhost:8080/",
     "height": 279
    },
    "id": "aor_LolRLV-z",
    "outputId": "ec82ffc3-2253-406b-fc31-90671a8691c7"
   },
   "outputs": [
    {
     "data": {
      "image/png": "[encoded data removed]",
      "text/plain": [
       "<Figure size 432x288 with 1 Axes>"
      ]
     },
     "metadata": {
      "needs_background": "light"
     },
     "output_type": "display_data"
    }
   ],
   "source": [
    "# Let's plot accuracy sensitivity and specificity for various probabilities.\n",
    "cutoff_df.plot.line(x='prob', y=['accuracy','sensi','speci'])\n",
    "plt.show()"
   ]
  },
  {
   "cell_type": "markdown",
   "metadata": {
    "id": "Ui0ur-gPMlv5"
   },
   "source": [
    "Here 0.35 is the optimal cut-off point"
   ]
  },
  {
   "cell_type": "code",
   "execution_count": 137,
   "metadata": {
    "colab": {
     "base_uri": "https://localhost:8080/",
     "height": 206
    },
    "id": "nlnAUPZrLWCQ",
    "outputId": "4d99ddd6-e617-4a3e-affa-114d2831e0d7"
   },
   "outputs": [
    {
     "data": {
      "text/html": [
       "<div>\n",
       "<style scoped>\n",
       "    .dataframe tbody tr th:only-of-type {\n",
       "        vertical-align: middle;\n",
       "    }\n",
       "\n",
       "    .dataframe tbody tr th {\n",
       "        vertical-align: top;\n",
       "    }\n",
       "\n",
       "    .dataframe thead th {\n",
       "        text-align: right;\n",
       "    }\n",
       "</style>\n",
       "<table border=\"1\" class=\"dataframe\">\n",
       "  <thead>\n",
       "    <tr style=\"text-align: right;\">\n",
       "      <th></th>\n",
       "      <th>Lead</th>\n",
       "      <th>Lead_prob</th>\n",
       "      <th>Lead_ID</th>\n",
       "      <th>predicted</th>\n",
       "      <th>0.0</th>\n",
       "      <th>0.1</th>\n",
       "      <th>0.2</th>\n",
       "      <th>0.3</th>\n",
       "      <th>0.4</th>\n",
       "      <th>0.5</th>\n",
       "      <th>0.6</th>\n",
       "      <th>0.7</th>\n",
       "      <th>0.8</th>\n",
       "      <th>0.9</th>\n",
       "      <th>final_predicted</th>\n",
       "      <th>Lead_Score</th>\n",
       "    </tr>\n",
       "  </thead>\n",
       "  <tbody>\n",
       "    <tr>\n",
       "      <th>0</th>\n",
       "      <td>1</td>\n",
       "      <td>0.233155</td>\n",
       "      <td>9196</td>\n",
       "      <td>0</td>\n",
       "      <td>1</td>\n",
       "      <td>1</td>\n",
       "      <td>1</td>\n",
       "      <td>0</td>\n",
       "      <td>0</td>\n",
       "      <td>0</td>\n",
       "      <td>0</td>\n",
       "      <td>0</td>\n",
       "      <td>0</td>\n",
       "      <td>0</td>\n",
       "      <td>0</td>\n",
       "      <td>23.0</td>\n",
       "    </tr>\n",
       "    <tr>\n",
       "      <th>1</th>\n",
       "      <td>0</td>\n",
       "      <td>0.027338</td>\n",
       "      <td>4696</td>\n",
       "      <td>0</td>\n",
       "      <td>1</td>\n",
       "      <td>0</td>\n",
       "      <td>0</td>\n",
       "      <td>0</td>\n",
       "      <td>0</td>\n",
       "      <td>0</td>\n",
       "      <td>0</td>\n",
       "      <td>0</td>\n",
       "      <td>0</td>\n",
       "      <td>0</td>\n",
       "      <td>0</td>\n",
       "      <td>3.0</td>\n",
       "    </tr>\n",
       "    <tr>\n",
       "      <th>2</th>\n",
       "      <td>0</td>\n",
       "      <td>0.203122</td>\n",
       "      <td>3274</td>\n",
       "      <td>0</td>\n",
       "      <td>1</td>\n",
       "      <td>1</td>\n",
       "      <td>1</td>\n",
       "      <td>0</td>\n",
       "      <td>0</td>\n",
       "      <td>0</td>\n",
       "      <td>0</td>\n",
       "      <td>0</td>\n",
       "      <td>0</td>\n",
       "      <td>0</td>\n",
       "      <td>0</td>\n",
       "      <td>20.0</td>\n",
       "    </tr>\n",
       "    <tr>\n",
       "      <th>3</th>\n",
       "      <td>0</td>\n",
       "      <td>0.002493</td>\n",
       "      <td>2164</td>\n",
       "      <td>0</td>\n",
       "      <td>1</td>\n",
       "      <td>0</td>\n",
       "      <td>0</td>\n",
       "      <td>0</td>\n",
       "      <td>0</td>\n",
       "      <td>0</td>\n",
       "      <td>0</td>\n",
       "      <td>0</td>\n",
       "      <td>0</td>\n",
       "      <td>0</td>\n",
       "      <td>0</td>\n",
       "      <td>0.0</td>\n",
       "    </tr>\n",
       "    <tr>\n",
       "      <th>4</th>\n",
       "      <td>1</td>\n",
       "      <td>0.983495</td>\n",
       "      <td>1667</td>\n",
       "      <td>1</td>\n",
       "      <td>1</td>\n",
       "      <td>1</td>\n",
       "      <td>1</td>\n",
       "      <td>1</td>\n",
       "      <td>1</td>\n",
       "      <td>1</td>\n",
       "      <td>1</td>\n",
       "      <td>1</td>\n",
       "      <td>1</td>\n",
       "      <td>1</td>\n",
       "      <td>1</td>\n",
       "      <td>98.0</td>\n",
       "    </tr>\n",
       "  </tbody>\n",
       "</table>\n",
       "</div>"
      ],
      "text/plain": [
       "   Lead  Lead_prob  Lead_ID  predicted  0.0  0.1  0.2  0.3  0.4  0.5  0.6  \\\n",
       "0     1   0.233155     9196          0    1    1    1    0    0    0    0   \n",
       "1     0   0.027338     4696          0    1    0    0    0    0    0    0   \n",
       "2     0   0.203122     3274          0    1    1    1    0    0    0    0   \n",
       "3     0   0.002493     2164          0    1    0    0    0    0    0    0   \n",
       "4     1   0.983495     1667          1    1    1    1    1    1    1    1   \n",
       "\n",
       "   0.7  0.8  0.9  final_predicted  Lead_Score  \n",
       "0    0    0    0                0        23.0  \n",
       "1    0    0    0                0         3.0  \n",
       "2    0    0    0                0        20.0  \n",
       "3    0    0    0                0         0.0  \n",
       "4    1    1    1                1        98.0  "
      ]
     },
     "execution_count": 137,
     "metadata": {},
     "output_type": "execute_result"
    }
   ],
   "source": [
    "y_train_pred_final['final_predicted'] = y_train_pred_final.Lead_prob.map( lambda x: 1 if x > 0.35 else 0)\n",
    "y_train_pred_final['Lead_Score']=round(y_train_pred_final['Lead_prob']*100,0)\n",
    "\n",
    "y_train_pred_final.head()"
   ]
  },
  {
   "cell_type": "code",
   "execution_count": 138,
   "metadata": {
    "colab": {
     "base_uri": "https://localhost:8080/",
     "height": 278
    },
    "id": "mlZxvzOAbjVu",
    "outputId": "46516a6d-2066-4efd-87b3-7d93fde79dbe"
   },
   "outputs": [
    {
     "data": {
      "image/png": "[encoded data removed]",
      "text/plain": [
       "<Figure size 1080x288 with 2 Axes>"
      ]
     },
     "metadata": {
      "needs_background": "light"
     },
     "output_type": "display_data"
    }
   ],
   "source": [
    "##Plotting Barchart based on our lead_score >35\n",
    "plt.figure(figsize=[15,4])\n",
    "ax1=plt.subplot(1,2,1)\n",
    "y_train_pred_final[y_train_pred_final['Lead_Score']>=35.0].Lead.value_counts(normalize=True).plot.bar()\n",
    "plt.title('Hot Leads conversion based on lead_score>=35%')\n",
    "ax2=plt.subplot(1,2,2)\n",
    "y_train_pred_final[y_train_pred_final['Lead_Score']<35.0].Lead.value_counts(normalize=True).plot.bar()\n",
    "plt.title('Weak Leads based on lead_score<35%')\n",
    "plt.show()"
   ]
  },
  {
   "cell_type": "markdown",
   "metadata": {
    "id": "_LKaeLn4cDT9"
   },
   "source": [
    "Exactly as predicted with cut-off 35% , lead score above 35% can be our hot customers to target and anything below 30% can be neglected that is evident from our bar chart"
   ]
  },
  {
   "cell_type": "code",
   "execution_count": 139,
   "metadata": {
    "colab": {
     "base_uri": "https://localhost:8080/"
    },
    "id": "0GhsqfXuLWG9",
    "outputId": "6de921dd-186d-4480-f4ab-c4c0dd24143f"
   },
   "outputs": [
    {
     "data": {
      "text/plain": [
       "0.9119195787458114"
      ]
     },
     "execution_count": 139,
     "metadata": {},
     "output_type": "execute_result"
    }
   ],
   "source": [
    "# Let's check the overall accuracy.\n",
    "metrics.accuracy_score(y_train_pred_final.Lead, y_train_pred_final.final_predicted)"
   ]
  },
  {
   "cell_type": "code",
   "execution_count": 140,
   "metadata": {
    "colab": {
     "base_uri": "https://localhost:8080/"
    },
    "id": "1eVOWac7LWMG",
    "outputId": "4530d473-b730-472a-9038-35f72df2b8e9"
   },
   "outputs": [
    {
     "data": {
      "text/plain": [
       "array([[3533,  349],\n",
       "       [ 203, 2182]], dtype=int64)"
      ]
     },
     "execution_count": 140,
     "metadata": {},
     "output_type": "execute_result"
    }
   ],
   "source": [
    "confusion2 = metrics.confusion_matrix(y_train_pred_final.Lead, y_train_pred_final.final_predicted )\n",
    "confusion2"
   ]
  },
  {
   "cell_type": "markdown",
   "metadata": {
    "id": "Qol3-CRENvBp"
   },
   "source": [
    "Calculating Precision and Recall"
   ]
  },
  {
   "cell_type": "code",
   "execution_count": 141,
   "metadata": {
    "colab": {
     "base_uri": "https://localhost:8080/"
    },
    "id": "jguHCwr_Vshi",
    "outputId": "fa04671b-b6b2-4730-d868-9faebc2b72e3"
   },
   "outputs": [
    {
     "data": {
      "text/plain": [
       "0.849895178197065"
      ]
     },
     "execution_count": 141,
     "metadata": {},
     "output_type": "execute_result"
    }
   ],
   "source": [
    "# Let's see the sensitivity of our logistic regression model\n",
    "TP / float(TP+FN)"
   ]
  },
  {
   "cell_type": "code",
   "execution_count": 142,
   "metadata": {
    "colab": {
     "base_uri": "https://localhost:8080/"
    },
    "id": "0vKhg4c9Vstj",
    "outputId": "47c8de6b-f666-4018-f361-9230f871a314"
   },
   "outputs": [
    {
     "data": {
      "text/plain": [
       "0.9500257599175682"
      ]
     },
     "execution_count": 142,
     "metadata": {},
     "output_type": "execute_result"
    }
   ],
   "source": [
    "# Let us calculate specificity\n",
    "TN / float(TN+FP)"
   ]
  },
  {
   "cell_type": "code",
   "execution_count": 143,
   "metadata": {
    "colab": {
     "base_uri": "https://localhost:8080/"
    },
    "id": "4o3Q1dOONxhi",
    "outputId": "af801e9f-e121-4f28-df47-e8399ae470f8"
   },
   "outputs": [
    {
     "data": {
      "text/plain": [
       "0.8621098380086922"
      ]
     },
     "execution_count": 143,
     "metadata": {},
     "output_type": "execute_result"
    }
   ],
   "source": [
    "#Precision\n",
    "#TP / TP + FP\n",
    "\n",
    "confusion2[1,1]/(confusion2[0,1]+confusion2[1,1])"
   ]
  },
  {
   "cell_type": "code",
   "execution_count": 144,
   "metadata": {
    "colab": {
     "base_uri": "https://localhost:8080/"
    },
    "id": "saBiHWIiNxut",
    "outputId": "9b35b332-5ddd-434f-d6ba-b95235095237"
   },
   "outputs": [
    {
     "data": {
      "text/plain": [
       "0.9148846960167715"
      ]
     },
     "execution_count": 144,
     "metadata": {},
     "output_type": "execute_result"
    }
   ],
   "source": [
    "#Recall\n",
    "#TP / TP + FN\n",
    "\n",
    "confusion2[1,1]/(confusion2[1,0]+confusion2[1,1])"
   ]
  },
  {
   "cell_type": "markdown",
   "metadata": {
    "id": "gu-jWsupP8E8"
   },
   "source": [
    "Inferences based on precision and Recall\n",
    "\n",
    "1. The Precision is 85% whcih means our model correctly identifies lead customer 85%.\n",
    "\n",
    "2. Recall is 87% which means over 87% model is able to classify relevantly."
   ]
  },
  {
   "cell_type": "markdown",
   "metadata": {
    "id": "CMFoxtEjQrOL"
   },
   "source": [
    "Precision and recall tradeoff"
   ]
  },
  {
   "cell_type": "code",
   "execution_count": 145,
   "metadata": {
    "id": "KqTOxe48Nxzm"
   },
   "outputs": [],
   "source": [
    "from sklearn.metrics import precision_recall_curve"
   ]
  },
  {
   "cell_type": "code",
   "execution_count": 146,
   "metadata": {
    "colab": {
     "base_uri": "https://localhost:8080/"
    },
    "id": "_Yzlv87LQxgA",
    "outputId": "9a6a8547-f866-4fc8-8ae4-bdcb72843361"
   },
   "outputs": [
    {
     "data": {
      "text/plain": [
       "(0       1\n",
       " 1       0\n",
       " 2       0\n",
       " 3       0\n",
       " 4       1\n",
       " 5       0\n",
       " 6       0\n",
       " 7       0\n",
       " 8       0\n",
       " 9       0\n",
       " 10      1\n",
       " 11      0\n",
       " 12      1\n",
       " 13      0\n",
       " 14      1\n",
       " 15      1\n",
       " 16      1\n",
       " 17      1\n",
       " 18      0\n",
       " 19      0\n",
       " 20      0\n",
       " 21      1\n",
       " 22      0\n",
       " 23      0\n",
       " 24      1\n",
       " 25      1\n",
       " 26      0\n",
       " 27      0\n",
       " 28      0\n",
       " 29      0\n",
       "        ..\n",
       " 6237    0\n",
       " 6238    1\n",
       " 6239    0\n",
       " 6240    1\n",
       " 6241    1\n",
       " 6242    1\n",
       " 6243    0\n",
       " 6244    0\n",
       " 6245    0\n",
       " 6246    0\n",
       " 6247    0\n",
       " 6248    1\n",
       " 6249    1\n",
       " 6250    1\n",
       " 6251    0\n",
       " 6252    1\n",
       " 6253    0\n",
       " 6254    1\n",
       " 6255    1\n",
       " 6256    0\n",
       " 6257    0\n",
       " 6258    0\n",
       " 6259    0\n",
       " 6260    0\n",
       " 6261    0\n",
       " 6262    1\n",
       " 6263    1\n",
       " 6264    0\n",
       " 6265    0\n",
       " 6266    1\n",
       " Name: Lead, Length: 6267, dtype: int64, 0       0\n",
       " 1       0\n",
       " 2       0\n",
       " 3       0\n",
       " 4       1\n",
       " 5       0\n",
       " 6       0\n",
       " 7       0\n",
       " 8       0\n",
       " 9       0\n",
       " 10      0\n",
       " 11      0\n",
       " 12      1\n",
       " 13      0\n",
       " 14      1\n",
       " 15      1\n",
       " 16      1\n",
       " 17      1\n",
       " 18      0\n",
       " 19      0\n",
       " 20      0\n",
       " 21      1\n",
       " 22      0\n",
       " 23      0\n",
       " 24      1\n",
       " 25      1\n",
       " 26      0\n",
       " 27      0\n",
       " 28      0\n",
       " 29      0\n",
       "        ..\n",
       " 6237    0\n",
       " 6238    1\n",
       " 6239    0\n",
       " 6240    1\n",
       " 6241    1\n",
       " 6242    0\n",
       " 6243    0\n",
       " 6244    0\n",
       " 6245    0\n",
       " 6246    0\n",
       " 6247    0\n",
       " 6248    0\n",
       " 6249    1\n",
       " 6250    1\n",
       " 6251    0\n",
       " 6252    1\n",
       " 6253    0\n",
       " 6254    1\n",
       " 6255    1\n",
       " 6256    0\n",
       " 6257    0\n",
       " 6258    0\n",
       " 6259    0\n",
       " 6260    0\n",
       " 6261    0\n",
       " 6262    1\n",
       " 6263    1\n",
       " 6264    0\n",
       " 6265    0\n",
       " 6266    1\n",
       " Name: predicted, Length: 6267, dtype: int64)"
      ]
     },
     "execution_count": 146,
     "metadata": {},
     "output_type": "execute_result"
    }
   ],
   "source": [
    "y_train_pred_final.Lead, y_train_pred_final.predicted"
   ]
  },
  {
   "cell_type": "code",
   "execution_count": 147,
   "metadata": {
    "id": "a41UWsPaQxna"
   },
   "outputs": [],
   "source": [
    "p, r, thresholds = precision_recall_curve(y_train_pred_final.Lead, y_train_pred_final.Lead_prob)"
   ]
  },
  {
   "cell_type": "code",
   "execution_count": 148,
   "metadata": {
    "colab": {
     "base_uri": "https://localhost:8080/",
     "height": 265
    },
    "id": "RwoSRHDzQxtb",
    "outputId": "dc02e793-777c-44b5-9092-0b8c28bbe3f6"
   },
   "outputs": [
    {
     "data": {
      "image/png": "[encoded data removed]",
      "text/plain": [
       "<Figure size 432x288 with 1 Axes>"
      ]
     },
     "metadata": {
      "needs_background": "light"
     },
     "output_type": "display_data"
    }
   ],
   "source": [
    "plt.plot(thresholds, p[:-1], \"g-\")\n",
    "plt.plot(thresholds, r[:-1], \"r-\")\n",
    "plt.show()"
   ]
  },
  {
   "cell_type": "markdown",
   "metadata": {
    "id": "2bK8krxmQ_9x"
   },
   "source": [
    "On observing the cut-off is similar to 0.35 like we saw for the case fo ROC curve"
   ]
  },
  {
   "cell_type": "markdown",
   "metadata": {
    "id": "0WLNL6roRbN2"
   },
   "source": [
    "Applying our modle on test dataset"
   ]
  },
  {
   "cell_type": "code",
   "execution_count": 149,
   "metadata": {
    "colab": {
     "base_uri": "https://localhost:8080/",
     "height": 295
    },
    "id": "PFa9LNAVQxxO",
    "outputId": "116de958-564d-44c0-dd35-22ef3c7d32bf"
   },
   "outputs": [
    {
     "data": {
      "text/html": [
       "<div>\n",
       "<style scoped>\n",
       "    .dataframe tbody tr th:only-of-type {\n",
       "        vertical-align: middle;\n",
       "    }\n",
       "\n",
       "    .dataframe tbody tr th {\n",
       "        vertical-align: top;\n",
       "    }\n",
       "\n",
       "    .dataframe thead th {\n",
       "        text-align: right;\n",
       "    }\n",
       "</style>\n",
       "<table border=\"1\" class=\"dataframe\">\n",
       "  <thead>\n",
       "    <tr style=\"text-align: right;\">\n",
       "      <th></th>\n",
       "      <th>Do Not Email</th>\n",
       "      <th>Total Time Spent on Website</th>\n",
       "      <th>Page Views Per Visit</th>\n",
       "      <th>A free copy of Mastering The Interview</th>\n",
       "      <th>Landing Page Submission</th>\n",
       "      <th>Lead Add Form</th>\n",
       "      <th>Lead Import</th>\n",
       "      <th>Lead Source_Direct Traffic</th>\n",
       "      <th>Lead Source_Olark Chat</th>\n",
       "      <th>Lead Source_Organic Search</th>\n",
       "      <th>...</th>\n",
       "      <th>Tags_Interested in other courses</th>\n",
       "      <th>Tags_Ringing</th>\n",
       "      <th>Tags_Will revert after reading the email</th>\n",
       "      <th>Tags_switched off</th>\n",
       "      <th>Lead Profile_Potential Lead</th>\n",
       "      <th>City_Mumbai</th>\n",
       "      <th>City_Other Cities of Maharashtra</th>\n",
       "      <th>City_Other Metro Cities</th>\n",
       "      <th>City_Thane &amp; Outskirts</th>\n",
       "      <th>City_Tier II Cities</th>\n",
       "    </tr>\n",
       "  </thead>\n",
       "  <tbody>\n",
       "    <tr>\n",
       "      <th>7681</th>\n",
       "      <td>0</td>\n",
       "      <td>-0.304384</td>\n",
       "      <td>0.135997</td>\n",
       "      <td>1</td>\n",
       "      <td>1</td>\n",
       "      <td>0</td>\n",
       "      <td>0</td>\n",
       "      <td>1</td>\n",
       "      <td>0</td>\n",
       "      <td>0</td>\n",
       "      <td>...</td>\n",
       "      <td>0</td>\n",
       "      <td>1</td>\n",
       "      <td>0</td>\n",
       "      <td>0</td>\n",
       "      <td>0</td>\n",
       "      <td>0</td>\n",
       "      <td>0</td>\n",
       "      <td>0</td>\n",
       "      <td>1</td>\n",
       "      <td>0</td>\n",
       "    </tr>\n",
       "    <tr>\n",
       "      <th>984</th>\n",
       "      <td>0</td>\n",
       "      <td>-0.538073</td>\n",
       "      <td>0.399961</td>\n",
       "      <td>1</td>\n",
       "      <td>1</td>\n",
       "      <td>0</td>\n",
       "      <td>0</td>\n",
       "      <td>0</td>\n",
       "      <td>0</td>\n",
       "      <td>1</td>\n",
       "      <td>...</td>\n",
       "      <td>0</td>\n",
       "      <td>0</td>\n",
       "      <td>0</td>\n",
       "      <td>0</td>\n",
       "      <td>0</td>\n",
       "      <td>1</td>\n",
       "      <td>0</td>\n",
       "      <td>0</td>\n",
       "      <td>0</td>\n",
       "      <td>0</td>\n",
       "    </tr>\n",
       "    <tr>\n",
       "      <th>8135</th>\n",
       "      <td>1</td>\n",
       "      <td>0.794688</td>\n",
       "      <td>-0.127967</td>\n",
       "      <td>1</td>\n",
       "      <td>1</td>\n",
       "      <td>0</td>\n",
       "      <td>0</td>\n",
       "      <td>1</td>\n",
       "      <td>0</td>\n",
       "      <td>0</td>\n",
       "      <td>...</td>\n",
       "      <td>0</td>\n",
       "      <td>0</td>\n",
       "      <td>0</td>\n",
       "      <td>0</td>\n",
       "      <td>0</td>\n",
       "      <td>0</td>\n",
       "      <td>0</td>\n",
       "      <td>0</td>\n",
       "      <td>0</td>\n",
       "      <td>0</td>\n",
       "    </tr>\n",
       "    <tr>\n",
       "      <th>6915</th>\n",
       "      <td>0</td>\n",
       "      <td>-0.614753</td>\n",
       "      <td>-0.127967</td>\n",
       "      <td>1</td>\n",
       "      <td>1</td>\n",
       "      <td>0</td>\n",
       "      <td>0</td>\n",
       "      <td>0</td>\n",
       "      <td>0</td>\n",
       "      <td>0</td>\n",
       "      <td>...</td>\n",
       "      <td>0</td>\n",
       "      <td>1</td>\n",
       "      <td>0</td>\n",
       "      <td>0</td>\n",
       "      <td>0</td>\n",
       "      <td>0</td>\n",
       "      <td>0</td>\n",
       "      <td>1</td>\n",
       "      <td>0</td>\n",
       "      <td>0</td>\n",
       "    </tr>\n",
       "    <tr>\n",
       "      <th>2712</th>\n",
       "      <td>0</td>\n",
       "      <td>-0.412100</td>\n",
       "      <td>0.399961</td>\n",
       "      <td>0</td>\n",
       "      <td>0</td>\n",
       "      <td>0</td>\n",
       "      <td>0</td>\n",
       "      <td>0</td>\n",
       "      <td>0</td>\n",
       "      <td>0</td>\n",
       "      <td>...</td>\n",
       "      <td>0</td>\n",
       "      <td>0</td>\n",
       "      <td>1</td>\n",
       "      <td>0</td>\n",
       "      <td>1</td>\n",
       "      <td>1</td>\n",
       "      <td>0</td>\n",
       "      <td>0</td>\n",
       "      <td>0</td>\n",
       "      <td>0</td>\n",
       "    </tr>\n",
       "  </tbody>\n",
       "</table>\n",
       "<p>5 rows × 40 columns</p>\n",
       "</div>"
      ],
      "text/plain": [
       "      Do Not Email  Total Time Spent on Website  Page Views Per Visit  \\\n",
       "7681             0                    -0.304384              0.135997   \n",
       "984              0                    -0.538073              0.399961   \n",
       "8135             1                     0.794688             -0.127967   \n",
       "6915             0                    -0.614753             -0.127967   \n",
       "2712             0                    -0.412100              0.399961   \n",
       "\n",
       "      A free copy of Mastering The Interview  Landing Page Submission  \\\n",
       "7681                                       1                        1   \n",
       "984                                        1                        1   \n",
       "8135                                       1                        1   \n",
       "6915                                       1                        1   \n",
       "2712                                       0                        0   \n",
       "\n",
       "      Lead Add Form  Lead Import  Lead Source_Direct Traffic  \\\n",
       "7681              0            0                           1   \n",
       "984               0            0                           0   \n",
       "8135              0            0                           1   \n",
       "6915              0            0                           0   \n",
       "2712              0            0                           0   \n",
       "\n",
       "      Lead Source_Olark Chat  Lead Source_Organic Search         ...           \\\n",
       "7681                       0                           0         ...            \n",
       "984                        0                           1         ...            \n",
       "8135                       0                           0         ...            \n",
       "6915                       0                           0         ...            \n",
       "2712                       0                           0         ...            \n",
       "\n",
       "      Tags_Interested in other courses  Tags_Ringing  \\\n",
       "7681                                 0             1   \n",
       "984                                  0             0   \n",
       "8135                                 0             0   \n",
       "6915                                 0             1   \n",
       "2712                                 0             0   \n",
       "\n",
       "      Tags_Will revert after reading the email  Tags_switched off  \\\n",
       "7681                                         0                  0   \n",
       "984                                          0                  0   \n",
       "8135                                         0                  0   \n",
       "6915                                         0                  0   \n",
       "2712                                         1                  0   \n",
       "\n",
       "      Lead Profile_Potential Lead  City_Mumbai  \\\n",
       "7681                            0            0   \n",
       "984                             0            1   \n",
       "8135                            0            0   \n",
       "6915                            0            0   \n",
       "2712                            1            1   \n",
       "\n",
       "      City_Other Cities of Maharashtra  City_Other Metro Cities  \\\n",
       "7681                                 0                        0   \n",
       "984                                  0                        0   \n",
       "8135                                 0                        0   \n",
       "6915                                 0                        1   \n",
       "2712                                 0                        0   \n",
       "\n",
       "      City_Thane & Outskirts  City_Tier II Cities  \n",
       "7681                       1                    0  \n",
       "984                        0                    0  \n",
       "8135                       0                    0  \n",
       "6915                       0                    0  \n",
       "2712                       0                    0  \n",
       "\n",
       "[5 rows x 40 columns]"
      ]
     },
     "execution_count": 149,
     "metadata": {},
     "output_type": "execute_result"
    }
   ],
   "source": [
    "X_test[[ 'Page Views Per Visit', 'Total Time Spent on Website']]  = scaler.transform(X_test[['Page Views Per Visit', 'Total Time Spent on Website']])\n",
    "X_test.head()"
   ]
  },
  {
   "cell_type": "code",
   "execution_count": 150,
   "metadata": {
    "colab": {
     "base_uri": "https://localhost:8080/",
     "height": 295
    },
    "id": "9bURJF0addOE",
    "outputId": "a994abd7-a0d5-41bd-d49e-06d951b4be7d"
   },
   "outputs": [
    {
     "data": {
      "text/html": [
       "<div>\n",
       "<style scoped>\n",
       "    .dataframe tbody tr th:only-of-type {\n",
       "        vertical-align: middle;\n",
       "    }\n",
       "\n",
       "    .dataframe tbody tr th {\n",
       "        vertical-align: top;\n",
       "    }\n",
       "\n",
       "    .dataframe thead th {\n",
       "        text-align: right;\n",
       "    }\n",
       "</style>\n",
       "<table border=\"1\" class=\"dataframe\">\n",
       "  <thead>\n",
       "    <tr style=\"text-align: right;\">\n",
       "      <th></th>\n",
       "      <th>Do Not Email</th>\n",
       "      <th>Total Time Spent on Website</th>\n",
       "      <th>Lead Add Form</th>\n",
       "      <th>Lead Source_Direct Traffic</th>\n",
       "      <th>Lead Source_Organic Search</th>\n",
       "      <th>Lead Source_google</th>\n",
       "      <th>Last Activity_Converted to Lead</th>\n",
       "      <th>Last Activity_Olark Chat Conversation</th>\n",
       "      <th>Last Activity_Page Visited on Website</th>\n",
       "      <th>Last Activity_SMS Sent</th>\n",
       "      <th>Specialization_Travel and Tourism</th>\n",
       "      <th>What is your current occupation_Student</th>\n",
       "      <th>What is your current occupation_Unemployed</th>\n",
       "      <th>What is your current occupation_Working Professional</th>\n",
       "      <th>Tags_Already a student</th>\n",
       "      <th>Tags_Closed by Horizzon</th>\n",
       "      <th>Tags_Interested in other courses</th>\n",
       "      <th>Tags_Ringing</th>\n",
       "      <th>Tags_Will revert after reading the email</th>\n",
       "      <th>Tags_switched off</th>\n",
       "    </tr>\n",
       "  </thead>\n",
       "  <tbody>\n",
       "    <tr>\n",
       "      <th>7681</th>\n",
       "      <td>0</td>\n",
       "      <td>-0.304384</td>\n",
       "      <td>0</td>\n",
       "      <td>1</td>\n",
       "      <td>0</td>\n",
       "      <td>0</td>\n",
       "      <td>0</td>\n",
       "      <td>0</td>\n",
       "      <td>0</td>\n",
       "      <td>1</td>\n",
       "      <td>0</td>\n",
       "      <td>0</td>\n",
       "      <td>1</td>\n",
       "      <td>0</td>\n",
       "      <td>0</td>\n",
       "      <td>0</td>\n",
       "      <td>0</td>\n",
       "      <td>1</td>\n",
       "      <td>0</td>\n",
       "      <td>0</td>\n",
       "    </tr>\n",
       "    <tr>\n",
       "      <th>984</th>\n",
       "      <td>0</td>\n",
       "      <td>-0.538073</td>\n",
       "      <td>0</td>\n",
       "      <td>0</td>\n",
       "      <td>1</td>\n",
       "      <td>0</td>\n",
       "      <td>0</td>\n",
       "      <td>0</td>\n",
       "      <td>0</td>\n",
       "      <td>1</td>\n",
       "      <td>0</td>\n",
       "      <td>0</td>\n",
       "      <td>1</td>\n",
       "      <td>0</td>\n",
       "      <td>1</td>\n",
       "      <td>0</td>\n",
       "      <td>0</td>\n",
       "      <td>0</td>\n",
       "      <td>0</td>\n",
       "      <td>0</td>\n",
       "    </tr>\n",
       "    <tr>\n",
       "      <th>8135</th>\n",
       "      <td>1</td>\n",
       "      <td>0.794688</td>\n",
       "      <td>0</td>\n",
       "      <td>1</td>\n",
       "      <td>0</td>\n",
       "      <td>0</td>\n",
       "      <td>0</td>\n",
       "      <td>0</td>\n",
       "      <td>0</td>\n",
       "      <td>1</td>\n",
       "      <td>0</td>\n",
       "      <td>0</td>\n",
       "      <td>0</td>\n",
       "      <td>0</td>\n",
       "      <td>0</td>\n",
       "      <td>0</td>\n",
       "      <td>0</td>\n",
       "      <td>0</td>\n",
       "      <td>0</td>\n",
       "      <td>0</td>\n",
       "    </tr>\n",
       "    <tr>\n",
       "      <th>6915</th>\n",
       "      <td>0</td>\n",
       "      <td>-0.614753</td>\n",
       "      <td>0</td>\n",
       "      <td>0</td>\n",
       "      <td>0</td>\n",
       "      <td>1</td>\n",
       "      <td>0</td>\n",
       "      <td>0</td>\n",
       "      <td>0</td>\n",
       "      <td>0</td>\n",
       "      <td>0</td>\n",
       "      <td>0</td>\n",
       "      <td>1</td>\n",
       "      <td>0</td>\n",
       "      <td>0</td>\n",
       "      <td>0</td>\n",
       "      <td>0</td>\n",
       "      <td>1</td>\n",
       "      <td>0</td>\n",
       "      <td>0</td>\n",
       "    </tr>\n",
       "    <tr>\n",
       "      <th>2712</th>\n",
       "      <td>0</td>\n",
       "      <td>-0.412100</td>\n",
       "      <td>0</td>\n",
       "      <td>0</td>\n",
       "      <td>0</td>\n",
       "      <td>1</td>\n",
       "      <td>0</td>\n",
       "      <td>0</td>\n",
       "      <td>0</td>\n",
       "      <td>0</td>\n",
       "      <td>0</td>\n",
       "      <td>0</td>\n",
       "      <td>1</td>\n",
       "      <td>0</td>\n",
       "      <td>0</td>\n",
       "      <td>0</td>\n",
       "      <td>0</td>\n",
       "      <td>0</td>\n",
       "      <td>1</td>\n",
       "      <td>0</td>\n",
       "    </tr>\n",
       "  </tbody>\n",
       "</table>\n",
       "</div>"
      ],
      "text/plain": [
       "      Do Not Email  Total Time Spent on Website  Lead Add Form  \\\n",
       "7681             0                    -0.304384              0   \n",
       "984              0                    -0.538073              0   \n",
       "8135             1                     0.794688              0   \n",
       "6915             0                    -0.614753              0   \n",
       "2712             0                    -0.412100              0   \n",
       "\n",
       "      Lead Source_Direct Traffic  Lead Source_Organic Search  \\\n",
       "7681                           1                           0   \n",
       "984                            0                           1   \n",
       "8135                           1                           0   \n",
       "6915                           0                           0   \n",
       "2712                           0                           0   \n",
       "\n",
       "      Lead Source_google  Last Activity_Converted to Lead  \\\n",
       "7681                   0                                0   \n",
       "984                    0                                0   \n",
       "8135                   0                                0   \n",
       "6915                   1                                0   \n",
       "2712                   1                                0   \n",
       "\n",
       "      Last Activity_Olark Chat Conversation  \\\n",
       "7681                                      0   \n",
       "984                                       0   \n",
       "8135                                      0   \n",
       "6915                                      0   \n",
       "2712                                      0   \n",
       "\n",
       "      Last Activity_Page Visited on Website  Last Activity_SMS Sent  \\\n",
       "7681                                      0                       1   \n",
       "984                                       0                       1   \n",
       "8135                                      0                       1   \n",
       "6915                                      0                       0   \n",
       "2712                                      0                       0   \n",
       "\n",
       "      Specialization_Travel and Tourism  \\\n",
       "7681                                  0   \n",
       "984                                   0   \n",
       "8135                                  0   \n",
       "6915                                  0   \n",
       "2712                                  0   \n",
       "\n",
       "      What is your current occupation_Student  \\\n",
       "7681                                        0   \n",
       "984                                         0   \n",
       "8135                                        0   \n",
       "6915                                        0   \n",
       "2712                                        0   \n",
       "\n",
       "      What is your current occupation_Unemployed  \\\n",
       "7681                                           1   \n",
       "984                                            1   \n",
       "8135                                           0   \n",
       "6915                                           1   \n",
       "2712                                           1   \n",
       "\n",
       "      What is your current occupation_Working Professional  \\\n",
       "7681                                                  0      \n",
       "984                                                   0      \n",
       "8135                                                  0      \n",
       "6915                                                  0      \n",
       "2712                                                  0      \n",
       "\n",
       "      Tags_Already a student  Tags_Closed by Horizzon  \\\n",
       "7681                       0                        0   \n",
       "984                        1                        0   \n",
       "8135                       0                        0   \n",
       "6915                       0                        0   \n",
       "2712                       0                        0   \n",
       "\n",
       "      Tags_Interested in other courses  Tags_Ringing  \\\n",
       "7681                                 0             1   \n",
       "984                                  0             0   \n",
       "8135                                 0             0   \n",
       "6915                                 0             1   \n",
       "2712                                 0             0   \n",
       "\n",
       "      Tags_Will revert after reading the email  Tags_switched off  \n",
       "7681                                         0                  0  \n",
       "984                                          0                  0  \n",
       "8135                                         0                  0  \n",
       "6915                                         0                  0  \n",
       "2712                                         1                  0  "
      ]
     },
     "execution_count": 150,
     "metadata": {},
     "output_type": "execute_result"
    }
   ],
   "source": [
    "X_test = X_test[col]\n",
    "X_test.head()"
   ]
  },
  {
   "cell_type": "code",
   "execution_count": 151,
   "metadata": {
    "id": "5Kp_irX2ddS3"
   },
   "outputs": [],
   "source": [
    "X_test_sm = sm.add_constant(X_test)"
   ]
  },
  {
   "cell_type": "markdown",
   "metadata": {
    "id": "fxKhAWP3djF9"
   },
   "source": [
    "Making predictions on the test set"
   ]
  },
  {
   "cell_type": "code",
   "execution_count": 152,
   "metadata": {
    "id": "eB4D77eJddbg"
   },
   "outputs": [],
   "source": [
    "y_test_pred = res.predict(X_test_sm).values.reshape(-1)"
   ]
  },
  {
   "cell_type": "code",
   "execution_count": 153,
   "metadata": {
    "colab": {
     "base_uri": "https://localhost:8080/"
    },
    "id": "dc9HJVGcddh2",
    "outputId": "6abdd61b-f2e3-4ed7-c747-8b49ce80808c"
   },
   "outputs": [
    {
     "data": {
      "text/plain": [
       "array([0.02054287, 0.01693746, 0.1763441 , 0.00367281, 0.90490476,\n",
       "       0.0083282 , 0.0755395 , 0.02625653, 0.96819536, 0.00339993])"
      ]
     },
     "execution_count": 153,
     "metadata": {},
     "output_type": "execute_result"
    }
   ],
   "source": [
    "y_test_pred[:10]"
   ]
  },
  {
   "cell_type": "code",
   "execution_count": 154,
   "metadata": {
    "colab": {
     "base_uri": "https://localhost:8080/",
     "height": 206
    },
    "id": "8c470G7kddlr",
    "outputId": "42ae75aa-fa33-4e9d-8352-a90d9b9dd1c7"
   },
   "outputs": [
    {
     "data": {
      "text/html": [
       "<div>\n",
       "<style scoped>\n",
       "    .dataframe tbody tr th:only-of-type {\n",
       "        vertical-align: middle;\n",
       "    }\n",
       "\n",
       "    .dataframe tbody tr th {\n",
       "        vertical-align: top;\n",
       "    }\n",
       "\n",
       "    .dataframe thead th {\n",
       "        text-align: right;\n",
       "    }\n",
       "</style>\n",
       "<table border=\"1\" class=\"dataframe\">\n",
       "  <thead>\n",
       "    <tr style=\"text-align: right;\">\n",
       "      <th></th>\n",
       "      <th>Lead</th>\n",
       "      <th>Lead_prob</th>\n",
       "      <th>Lead_ID</th>\n",
       "      <th>Lead_Score</th>\n",
       "    </tr>\n",
       "  </thead>\n",
       "  <tbody>\n",
       "    <tr>\n",
       "      <th>0</th>\n",
       "      <td>0</td>\n",
       "      <td>0.020543</td>\n",
       "      <td>7681</td>\n",
       "      <td>2.0</td>\n",
       "    </tr>\n",
       "    <tr>\n",
       "      <th>1</th>\n",
       "      <td>0</td>\n",
       "      <td>0.016937</td>\n",
       "      <td>984</td>\n",
       "      <td>2.0</td>\n",
       "    </tr>\n",
       "    <tr>\n",
       "      <th>2</th>\n",
       "      <td>0</td>\n",
       "      <td>0.176344</td>\n",
       "      <td>8135</td>\n",
       "      <td>18.0</td>\n",
       "    </tr>\n",
       "    <tr>\n",
       "      <th>3</th>\n",
       "      <td>0</td>\n",
       "      <td>0.003673</td>\n",
       "      <td>6915</td>\n",
       "      <td>0.0</td>\n",
       "    </tr>\n",
       "    <tr>\n",
       "      <th>4</th>\n",
       "      <td>1</td>\n",
       "      <td>0.904905</td>\n",
       "      <td>2712</td>\n",
       "      <td>90.0</td>\n",
       "    </tr>\n",
       "  </tbody>\n",
       "</table>\n",
       "</div>"
      ],
      "text/plain": [
       "   Lead  Lead_prob  Lead_ID  Lead_Score\n",
       "0     0   0.020543     7681         2.0\n",
       "1     0   0.016937      984         2.0\n",
       "2     0   0.176344     8135        18.0\n",
       "3     0   0.003673     6915         0.0\n",
       "4     1   0.904905     2712        90.0"
      ]
     },
     "execution_count": 154,
     "metadata": {},
     "output_type": "execute_result"
    }
   ],
   "source": [
    "y_test_pred_final = pd.DataFrame({'Lead':y_test.values, 'Lead_prob':y_test_pred})\n",
    "y_test_pred_final['Lead_ID'] = y_test.index\n",
    "y_test_pred_final['Lead_Score']=round(y_test_pred_final['Lead_prob']*100,0)\n",
    "y_test_pred_final.head()"
   ]
  },
  {
   "cell_type": "code",
   "execution_count": 155,
   "metadata": {
    "colab": {
     "base_uri": "https://localhost:8080/",
     "height": 206
    },
    "id": "NXFaPfXeddqA",
    "outputId": "124f6ffb-f54f-4071-c4e9-581af9e47144"
   },
   "outputs": [
    {
     "data": {
      "text/html": [
       "<div>\n",
       "<style scoped>\n",
       "    .dataframe tbody tr th:only-of-type {\n",
       "        vertical-align: middle;\n",
       "    }\n",
       "\n",
       "    .dataframe tbody tr th {\n",
       "        vertical-align: top;\n",
       "    }\n",
       "\n",
       "    .dataframe thead th {\n",
       "        text-align: right;\n",
       "    }\n",
       "</style>\n",
       "<table border=\"1\" class=\"dataframe\">\n",
       "  <thead>\n",
       "    <tr style=\"text-align: right;\">\n",
       "      <th></th>\n",
       "      <th>Lead</th>\n",
       "      <th>Lead_prob</th>\n",
       "      <th>Lead_ID</th>\n",
       "      <th>Lead_Score</th>\n",
       "      <th>predicted</th>\n",
       "    </tr>\n",
       "  </thead>\n",
       "  <tbody>\n",
       "    <tr>\n",
       "      <th>0</th>\n",
       "      <td>0</td>\n",
       "      <td>0.020543</td>\n",
       "      <td>7681</td>\n",
       "      <td>2.0</td>\n",
       "      <td>0</td>\n",
       "    </tr>\n",
       "    <tr>\n",
       "      <th>1</th>\n",
       "      <td>0</td>\n",
       "      <td>0.016937</td>\n",
       "      <td>984</td>\n",
       "      <td>2.0</td>\n",
       "      <td>0</td>\n",
       "    </tr>\n",
       "    <tr>\n",
       "      <th>2</th>\n",
       "      <td>0</td>\n",
       "      <td>0.176344</td>\n",
       "      <td>8135</td>\n",
       "      <td>18.0</td>\n",
       "      <td>0</td>\n",
       "    </tr>\n",
       "    <tr>\n",
       "      <th>3</th>\n",
       "      <td>0</td>\n",
       "      <td>0.003673</td>\n",
       "      <td>6915</td>\n",
       "      <td>0.0</td>\n",
       "      <td>0</td>\n",
       "    </tr>\n",
       "    <tr>\n",
       "      <th>4</th>\n",
       "      <td>1</td>\n",
       "      <td>0.904905</td>\n",
       "      <td>2712</td>\n",
       "      <td>90.0</td>\n",
       "      <td>1</td>\n",
       "    </tr>\n",
       "  </tbody>\n",
       "</table>\n",
       "</div>"
      ],
      "text/plain": [
       "   Lead  Lead_prob  Lead_ID  Lead_Score  predicted\n",
       "0     0   0.020543     7681         2.0          0\n",
       "1     0   0.016937      984         2.0          0\n",
       "2     0   0.176344     8135        18.0          0\n",
       "3     0   0.003673     6915         0.0          0\n",
       "4     1   0.904905     2712        90.0          1"
      ]
     },
     "execution_count": 155,
     "metadata": {},
     "output_type": "execute_result"
    }
   ],
   "source": [
    "# Creating new column 'predicted' with 1 if Churn_Prob > 0.5 else 0\n",
    "y_test_pred_final['predicted'] = y_test_pred_final.Lead_prob.map(lambda x: 1 if x > 0.35 else 0)\n",
    "y_test_pred_final.head()"
   ]
  },
  {
   "cell_type": "code",
   "execution_count": 156,
   "metadata": {
    "colab": {
     "base_uri": "https://localhost:8080/",
     "height": 278
    },
    "id": "7pWH-GtSeU8p",
    "outputId": "494825f7-b8cb-41d7-a1ed-e275225eb91a"
   },
   "outputs": [
    {
     "data": {
      "image/png": "[encoded data removed]",
      "text/plain": [
       "<Figure size 1080x288 with 2 Axes>"
      ]
     },
     "metadata": {
      "needs_background": "light"
     },
     "output_type": "display_data"
    }
   ],
   "source": [
    "plt.figure(figsize=[15,4])\n",
    "ax1=plt.subplot(1,2,1)\n",
    "y_test_pred_final[y_test_pred_final['Lead_Score']>=35.0].Lead.value_counts(normalize=True).plot.bar()\n",
    "plt.title('Hot Leads conversion based on lead_score>=35%')\n",
    "ax2=plt.subplot(1,2,2)\n",
    "y_test_pred_final[y_test_pred_final['Lead_Score']<35.0].Lead.value_counts(normalize=True).plot.bar()\n",
    "plt.title('Weak Leads based on lead_score<35%')\n",
    "plt.show()"
   ]
  },
  {
   "cell_type": "code",
   "execution_count": 157,
   "metadata": {
    "colab": {
     "base_uri": "https://localhost:8080/"
    },
    "id": "osYhL7qVddu5",
    "outputId": "d234bc26-063a-47c1-b46f-a032dbb2a2c1"
   },
   "outputs": [
    {
     "name": "stdout",
     "output_type": "stream",
     "text": [
      "0.9050632911392406\n"
     ]
    }
   ],
   "source": [
    "# Let's check the overall accuracy.\n",
    "print(metrics.accuracy_score(y_test_pred_final.Lead, y_test_pred_final.predicted))"
   ]
  },
  {
   "cell_type": "code",
   "execution_count": 158,
   "metadata": {
    "colab": {
     "base_uri": "https://localhost:8080/"
    },
    "id": "QrDCl8REdd4F",
    "outputId": "ae6d7a0d-8442-4437-fcaf-cf75dce37ba6"
   },
   "outputs": [
    {
     "data": {
      "text/plain": [
       "array([[1523,  153],\n",
       "       [ 102,  908]], dtype=int64)"
      ]
     },
     "execution_count": 158,
     "metadata": {},
     "output_type": "execute_result"
    }
   ],
   "source": [
    "##Calculating Sensitivity , Specificity , Precision and Recall\n",
    "confusion_test = metrics.confusion_matrix(y_test_pred_final.Lead, y_test_pred_final.predicted )\n",
    "confusion_test\n"
   ]
  },
  {
   "cell_type": "code",
   "execution_count": 159,
   "metadata": {
    "id": "v8e352Wcinbr"
   },
   "outputs": [],
   "source": [
    "TP = confusion_test[1,1] # true positive \n",
    "TN = confusion_test[0,0] # true negatives\n",
    "FP = confusion_test[0,1] # false positives\n",
    "FN = confusion_test[1,0] # false negatives"
   ]
  },
  {
   "cell_type": "code",
   "execution_count": 160,
   "metadata": {
    "colab": {
     "base_uri": "https://localhost:8080/"
    },
    "id": "fiz3BaQMino-",
    "outputId": "6fa29018-0e49-453c-bb3d-bd39ac36f20c"
   },
   "outputs": [
    {
     "data": {
      "text/plain": [
       "0.899009900990099"
      ]
     },
     "execution_count": 160,
     "metadata": {},
     "output_type": "execute_result"
    }
   ],
   "source": [
    "# Let's see the sensitivity of our logistic regression model\n",
    "TP / float(TP+FN)"
   ]
  },
  {
   "cell_type": "code",
   "execution_count": 161,
   "metadata": {
    "colab": {
     "base_uri": "https://localhost:8080/"
    },
    "id": "w-ixNqgminuF",
    "outputId": "61c7e2b0-f602-4d5e-c214-0186f060b569"
   },
   "outputs": [
    {
     "data": {
      "text/plain": [
       "0.9087112171837709"
      ]
     },
     "execution_count": 161,
     "metadata": {},
     "output_type": "execute_result"
    }
   ],
   "source": [
    "# Let us calculate specificity\n",
    "TN / float(TN+FP)"
   ]
  },
  {
   "cell_type": "code",
   "execution_count": 162,
   "metadata": {
    "colab": {
     "base_uri": "https://localhost:8080/"
    },
    "id": "buo3RFw4inz8",
    "outputId": "6ec72996-7fde-415a-a774-090f51ad652c"
   },
   "outputs": [
    {
     "data": {
      "text/plain": [
       "0.9126519585772175"
      ]
     },
     "execution_count": 162,
     "metadata": {},
     "output_type": "execute_result"
    }
   ],
   "source": [
    "#Precision\n",
    "\n",
    "#TP / TP + FP \n",
    "\n",
    "confusion[1,1]/(confusion[0,1]+confusion[1,1])"
   ]
  },
  {
   "cell_type": "code",
   "execution_count": 163,
   "metadata": {
    "colab": {
     "base_uri": "https://localhost:8080/"
    },
    "id": "02MfCTRFin4v",
    "outputId": "a7d812a5-186d-4697-a3b9-8b712b2d4019"
   },
   "outputs": [
    {
     "data": {
      "text/plain": [
       "0.849895178197065"
      ]
     },
     "execution_count": 163,
     "metadata": {},
     "output_type": "execute_result"
    }
   ],
   "source": [
    "#Recall\n",
    "#TP / TP + FN\n",
    "\n",
    "confusion[1,1]/(confusion[1,0]+confusion[1,1])"
   ]
  },
  {
   "cell_type": "markdown",
   "metadata": {
    "id": "P8POgjVYPPq5"
   },
   "source": [
    "# Final Inferences:\n",
    "\n",
    "**Training Dataset: ( For the cut-off 0.35----Optimal )**\n",
    "\n",
    "1. Sensitivity : 84%\n",
    "2. Specificity : 95%\n",
    "3. Accuracy : 91%\n",
    "\n",
    "**Training Dataset: ( For the cut-off 0.5 )**\n",
    "\n",
    "1. Sensitivity : 85%\n",
    "2. Specificity : 95%\n",
    "3. Accuracy : 91%\n",
    "\n",
    "We could see that there are no major changes in the values , however as observed before if the business is **stringent about the lead conversion** , **then we might want to reduce the sensitivity score , so we would have chosen the 0.5 instead of 0.35 as the cut-off 0.5 , the error in specificity measure is less .**\n",
    "However if the business **wants only the accracy measure (i.,e converted should be predicted as converted correctly and vice-versa) then the cut-off 0.35 is precise **\n",
    "\n",
    "**Testing Dataset: **\n",
    "\n",
    "1. Sensitivity : 90%\n",
    "2. Specificity : 91%\n",
    "3. Accuracy : 91%\n",
    "\n",
    "As seen the range of Sensitivity , Specificity and Accuracy remain the same as that of in training data . Our model has been great!\n",
    "\n"
   ]
  }
 ],
 "metadata": {
  "colab": {
   "collapsed_sections": [],
   "name": "Leads CaseStudy.ipynb",
   "provenance": []
  },
  "kernelspec": {
   "display_name": "Python 3",
   "language": "python",
   "name": "python3"
  },
  "language_info": {
   "codemirror_mode": {
    "name": "ipython",
    "version": 3
   },
   "file_extension": ".py",
   "mimetype": "text/x-python",
   "name": "python",
   "nbconvert_exporter": "python",
   "pygments_lexer": "ipython3",
   "version": "3.7.0"
  }
 },
 "nbformat": 4,
 "nbformat_minor": 1
}
